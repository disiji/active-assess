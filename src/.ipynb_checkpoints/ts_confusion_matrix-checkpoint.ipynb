{
 "cells": [
  {
   "cell_type": "code",
   "execution_count": 2,
   "metadata": {},
   "outputs": [],
   "source": [
    "import argparse\n",
    "import pathlib\n",
    "import random\n",
    "from collections import deque\n",
    "from typing import List, Dict, Tuple, Union\n",
    "from data import Dataset\n",
    "from data_utils import *\n",
    "from sampling import *\n",
    "from models import BetaBernoulli\n",
    "import matplotlib.pyplot as plt\n",
    "import numpy as np\n",
    "from tqdm import tqdm\n",
    "%matplotlib inline  \n",
    "\n",
    "import matplotlib;matplotlib.rcParams['font.size'] = 10\n",
    "import matplotlib;matplotlib.rcParams['font.family'] = 'serif'\n",
    "\n",
    "LOG_FREQ = 10\n",
    "output_dir = pathlib.Path(\"../output/confusion_matrix\")"
   ]
  },
  {
   "cell_type": "code",
   "execution_count": 3,
   "metadata": {},
   "outputs": [],
   "source": [
    "dataset_name = 'cifar100'\n",
    "metric = 'confusion_matrix' # 'ece', 'confusion_matrix'\n",
    "group_method = 'predicted_class'\n",
    "pseudocount = 1\n",
    "RUNS = 100\n",
    "experiment_name = '%s_pseudocount%d' % (dataset_name, pseudocount)\n",
    "superclass = False #todo: superclass=true\n",
    "cost_matrix = None"
   ]
  },
  {
   "cell_type": "code",
   "execution_count": 12,
   "metadata": {},
   "outputs": [
    {
     "data": {
      "text/plain": [
       "array([[1.88024593e-03, 5.34809374e-04, 5.08945909e-03, ...,\n",
       "        3.60415221e-02, 1.26362656e-02, 7.29429658e-03],\n",
       "       [1.20535513e-02, 3.32202906e-02, 8.07342160e-03, ...,\n",
       "        2.00502184e-02, 1.04133782e-02, 1.37992020e-03],\n",
       "       [8.11679458e-04, 7.60922468e-03, 9.01877827e-03, ...,\n",
       "        2.46470193e-03, 5.12752202e-04, 1.90975233e-02],\n",
       "       ...,\n",
       "       [2.10216894e-03, 8.13118993e-04, 1.18935925e-02, ...,\n",
       "        2.39154203e-05, 1.73430532e-02, 1.86172238e-03],\n",
       "       [1.66243966e-03, 2.17193681e-03, 2.59072858e-02, ...,\n",
       "        5.49217666e-03, 1.83261879e-02, 1.84449180e-03],\n",
       "       [7.98211278e-04, 3.15525239e-03, 8.69341971e-04, ...,\n",
       "        1.62237102e-02, 7.81977688e-03, 2.49852667e-03]])"
      ]
     },
     "execution_count": 12,
     "metadata": {},
     "output_type": "execute_result"
    }
   ],
   "source": [
    "model.sample()"
   ]
  }
 ],
 "metadata": {
  "kernelspec": {
   "display_name": "Python 3",
   "language": "python",
   "name": "python3"
  },
  "language_info": {
   "codemirror_mode": {
    "name": "ipython",
    "version": 3
   },
   "file_extension": ".py",
   "mimetype": "text/x-python",
   "name": "python",
   "nbconvert_exporter": "python",
   "pygments_lexer": "ipython3",
   "version": "3.7.6"
  }
 },
 "nbformat": 4,
 "nbformat_minor": 4
}
