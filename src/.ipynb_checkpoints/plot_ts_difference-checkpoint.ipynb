{
 "cells": [
  {
   "cell_type": "code",
   "execution_count": 1,
   "metadata": {},
   "outputs": [],
   "source": [
    "import argparse\n",
    "import pathlib\n",
    "import random\n",
    "from collections import deque\n",
    "from typing import List, Dict, Tuple, Union\n",
    "from data import Dataset, SuperclassDataset\n",
    "from data_utils import *\n",
    "from models import BetaBernoulli\n",
    "import matplotlib.pyplot as plt\n",
    "import numpy as np\n",
    "from tqdm import tqdm\n",
    "from sampling import *\n",
    "%matplotlib inline  \n",
    "\n",
    "import matplotlib;matplotlib.rcParams['font.size'] = 10\n",
    "import matplotlib;matplotlib.rcParams['font.family'] = 'serif'\n",
    "LINEWIDTH = 13.97\n",
    "LOG_FREQ = 10\n",
    "output_dir = pathlib.Path(\"../output/difference_random_2_groups\")"
   ]
  },
  {
   "cell_type": "code",
   "execution_count": 2,
   "metadata": {},
   "outputs": [],
   "source": [
    "DATASET_LIST = ['superclass_cifar100', 'dbpedia', '20newsgroup', 'svhn'] #\n",
    "method_list = ['random_arm_symmetric', 'random_data_symmetric', 'random_arm_informed', \\\n",
    "               'random_data_informed', 'ts_uniform', 'ts_informed']\n",
    "method_format = {#'random_arm_symmetric': ('Random Arm Symmetric', 'g', '.', '--'), \n",
    "                 'random_data_symmetric': ('Random Uninformative', 'b', '^', '--'), \n",
    "                 #'random_arm_informed': ('Random Arm Informed', 'g', '.', '-'), \n",
    "                 'random_data_informed': ('Random Informative', 'b', '^', '-'), \n",
    "                 #'ts_uniform': ('TS Symmetric', 'k', '*', '-'), \n",
    "                 'ts_informed': ('TS Informative', 'r', '+', '-'),\n",
    "                }\n",
    "\n",
    "metric = 'difference'\n",
    "group_method = 'predicted_class'\n",
    "pseudocount = 2\n",
    "runs = 100\n",
    "rope_width = 0.05"
   ]
  },
  {
   "cell_type": "code",
   "execution_count": 3,
   "metadata": {},
   "outputs": [
    {
     "name": "stderr",
     "output_type": "stream",
     "text": [
      "100%|██████████| 4/4 [00:00<00:00, 108.89it/s]\n"
     ]
    }
   ],
   "source": [
    "configs = {}\n",
    "samples = {}\n",
    "mpe_log = {}\n",
    "rope_eval = {}\n",
    "\n",
    "for dataset_name in tqdm(DATASET_LIST): # takes 4 minutes to load results of imagenet\n",
    "    experiment_name = '%s_groupby_%s_pseudocount%.2f' % (dataset_name, group_method, pseudocount)\n",
    "    samples[dataset_name], mpe_log[dataset_name], rope_eval[dataset_name] = {}, {}, {}\n",
    "    \n",
    "    configs[dataset_name] = np.load(open(output_dir / experiment_name / 'configs.npy', 'rb'))\n",
    "    for method in method_list:\n",
    "        rope_eval[dataset_name][method] = np.load(open(output_dir / experiment_name / \\\n",
    "                                                       ('rope_eval_%s.npy' % method), 'rb'))"
   ]
  },
  {
   "cell_type": "code",
   "execution_count": 4,
   "metadata": {
    "scrolled": true
   },
   "outputs": [
    {
     "name": "stderr",
     "output_type": "stream",
     "text": [
      "100%|██████████| 100/100 [00:00<00:00, 3825.14it/s]\n",
      "100%|██████████| 100/100 [00:00<00:00, 3795.27it/s]\n",
      "100%|██████████| 100/100 [00:00<00:00, 3968.01it/s]\n",
      "100%|██████████| 100/100 [00:00<00:00, 3883.54it/s]\n"
     ]
    }
   ],
   "source": [
    "def rope(alpha0, alpha1, beta0, beta1):\n",
    "    num_samples = 1000\n",
    "    theta_0 = np.random.beta(alpha0, beta0, size=(num_samples))\n",
    "    theta_1 = np.random.beta(alpha1, beta1, size=(num_samples))\n",
    "    delta = theta_0 - theta_1\n",
    "    return [(delta < -rope_width).mean(), (np.abs(delta) <= rope_width).mean(), (delta > rope_width).mean()]\n",
    "\n",
    "counts = dict()\n",
    "budgets = dict()\n",
    "rope_ground_truth_dict = dict()\n",
    "\n",
    "for i, dataset_name in enumerate(DATASET_LIST):\n",
    "        \n",
    "    counts[dataset_name] = {}\n",
    "    budgets[dataset_name] = np.zeros((runs,))\n",
    "    rope_ground_truth_dict[dataset_name] = np.zeros((runs,))\n",
    "    for method_name in method_format:  \n",
    "        counts[dataset_name][method_name] = []\n",
    "\n",
    "    if dataset_name == 'superclass_cifar100':\n",
    "        superclass = True\n",
    "        dataset = SuperclassDataset.load_from_text('cifar100', CIFAR100_SUPERCLASS_LOOKUP)\n",
    "    else:\n",
    "        superclass = False\n",
    "        dataset = Dataset.load_from_text(dataset_name)\n",
    "        \n",
    "    dataset.group(group_method = group_method)        \n",
    "    dataset_len = dataset.__len__()\n",
    "    dataset_accuracy_k = dataset.accuracy_k\n",
    "    dataset_weight_k = dataset.weight_k\n",
    "    del dataset\n",
    "        \n",
    "    for r in tqdm(range(runs)):\n",
    "        group0, group1, budget, delta = configs[dataset_name][r]\n",
    "        group0, group1, budget = int(group0), int(group1), int(budget)\n",
    "        budgets[dataset_name][r] = budget\n",
    "        rope_ground_truth = rope(dataset_len * dataset_weight_k[group0] * (dataset_accuracy_k[group0]+ 1e-6), \n",
    "             dataset_len * dataset_weight_k[group1] * (dataset_accuracy_k[group1]+ 1e-6), \n",
    "             dataset_len * dataset_weight_k[group0] * (1-dataset_accuracy_k[group0] + 1e-6),\n",
    "             dataset_len * dataset_weight_k[group1] * (1-dataset_accuracy_k[group1] + 1e-6))\n",
    "\n",
    "        if delta < -rope_width:\n",
    "            rope_region = 0\n",
    "        elif delta > rope_width:\n",
    "            rope_region = 2\n",
    "        else:\n",
    "            rope_region = 1\n",
    "            \n",
    "        rope_ground_truth_dict[dataset_name][r] = rope_ground_truth[rope_region]\n",
    "        \n",
    "        for method_name in method_format:  \n",
    "            rope_ = rope_eval[dataset_name][method_name][r,:budget//LOG_FREQ, rope_region]\n",
    "            error_rate = np.abs(rope_ - rope_ground_truth[rope_region]) / rope_ground_truth[rope_region]\n",
    "            error = (error_rate < 0.05)\n",
    "            counts[dataset_name][method_name].append(np.argmax(error)*LOG_FREQ+LOG_FREQ)\n",
    "            #counts[dataset_name][method_name].append(np.abs(rope_[15] - rope_ground_truth[rope_region]))"
   ]
  },
  {
   "cell_type": "code",
   "execution_count": 5,
   "metadata": {},
   "outputs": [],
   "source": [
    "val = np.zeros((len(DATASET_LIST), len(method_format)))\n",
    "for i, dataset_name in enumerate(DATASET_LIST):\n",
    "    tmp = []\n",
    "    for method_name in method_format:\n",
    "        tmp.append(np.mean(counts[dataset_name][method_name]))\n",
    "    val[i] = np.array(tmp)\n",
    "df = pd.DataFrame(val.T, \n",
    "                  index=[method_format[i][0] for i in method_format], \n",
    "                  columns=[DATASET_NAMES[dataset_name] for dataset_name in DATASET_LIST])"
   ]
  },
  {
   "cell_type": "code",
   "execution_count": 6,
   "metadata": {},
   "outputs": [
    {
     "data": {
      "text/html": [
       "<div>\n",
       "<style scoped>\n",
       "    .dataframe tbody tr th:only-of-type {\n",
       "        vertical-align: middle;\n",
       "    }\n",
       "\n",
       "    .dataframe tbody tr th {\n",
       "        vertical-align: top;\n",
       "    }\n",
       "\n",
       "    .dataframe thead th {\n",
       "        text-align: right;\n",
       "    }\n",
       "</style>\n",
       "<table border=\"1\" class=\"dataframe\">\n",
       "  <thead>\n",
       "    <tr style=\"text-align: right;\">\n",
       "      <th></th>\n",
       "      <th>CIFAR-100, Superclass</th>\n",
       "      <th>DBpedia</th>\n",
       "      <th>20 Newsgroups</th>\n",
       "      <th>SVHN</th>\n",
       "    </tr>\n",
       "  </thead>\n",
       "  <tbody>\n",
       "    <tr>\n",
       "      <th>Random Uninformative</th>\n",
       "      <td>252.5</td>\n",
       "      <td>291.9</td>\n",
       "      <td>259.4</td>\n",
       "      <td>486.8</td>\n",
       "    </tr>\n",
       "    <tr>\n",
       "      <th>Random Informative</th>\n",
       "      <td>182.4</td>\n",
       "      <td>110.3</td>\n",
       "      <td>213.6</td>\n",
       "      <td>292.0</td>\n",
       "    </tr>\n",
       "    <tr>\n",
       "      <th>TS Informative</th>\n",
       "      <td>175.7</td>\n",
       "      <td>107.9</td>\n",
       "      <td>242.2</td>\n",
       "      <td>251.8</td>\n",
       "    </tr>\n",
       "  </tbody>\n",
       "</table>\n",
       "</div>"
      ],
      "text/plain": [
       "                      CIFAR-100, Superclass  DBpedia  20 Newsgroups   SVHN\n",
       "Random Uninformative                  252.5    291.9          259.4  486.8\n",
       "Random Informative                    182.4    110.3          213.6  292.0\n",
       "TS Informative                        175.7    107.9          242.2  251.8"
      ]
     },
     "execution_count": 6,
     "metadata": {},
     "output_type": "execute_result"
    }
   ],
   "source": [
    "df"
   ]
  },
  {
   "cell_type": "code",
   "execution_count": 7,
   "metadata": {},
   "outputs": [
    {
     "name": "stdout",
     "output_type": "stream",
     "text": [
      "\\begin{tabular}{lrrrr}\n",
      "\\toprule\n",
      "{} &  CIFAR-100, Superclass &  DBpedia &  20 Newsgroups &   SVHN \\\\\n",
      "\\midrule\n",
      "Random Uninformative &                  252.5 &    291.9 &          259.4 &  486.8 \\\\\n",
      "Random Informative   &                  182.4 &    110.3 &          213.6 &  292.0 \\\\\n",
      "TS Informative       &                  175.7 &    107.9 &          242.2 &  251.8 \\\\\n",
      "\\bottomrule\n",
      "\\end{tabular}\n",
      "\n"
     ]
    }
   ],
   "source": [
    "print(df.to_latex())"
   ]
  },
  {
   "cell_type": "code",
   "execution_count": 8,
   "metadata": {},
   "outputs": [
    {
     "data": {
      "image/png": "[encoded data removed]",
      "text/plain": [
       "<Figure size 432x576 with 1 Axes>"
      ]
     },
     "metadata": {
      "needs_background": "light"
     },
     "output_type": "display_data"
    }
   ],
   "source": [
    "# set width of bar\n",
    "barWidth = 0.25\n",
    " \n",
    "# set height of bar\n",
    "bars1 = df.values[0]\n",
    "bars2 = df.values[1]\n",
    "bars3 = df.values[2]\n",
    " \n",
    "# Set position of bar on X axis\n",
    "r1 = np.arange(len(bars1))\n",
    "r2 = [x + barWidth for x in r1]\n",
    "r3 = [x + barWidth for x in r2]\n",
    " \n",
    "# Make the plot\n",
    "plt.figure(figsize=(6,8))\n",
    "\n",
    "plt.bar(r1, bars1, color='blue', width=barWidth, edgecolor='white', label='Random Uninformative', alpha=0.6)\n",
    "plt.bar(r2, bars2, color='blue', width=barWidth, edgecolor='white', label='Random Informative', alpha=0.8)\n",
    "plt.bar(r3, bars3, color='red', width=barWidth, edgecolor='white', label='TS Informative')\n",
    " \n",
    "# Add xticks on the middle of the group bars\n",
    "plt.xlabel('group', fontweight='bold')\n",
    "plt.xticks([r + barWidth for r in range(len(bars1))], [DATASET_NAMES[dataset_name] for dataset_name in DATASET_LIST])\n",
    " \n",
    "# Create legend & Show graphic\n",
    "plt.legend()\n",
    "plt.show()"
   ]
  },
  {
   "cell_type": "code",
   "execution_count": 9,
   "metadata": {},
   "outputs": [
    {
     "name": "stdout",
     "output_type": "stream",
     "text": [
      "[997.95, 9997.0, 738.41, 4941.1] [0.9998499999999999, 1.0, 0.89283, 1.0]\n"
     ]
    }
   ],
   "source": [
    "budget_list = []\n",
    "rope_list = []\n",
    "for i, dataset_name in enumerate(DATASET_LIST):\n",
    "    budget_list.append(budgets[dataset_name].mean())\n",
    "    rope_list.append(rope_ground_truth_dict[dataset_name].mean())\n",
    "print(budget_list,rope_list)"
   ]
  },
  {
   "cell_type": "code",
   "execution_count": 10,
   "metadata": {},
   "outputs": [],
   "source": [
    "dataset = SuperclassDataset.load_from_text('cifar100', CIFAR100_SUPERCLASS_LOOKUP)\n",
    "dataset.group(group_method = group_method)  \n",
    "deques = dataset.enqueue()"
   ]
  },
  {
   "cell_type": "code",
   "execution_count": 11,
   "metadata": {},
   "outputs": [
    {
     "name": "stdout",
     "output_type": "stream",
     "text": [
      "491\n",
      "482\n",
      "513\n",
      "491\n",
      "509\n",
      "496\n",
      "507\n",
      "468\n",
      "496\n",
      "517\n",
      "502\n",
      "483\n",
      "461\n",
      "489\n",
      "489\n",
      "518\n",
      "568\n",
      "517\n",
      "488\n",
      "515\n"
     ]
    },
    {
     "data": {
      "text/plain": [
       "{'beaver': 'aquatic_mammals',\n",
       " 'dolphin': 'aquatic_mammals',\n",
       " 'otter': 'aquatic_mammals',\n",
       " 'seal': 'aquatic_mammals',\n",
       " 'whale': 'aquatic_mammals',\n",
       " 'aquarium_fish': 'fish',\n",
       " 'flatfish': 'fish',\n",
       " 'ray': 'fish',\n",
       " 'shark': 'fish',\n",
       " 'trout': 'fish',\n",
       " 'orchid': 'flowers',\n",
       " 'poppy': 'flowers',\n",
       " 'rose': 'flowers',\n",
       " 'sunflower': 'flowers',\n",
       " 'tulip': 'flowers',\n",
       " 'bottle': 'food_containers',\n",
       " 'bowl': 'food_containers',\n",
       " 'can': 'food_containers',\n",
       " 'cup': 'food_containers',\n",
       " 'plate': 'food_containers',\n",
       " 'apple': 'fruit_and_vegetables',\n",
       " 'mushroom': 'fruit_and_vegetables',\n",
       " 'orange': 'fruit_and_vegetables',\n",
       " 'pear': 'fruit_and_vegetables',\n",
       " 'sweet_pepper': 'fruit_and_vegetables',\n",
       " 'clock': 'household_electrical_devices',\n",
       " 'keyboard': 'household_electrical_devices',\n",
       " 'lamp': 'household_electrical_devices',\n",
       " 'telephone': 'household_electrical_devices',\n",
       " 'television': 'household_electrical_devices',\n",
       " 'bed': 'household_furniture',\n",
       " 'chair': 'household_furniture',\n",
       " 'couch': 'household_furniture',\n",
       " 'table': 'household_furniture',\n",
       " 'wardrobe': 'household_furniture',\n",
       " 'bee': 'insects',\n",
       " 'beetle': 'insects',\n",
       " 'butterfly': 'insects',\n",
       " 'caterpillar': 'insects',\n",
       " 'cockroach': 'insects',\n",
       " 'bear': 'large_carnivores',\n",
       " 'leopard': 'large_carnivores',\n",
       " 'lion': 'large_carnivores',\n",
       " 'tiger': 'large_carnivores',\n",
       " 'wolf': 'large_carnivores',\n",
       " 'bridge': 'large_man-made_outdoor_things',\n",
       " 'castle': 'large_man-made_outdoor_things',\n",
       " 'house': 'large_man-made_outdoor_things',\n",
       " 'road': 'large_man-made_outdoor_things',\n",
       " 'skyscraper': 'large_man-made_outdoor_things',\n",
       " 'cloud': 'large_natural_outdoor_scenes',\n",
       " 'forest': 'large_natural_outdoor_scenes',\n",
       " 'mountain': 'large_natural_outdoor_scenes',\n",
       " 'plain': 'large_natural_outdoor_scenes',\n",
       " 'sea': 'large_natural_outdoor_scenes',\n",
       " 'camel': 'large_omnivores_and_herbivores',\n",
       " 'cattle': 'large_omnivores_and_herbivores',\n",
       " 'chimpanzee': 'large_omnivores_and_herbivores',\n",
       " 'elephant': 'large_omnivores_and_herbivores',\n",
       " 'kangaroo': 'large_omnivores_and_herbivores',\n",
       " 'fox': 'medium_mammals',\n",
       " 'porcupine': 'medium_mammals',\n",
       " 'possum': 'medium_mammals',\n",
       " 'raccoon': 'medium_mammals',\n",
       " 'skunk': 'medium_mammals',\n",
       " 'crab': 'non-insect_invertebrates',\n",
       " 'lobster': 'non-insect_invertebrates',\n",
       " 'snail': 'non-insect_invertebrates',\n",
       " 'spider': 'non-insect_invertebrates',\n",
       " 'worm': 'non-insect_invertebrates',\n",
       " 'baby': 'people',\n",
       " 'boy': 'people',\n",
       " 'girl': 'people',\n",
       " 'man': 'people',\n",
       " 'woman': 'people',\n",
       " 'crocodile': 'reptiles',\n",
       " 'dinosaur': 'reptiles',\n",
       " 'lizard': 'reptiles',\n",
       " 'snake': 'reptiles',\n",
       " 'turtle': 'reptiles',\n",
       " 'hamster': 'small_mammals',\n",
       " 'mouse': 'small_mammals',\n",
       " 'rabbit': 'small_mammals',\n",
       " 'shrew': 'small_mammals',\n",
       " 'squirrel': 'small_mammals',\n",
       " 'maple_tree': 'trees',\n",
       " 'oak_tree': 'trees',\n",
       " 'palm_tree': 'trees',\n",
       " 'pine_tree': 'trees',\n",
       " 'willow_tree': 'trees',\n",
       " 'bicycle': 'vehicles_1',\n",
       " 'bus': 'vehicles_1',\n",
       " 'motorcycle': 'vehicles_1',\n",
       " 'pickup_truck': 'vehicles_1',\n",
       " 'train': 'vehicles_1',\n",
       " 'lawn_mower': 'vehicles_2',\n",
       " 'rocket': 'vehicles_2',\n",
       " 'streetcar': 'vehicles_2',\n",
       " 'tank': 'vehicles_2',\n",
       " 'tractor': 'vehicles_2'}"
      ]
     },
     "execution_count": 11,
     "metadata": {},
     "output_type": "execute_result"
    }
   ],
   "source": [
    "for i in deques:\n",
    "    print(len(i))\n",
    "CIFAR100_SUPERCLASS_LOOKUP = {class_: superclass for superclass, class_list in\n",
    "                              CIFAR100_REVERSE_SUPERCLASS_LOOKUP.items() for class_ in\n",
    "                              class_list}\n",
    "CIFAR100_SUPERCLASS_LOOKUP"
   ]
  },
  {
   "cell_type": "code",
   "execution_count": 12,
   "metadata": {},
   "outputs": [
    {
     "data": {
      "text/plain": [
       "20"
      ]
     },
     "execution_count": 12,
     "metadata": {},
     "output_type": "execute_result"
    }
   ],
   "source": [
    "dataset.num_groups"
   ]
  }
 ],
 "metadata": {
  "kernelspec": {
   "display_name": "Python 3",
   "language": "python",
   "name": "python3"
  },
  "language_info": {
   "codemirror_mode": {
    "name": "ipython",
    "version": 3
   },
   "file_extension": ".py",
   "mimetype": "text/x-python",
   "name": "python",
   "nbconvert_exporter": "python",
   "pygments_lexer": "ipython3",
   "version": "3.7.6"
  }
 },
 "nbformat": 4,
 "nbformat_minor": 4
}
