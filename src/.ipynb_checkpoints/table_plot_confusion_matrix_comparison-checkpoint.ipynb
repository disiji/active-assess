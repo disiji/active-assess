{
 "cells": [
  {
   "cell_type": "code",
   "execution_count": 1,
   "metadata": {},
   "outputs": [],
   "source": [
    "import argparse\n",
    "import pathlib\n",
    "import random\n",
    "from collections import deque\n",
    "from typing import List, Dict, Tuple, Union\n",
    "from data import Dataset, SuperclassDataset\n",
    "from data_utils import *\n",
    "from sampling import *\n",
    "from models import BetaBernoulli\n",
    "import matplotlib.pyplot as plt\n",
    "import numpy as np\n",
    "from tqdm import tqdm\n",
    "from utils import mean_reciprocal_rank\n",
    "%matplotlib inline  \n",
    "\n",
    "import matplotlib;matplotlib.rcParams['font.size'] = 10\n",
    "import matplotlib;matplotlib.rcParams['font.family'] = 'serif'\n",
    "LINEWIDTH = 13.97\n",
    "\n",
    "LOG_FREQ = 10\n",
    "RUNS = 100\n",
    "method_list = ['random_arm', 'random_data', 'random_arm_informed', 'random_data_informed', 'ts_uniform', 'ts_informed']\n",
    "method_format = {'random_arm': ('Random Arm', 'b', '.', '-'), \n",
    "                 'random_data': ('Random Datapoint', 'g', '^', '-'), \n",
    "                 'random_arm_informed': ('Random Arm Informed', 'b', '.', '--'), \n",
    "                 'random_data_informed': ('Random Datapoint Informed', 'g', '^', '--'), \n",
    "                 'ts_uniform': ('TS Symmetric', 'k', '*', '-'), \n",
    "                 'ts_informed': ('TS Informed', 'r', '+', '-'),\n",
    "                }\n",
    "DATASET_LIST = ['cifar100', 'svhn', '20newsgroup', 'dbpedia'] #'imagenet', \n",
    "output_dir = pathlib.Path(\"../output/confusion_matrix\")"
   ]
  },
  {
   "cell_type": "code",
   "execution_count": 2,
   "metadata": {},
   "outputs": [],
   "source": [
    "metric = 'confusion_matrix' # 'ece', 'confusion_matrix'\n",
    "group_method = 'predicted_class'\n",
    "pseudocount = 1\n",
    "RUNS = 100\n",
    "superclass = False #todo: superclass=true\n",
    "cost_matrix = None\n",
    "topk = 1"
   ]
  },
  {
   "cell_type": "code",
   "execution_count": 3,
   "metadata": {
    "scrolled": false
   },
   "outputs": [
    {
     "name": "stdout",
     "output_type": "stream",
     "text": [
      "cifar100 False\n",
      "sss\n",
      "svhn False\n",
      "sss\n",
      "20newsgroup False\n",
      "sss\n",
      "dbpedia False\n",
      "sss\n"
     ]
    }
   ],
   "source": [
    "# load results and compute ground truth\n",
    "ground_truth = {}\n",
    "weight_k = {}\n",
    "l2_error = {}\n",
    "logp = {} # log likelihood of each estimated confusion matrix under dirichlet distribution\n",
    "\n",
    "for dataset_name in DATASET_LIST: # takes 4 minutes to load results of imagenet\n",
    "    ground_truth[dataset_name] = {}\n",
    "    l2_error[dataset_name] = {}\n",
    "    logp[dataset_name] = {}\n",
    "    \n",
    "    # load data\n",
    "    if len(dataset_name) > len('superclass') and dataset_name[-len('superclass'):] == 'superclass':\n",
    "        superclass = True\n",
    "    else:\n",
    "        superclass = False\n",
    "    \n",
    "    print(dataset_name, superclass)\n",
    "    experiment_name = '%s_top%d_pseudocount%d' % (dataset_name, topk, pseudocount)\n",
    "    if superclass:\n",
    "        dataset = SuperclassDataset.load_from_text(dataset_name.split('_')[0], CIFAR100_SUPERCLASS_LOOKUP)\n",
    "        # no need to group (grouped by superclass automatically)\n",
    "    else:\n",
    "        dataset = Dataset.load_from_text(dataset_name)\n",
    "        dataset.group(group_method = group_method)\n",
    "    # ground truth\n",
    "    weight_k[dataset_name] = dataset.weight_k\n",
    "    confusion_probs = dataset.confusion_probs\n",
    "    confusion_probs = confusion_probs + np.ones(confusion_probs.shape) * 1e-6\n",
    "    confusion_probs = confusion_probs / confusion_probs.sum(axis=1)\n",
    "    ground_truth[dataset_name]['confusion_matrix'] = confusion_probs\n",
    "    ground_truth[dataset_name]['confusion_matrix'] = \\\n",
    "        np.load(open(output_dir / experiment_name / ('mpe_log_%s_run%d.npy' % ('ts_uniform', 0)), 'rb'))[-1]\n",
    "     # initalize l2 error\n",
    "    for method_name in method_list:\n",
    "        l2_error[dataset_name][method_name] = np.zeros((RUNS, dataset.__len__() // LOG_FREQ))\n",
    "        logp[dataset_name][method_name] = np.zeros((RUNS, dataset.__len__() // LOG_FREQ))\n",
    "        # load results\n",
    "        for r in range(RUNS):\n",
    "            mpe_log = np.load(open(output_dir / experiment_name / ('mpe_log_%s_run%d.npy' % (method_name, r)), 'rb'))            \n",
    "            l2_eval = mpe_log - ground_truth[dataset_name]['confusion_matrix']\n",
    "            l2_eval = l2_eval ** 2\n",
    "            l2_eval = np.sum(l2_eval,axis=2)\n",
    "            l2_error[dataset_name][method_name][r] = np.array([(l2_eval[i] * weight_k[dataset_name]).sum()\n",
    "                                                               for i in range(dataset.__len__() // LOG_FREQ)])\n",
    "    # baseline\n",
    "    print('sss')\n",
    "    mpe_diag = np.identity(dataset.num_groups)\n",
    "    l2_eval = mpe_diag - ground_truth[dataset_name]['confusion_matrix']\n",
    "    l2_eval = l2_eval ** 2\n",
    "    l2_eval = np.sum(l2_eval,axis=1)\n",
    "    l2_error[dataset_name]['diagonal'] = np.array((l2_eval * weight_k[dataset_name]).sum())\n",
    "\n",
    "    mpe_ones = np.ones((dataset.num_groups,dataset.num_groups))\n",
    "    mpe_ones /= dataset.num_groups\n",
    "    l2_eval = mpe_ones - ground_truth[dataset_name]['confusion_matrix']\n",
    "    l2_eval = l2_eval ** 2\n",
    "    l2_eval = np.sum(l2_eval,axis=1)\n",
    "    l2_error[dataset_name]['ones'] = np.array((l2_eval * weight_k[dataset_name]).sum())\n",
    "\n",
    "    mpe_scores = confusion_probs\n",
    "    l2_eval = mpe_scores - ground_truth[dataset_name]['confusion_matrix']\n",
    "    l2_eval = l2_eval ** 2\n",
    "    l2_eval = np.sum(l2_eval,axis=1)\n",
    "    l2_error[dataset_name]['scores'] = np.array((l2_eval * weight_k[dataset_name]).sum())\n",
    "    "
   ]
  },
  {
   "cell_type": "markdown",
   "metadata": {},
   "source": [
    "# $L_2$"
   ]
  },
  {
   "cell_type": "code",
   "execution_count": 4,
   "metadata": {},
   "outputs": [
    {
     "data": {
      "text/plain": [
       "Text(0, 0.5, '$L_2$ Error')"
      ]
     },
     "execution_count": 4,
     "metadata": {},
     "output_type": "execute_result"
    },
    {
     "data": {
      "image/png": "[encoded data removed]",
      "text/plain": [
       "<Figure size 1005.84x216 with 4 Axes>"
      ]
     },
     "metadata": {
      "needs_background": "light"
     },
     "output_type": "display_data"
    }
   ],
   "source": [
    "# plot\n",
    "method_format = {#'random_arm': ('Random Arm', 'g', '.', '--'), \n",
    "                 'random_data': ('Random', 'b', '^', '--'), \n",
    "                 #'random_arm_informed': ('Random Arm Informed', 'g', '.', '-'), \n",
    "                 'random_data_informed': ('Random Informed', 'b', '^', '-'), \n",
    "                 #'ts_uniform': ('TS Symmetric', 'k', '*', '-'), \n",
    "                 'ts_informed': ('TS Informed', 'r', '+', '-'),}\n",
    "\n",
    "\n",
    "fig, axes = plt.subplots(nrows=1, ncols=len(DATASET_LIST), figsize=(LINEWIDTH,3),\n",
    "                        gridspec_kw = {'wspace':0.2, 'hspace':0.25})\n",
    "for i, dataset_name in enumerate(DATASET_LIST):\n",
    "    start = 0\n",
    "    num_steps = l2_error[dataset_name][method_name].shape[1] - 1\n",
    "    stepsize = 1\n",
    "    for method_name in method_format:\n",
    "        legend_name, color, marker, linestyle = method_format[method_name]    \n",
    "        xrange = np.arange(num_steps) * LOG_FREQ + LOG_FREQ\n",
    "        idx = np.arange(num_steps)[start:(start+num_steps)][::stepsize]   \n",
    "        axes[i].plot(xrange[idx], \n",
    "                 np.mean((l2_error[dataset_name][method_name]), axis=0)[idx], \n",
    "                 label=legend_name, linewidth=3, color=color, linestyle=linestyle)\n",
    "        axes[i].fill_between(xrange[idx], \n",
    "                         np.quantile(l2_error[dataset_name][method_name], 0.125, axis=0)[idx], \n",
    "                         np.quantile(l2_error[dataset_name][method_name], 0.875, axis=0)[idx], \n",
    "                         color=color, alpha=.2)\n",
    "        #plt.ylim([0, 0.3])\n",
    "    axes[i].set_xlabel('#Labeled')\n",
    "    axes[i].set_xscale('log')\n",
    "    axes[i].set_title(DATASET_NAMES[dataset_name])\n",
    "    axes[i].set_xlim(0,1000)\n",
    "    #axes[i].set_ylim(0,np.max(np.mean((l2_error[dataset_name]['random_data_informed']), axis=0)))\n",
    "axes[0].legend(fontsize=10, loc='upper right')\n",
    "axes[0].set_ylabel('$L_2$ Error')"
   ]
  },
  {
   "cell_type": "code",
   "execution_count": 5,
   "metadata": {},
   "outputs": [
    {
     "name": "stdout",
     "output_type": "stream",
     "text": [
      "\n",
      " cifar100\n",
      "N, #params=(20,102) =======\n",
      "random_data: 8.9060\n",
      "random_data_informed: 0.3101\n",
      "ts_informed: 0.2358\n",
      "N, #params=(50,102) =======\n",
      "random_data: 6.5478\n",
      "random_data_informed: 0.2479\n",
      "ts_informed: 0.1417\n",
      "N, #params=(100,102) =======\n",
      "random_data: 3.9680\n",
      "random_data_informed: 0.1707\n",
      "ts_informed: 0.0765\n",
      "\n",
      " svhn\n",
      "N, #params=(20,8) =======\n",
      "random_data: 91.1877\n",
      "random_data_informed: 0.1040\n",
      "ts_informed: 0.0482\n",
      "N, #params=(50,8) =======\n",
      "random_data: 11.5452\n",
      "random_data_informed: 0.0244\n",
      "ts_informed: 0.0115\n",
      "N, #params=(100,8) =======\n",
      "random_data: 0.9293\n",
      "random_data_informed: 0.0059\n",
      "ts_informed: 0.0034\n",
      "\n",
      " 20newsgroup\n",
      "N, #params=(20,22) =======\n",
      "random_data: 9.7933\n",
      "random_data_informed: 0.0381\n",
      "ts_informed: 0.0154\n",
      "N, #params=(50,22) =======\n",
      "random_data: 2.1768\n",
      "random_data_informed: 0.0154\n",
      "ts_informed: 0.0048\n",
      "N, #params=(100,22) =======\n",
      "random_data: 0.1856\n",
      "random_data_informed: 0.0047\n",
      "ts_informed: 0.0016\n",
      "\n",
      " dbpedia\n",
      "N, #params=(20,12) =======\n",
      "random_data: 1362.3747\n",
      "random_data_informed: 0.1518\n",
      "ts_informed: 0.0274\n",
      "N, #params=(50,12) =======\n",
      "random_data: 141.2290\n",
      "random_data_informed: 0.0411\n",
      "ts_informed: 0.0075\n",
      "N, #params=(100,12) =======\n",
      "random_data: 4.0271\n",
      "random_data_informed: 0.0094\n",
      "ts_informed: 0.0023\n"
     ]
    }
   ],
   "source": [
    "method_format = {'random_data': ('Random', 'b', '^', '--'), \n",
    "                 'random_data_informed': ('Random Informed', 'b', '^', '-'), \n",
    "                 'ts_informed': ('TS Informed', 'r', '+', '-'),}\n",
    "for i, dataset_name in enumerate(DATASET_LIST):\n",
    "    print('\\n',dataset_name)\n",
    "    dataset = Dataset.load_from_text(dataset_name)\n",
    "    dataset.group(group_method = group_method)\n",
    "    num_params = dataset.num_groups ^ 2\n",
    "    N_list = [20,50,100]\n",
    "    for N in N_list:\n",
    "        N = max(int(N//10)*10, 10)\n",
    "        print(\"N, #params=(%d,%d) =======\" % (N,num_params))\n",
    "        for method_name in method_format:\n",
    "            print('%s: %.4f' % (method_name, l2_error[dataset_name][method_name][:, (N-LOG_FREQ)//LOG_FREQ].mean() / \\\n",
    "                 l2_error[dataset_name]['scores']))"
   ]
  },
  {
   "cell_type": "code",
   "execution_count": 6,
   "metadata": {},
   "outputs": [
    {
     "name": "stdout",
     "output_type": "stream",
     "text": [
      "\\begin{tabular}{@{}ccccccccccccccccc@{}}\n",
      "\\toprule \n",
      "& \\phantom{a} &  \\multicolumn{3}{c}{CIFAR-100}\n",
      "& \\phantom{a} &  \\multicolumn{3}{c}{SVHN}\n",
      "& \\phantom{a} &  \\multicolumn{3}{c}{20 Newsgroups}\n",
      "& \\phantom{a} &  \\multicolumn{3}{c}{DBpedia}\n",
      "\\\\ \n",
      "& \\phantom{a} &  N=10 & N=100 & N=500\n",
      "& \\phantom{a} &  N=10 & N=100 & N=500\n",
      "& \\phantom{a} &  N=10 & N=100 & N=500\n",
      "& \\phantom{a} &  N=10 & N=100 & N=500\n",
      "\\\\ \n",
      "\\cmidrule{3-5} \\cmidrule{7-9} \\cmidrule{11-13} \\cmidrule{15-17}\n",
      "\\multicolumn{2}{c}{         Random}& 890.6  & 654.8  & 396.8  && 9118.8  & 1154.5  & 92.9  && 979.3  & 217.7  & 18.6  && 136237.5  & 14122.9  & 402.7  \\\\ \n",
      "\\multicolumn{2}{c}{Random Informed}& 31.0  & 24.8  & 17.1  && 10.4  &  2.4  &  0.6  &&  3.8  &  1.5  &  0.5  && 15.2  &  4.1  &  0.9  \\\\ \n",
      "\\multicolumn{2}{c}{    TS Informed}& 23.6  & 14.2  &  7.6  &&  4.8  &  1.1  &  0.3  &&  1.5  &  0.5  &  0.2  &&  2.7  &  0.7  &  0.2  \\\\ \n",
      "\\bottomrule\n",
      "\\end{tabular}\n"
     ]
    }
   ],
   "source": [
    "dataset_print= {\n",
    "    'cifar100': 'CIFAR-100',\n",
    "    'svhn': 'SVHN',\n",
    "    '20newsgroup': '20 Newsgroups',\n",
    "    'dbpedia': 'DBpedia'\n",
    "}\n",
    "dataset_list = ['cifar100','svhn', '20newsgroup','dbpedia']\n",
    "method_format = {'random_data': ('Random', 'b', '^', '--'), \n",
    "                 'random_data_informed': ('Random Informed', 'b', '^', '-'), \n",
    "                 'ts_informed': ('TS Informed', 'r', '+', '-'),}\n",
    "Nlist = [10,100,500];\n",
    "\n",
    "print('\\\\begin{tabular}{@{}ccccccccccccccccc@{}}')\n",
    "print('\\\\toprule ')\n",
    "for dataset in dataset_list:\n",
    "    print('& \\phantom{a} &  \\multicolumn{3}{c}{%s}' % dataset_print[dataset])\n",
    "print('\\\\\\ ')\n",
    "for dataset in dataset_list:\n",
    "    print('& \\phantom{a} &  N=%d & N=%d & N=%d' % tuple(Nlist))\n",
    "print('\\\\\\ ')\n",
    "print('\\cmidrule{3-5} \\cmidrule{7-9} \\cmidrule{11-13} \\cmidrule{15-17}')\n",
    "\n",
    "for method in method_format:\n",
    "    method_name = method_format[method][0]\n",
    "    print('\\multicolumn{2}{c}{%15s}' % method_name, end = '')\n",
    "    \n",
    "    for dataset_name in dataset_list:\n",
    "        for N in N_list:\n",
    "            val = l2_error[dataset_name][method][:, (N-LOG_FREQ)//LOG_FREQ].mean() / \\\n",
    "                        l2_error[dataset_name]['scores']\n",
    "            print('& %4.1f  ' % (100 * val), end = '')\n",
    "            \n",
    "        if dataset_name != dataset_list[-1]:\n",
    "            print('&', end = '')\n",
    "    print('\\\\\\\\ \\n', end = '');\n",
    "print('\\\\bottomrule')\n",
    "print('\\\\end{tabular}')"
   ]
  },
  {
   "cell_type": "code",
   "execution_count": 38,
   "metadata": {},
   "outputs": [
    {
     "name": "stdout",
     "output_type": "stream",
     "text": [
      "\\begin{tabular}{@{}ccccccccc@{}}\n",
      "\\toprule \n",
      "& \\phantom{a} &  \\multicolumn{3}{c}{CIFAR-100}\n",
      "& \\phantom{a} &  \\multicolumn{3}{c}{SVHN}\n",
      "\\\\ \n",
      "\\cmidrule{3-5} \\cmidrule{7-9}\n",
      "& \\phantom{a} &  N=10 & N=100 & N=500\n",
      "& \\phantom{a} &  N=10 & N=100 & N=500\n",
      "\\\\ \\midrule\n",
      "\\multicolumn{2}{c}{Random Uninformative}& 8.906  & 6.548  & 3.968  && 91.188  & 11.545  & 0.929  \\\\ \n",
      "\\multicolumn{2}{c}{  Random Informative}& 0.310  & 0.248  & 0.171  && 0.104  & 0.024  & 0.006  \\\\ \n",
      "\\multicolumn{2}{c}{      TS Informative}& 0.236  & 0.142  & 0.076  && 0.048  & 0.011  & 0.003  \\\\ \n",
      "\\bottomrule\n",
      "\\end{tabular}\n"
     ]
    }
   ],
   "source": [
    "dataset_print= {\n",
    "    'cifar100': 'CIFAR-100',\n",
    "    'svhn': 'SVHN',\n",
    "    '20newsgroup': '20 Newsgroups',\n",
    "    'dbpedia': 'DBpedia'\n",
    "}\n",
    "dataset_list = ['cifar100','svhn']\n",
    "#dataset_list = ['20newsgroup','dbpedia']\n",
    "method_format = {'random_data': ('Random Uninformative', 'b', '^', '--'), \n",
    "                 'random_data_informed': ('Random Informative', 'b', '^', '-'), \n",
    "                 'ts_informed': ('TS Informative', 'r', '+', '-'),}\n",
    "Nlist = [10,100,500];\n",
    "\n",
    "print('\\\\begin{tabular}{@{}ccccccccc@{}}')\n",
    "print('\\\\toprule ')\n",
    "for dataset in dataset_list:\n",
    "    print('& \\phantom{a} &  \\multicolumn{3}{c}{%s}' % dataset_print[dataset])\n",
    "print('\\\\\\ ')\n",
    "print('\\cmidrule{3-5} \\cmidrule{7-9}')\n",
    "for dataset in dataset_list:\n",
    "    print('& \\phantom{a} &  N=%d & N=%d & N=%d' % tuple(Nlist))\n",
    "print('\\\\\\ \\\\midrule')\n",
    "\n",
    "for method in method_format:\n",
    "    method_name = method_format[method][0]\n",
    "    print('\\multicolumn{2}{c}{%20s}' % method_name, end = '')\n",
    "    \n",
    "    for dataset_name in dataset_list:\n",
    "        y = l2_error[dataset_name][method]/l2_error[dataset_name]['scores']\n",
    "        y = np.mean(y, axis=0)        \n",
    "        for N in N_list:\n",
    "            val = y[(N-LOG_FREQ)//LOG_FREQ]\n",
    "            print('& %.3f  ' % val, end = '')\n",
    "            \n",
    "        if dataset_name != dataset_list[-1]:\n",
    "            print('&', end = '')\n",
    "    print('\\\\\\\\ \\n', end = '');\n",
    "print('\\\\bottomrule')\n",
    "print('\\\\end{tabular}')"
   ]
  },
  {
   "cell_type": "code",
   "execution_count": 30,
   "metadata": {},
   "outputs": [
    {
     "name": "stdout",
     "output_type": "stream",
     "text": [
      "==== random_data cifar100 1 8.90604312903578\n",
      "==== random_data cifar100 4 6.547810748479103\n",
      "==== random_data cifar100 9 3.968022347285262\n",
      "9.86362805631014\n",
      "==== random_data svhn 1 91.18767367700842\n",
      "==== random_data svhn 4 11.545238537493447\n",
      "==== random_data svhn 9 0.9293112733479104\n",
      "216.95014378231258\n",
      "==== random_data_informed cifar100 1 0.31014793559202614\n",
      "==== random_data_informed cifar100 4 0.2478557750595449\n",
      "==== random_data_informed cifar100 9 0.17072317611470925\n",
      "0.33634852692646\n",
      "==== random_data_informed svhn 1 0.1039759230289014\n",
      "==== random_data_informed svhn 4 0.024436541280138054\n",
      "==== random_data_informed svhn 9 0.005865995315957696\n",
      "0.1941240228826876\n",
      "==== ts_informed cifar100 1 0.23580812366413087\n",
      "==== ts_informed cifar100 4 0.14171318217495904\n",
      "==== ts_informed cifar100 9 0.07645905067899729\n",
      "0.28939541765786286\n",
      "==== ts_informed svhn 1 0.0481839820586324\n",
      "==== ts_informed svhn 4 0.011478443121612609\n",
      "==== ts_informed svhn 9 0.0033913246713593455\n",
      "0.1091843095746443\n"
     ]
    }
   ],
   "source": [
    "for method in method_format:\n",
    "    method_name = method_format[method][0]\n",
    "    for dataset_name in dataset_list:\n",
    "        y = l2_error[dataset_name][method]/l2_error[dataset_name]['scores']\n",
    "        y = np.mean(y, axis=0)        \n",
    "        for N in N_list:\n",
    "            val = y[(N-LOG_FREQ)//LOG_FREQ]\n",
    "            print('====', method, dataset_name, (N-LOG_FREQ)//LOG_FREQ, val)\n",
    "        print(y.max())"
   ]
  },
  {
   "cell_type": "code",
   "execution_count": 12,
   "metadata": {},
   "outputs": [
    {
     "data": {
      "text/plain": [
       "Text(0, 0.5, '$L_2$ Error')"
      ]
     },
     "execution_count": 12,
     "metadata": {},
     "output_type": "execute_result"
    },
    {
     "data": {
      "image/png": "[encoded data removed]",
      "text/plain": [
       "<Figure size 1005.84x158.4 with 4 Axes>"
      ]
     },
     "metadata": {
      "needs_background": "light"
     },
     "output_type": "display_data"
    }
   ],
   "source": [
    "# plot\n",
    "method_format = {#'random_arm': ('Random Arm', 'g', '.', '--'), \n",
    "                 #'random_data': ('Random', 'b', '^', '--'), \n",
    "                 #'random_arm_informed': ('Random Arm Informed', 'g', '.', '-'), \n",
    "                 'random_data_informed': ('Random Informative', 'b', '^', '-'), \n",
    "                 #'ts_uniform': ('TS Symmetric', 'k', '*', '-'), \n",
    "                 'ts_informed': ('TS Informative', 'r', '+', '-'),}\n",
    "\n",
    "\n",
    "fig, axes = plt.subplots(nrows=1, ncols=len(DATASET_LIST), figsize=(LINEWIDTH,2.2),\n",
    "                        gridspec_kw = {'wspace':0.2, 'hspace':0.25})\n",
    "for i, dataset_name in enumerate(DATASET_LIST):\n",
    "    start = 0\n",
    "    num_steps = l2_error[dataset_name]['ts_informed'].shape[1] - 1\n",
    "    stepsize = 1\n",
    "    for method_name in method_format:\n",
    "        legend_name, color, marker, linestyle = method_format[method_name]    \n",
    "        xrange = np.arange(num_steps) * LOG_FREQ + LOG_FREQ\n",
    "        idx = np.arange(num_steps)[start:(start+num_steps)][::stepsize]  \n",
    "        y = l2_error[dataset_name][method_name]/ l2_error[dataset_name]['scores']\n",
    "        eval_mean = np.mean(y, axis=0)\n",
    "        eval_upper = np.quantile(y, 0.875, axis=0)\n",
    "        eval_lower = np.quantile(y, 0.125, axis=0)\n",
    "        axes[i].plot(xrange[idx], \n",
    "                 eval_mean[idx], \n",
    "                 label=legend_name, linewidth=3, color=color, linestyle=linestyle)\n",
    "        axes[i].fill_between(xrange[idx], \n",
    "                         eval_lower[idx], \n",
    "                         eval_upper[idx], \n",
    "                         color=color, alpha=.2)\n",
    "        #plt.ylim([0, 0.3])\n",
    "    axes[i].set_xlabel('#Labeled')\n",
    "    axes[i].set_xscale('log')\n",
    "    #axes[i].set_yscale('log')\n",
    "    axes[i].set_title(DATASET_NAMES[dataset_name])\n",
    "axes[0].legend(fontsize=10, loc='upper right')\n",
    "axes[0].set_ylabel('$L_2$ Error')"
   ]
  },
  {
   "cell_type": "code",
   "execution_count": 13,
   "metadata": {},
   "outputs": [
    {
     "data": {
      "text/plain": [
       "(array(2.70667957e-12), array(0.92856954))"
      ]
     },
     "execution_count": 13,
     "metadata": {},
     "output_type": "execute_result"
    }
   ],
   "source": [
    "l2_error[dataset_name]['diagonal'], l2_error[dataset_name]['ones']"
   ]
  },
  {
   "cell_type": "code",
   "execution_count": null,
   "metadata": {},
   "outputs": [],
   "source": []
  },
  {
   "cell_type": "code",
   "execution_count": null,
   "metadata": {},
   "outputs": [],
   "source": []
  },
  {
   "cell_type": "code",
   "execution_count": null,
   "metadata": {},
   "outputs": [],
   "source": []
  }
 ],
 "metadata": {
  "kernelspec": {
   "display_name": "Python 3",
   "language": "python",
   "name": "python3"
  },
  "language_info": {
   "codemirror_mode": {
    "name": "ipython",
    "version": 3
   },
   "file_extension": ".py",
   "mimetype": "text/x-python",
   "name": "python",
   "nbconvert_exporter": "python",
   "pygments_lexer": "ipython3",
   "version": "3.7.6"
  }
 },
 "nbformat": 4,
 "nbformat_minor": 4
}
