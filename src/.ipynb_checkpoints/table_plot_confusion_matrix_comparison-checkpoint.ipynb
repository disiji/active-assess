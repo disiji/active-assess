{
 "cells": [
  {
   "cell_type": "code",
   "execution_count": 1,
   "metadata": {},
   "outputs": [],
   "source": [
    "import argparse\n",
    "import pathlib\n",
    "import random\n",
    "from collections import deque\n",
    "from typing import List, Dict, Tuple, Union\n",
    "from data import Dataset, SuperclassDataset\n",
    "from data_utils import *\n",
    "from sampling import *\n",
    "from models import BetaBernoulli\n",
    "import matplotlib.pyplot as plt\n",
    "import numpy as np\n",
    "from tqdm import tqdm\n",
    "from utils import mean_reciprocal_rank\n",
    "%matplotlib inline  \n",
    "\n",
    "import matplotlib;matplotlib.rcParams['font.size'] = 10\n",
    "import matplotlib;matplotlib.rcParams['font.family'] = 'serif'\n",
    "LINEWIDTH = 13.97\n",
    "\n",
    "LOG_FREQ = 10\n",
    "RUNS = 100\n",
    "method_list = ['random_arm', 'random_data', 'random_arm_informed', 'random_data_informed', 'ts_uniform', 'ts_informed']\n",
    "method_format = {'random_arm': ('Random Arm', 'b', '.', '-'), \n",
    "                 'random_data': ('Random Datapoint', 'g', '^', '-'), \n",
    "                 'random_arm_informed': ('Random Arm Informed', 'b', '.', '--'), \n",
    "                 'random_data_informed': ('Random Datapoint Informed', 'g', '^', '--'), \n",
    "                 'ts_uniform': ('TS Symmetric', 'k', '*', '-'), \n",
    "                 'ts_informed': ('TS Informed', 'r', '+', '-'),\n",
    "                }\n",
    "DATASET_LIST = ['cifar100', 'svhn', '20newsgroup', 'dbpedia'] #'imagenet', \n",
    "output_dir = pathlib.Path(\"../output/confusion_matrix\")"
   ]
  },
  {
   "cell_type": "code",
   "execution_count": 2,
   "metadata": {},
   "outputs": [],
   "source": [
    "metric = 'confusion_matrix' # 'ece', 'confusion_matrix'\n",
    "group_method = 'predicted_class'\n",
    "pseudocount = 1\n",
    "RUNS = 100\n",
    "superclass = False #todo: superclass=true\n",
    "cost_matrix = None\n",
    "topk = 1\n",
    "\n",
    "# load results and compute ground truth\n",
    "ground_truth = {}\n",
    "weight_k = {}\n",
    "l2_error = {}\n",
    "logp = {} # log likelihood of each estimated confusion matrix under dirichlet distribution"
   ]
  },
  {
   "cell_type": "code",
   "execution_count": 15,
   "metadata": {
    "scrolled": false
   },
   "outputs": [
    {
     "name": "stdout",
     "output_type": "stream",
     "text": [
      "dbpedia False\n",
      "sss\n"
     ]
    }
   ],
   "source": [
    "\n",
    "for dataset_name in ['dbpedia']:\n",
    "    RUNS = 1000\n",
    "#for dataset_name in DATASET_LIST: # takes 4 minutes to load results of imagenet\n",
    "    ground_truth[dataset_name] = {}\n",
    "    l2_error[dataset_name] = {}\n",
    "    logp[dataset_name] = {}\n",
    "    \n",
    "    # load data\n",
    "    if len(dataset_name) > len('superclass') and dataset_name[-len('superclass'):] == 'superclass':\n",
    "        superclass = True\n",
    "    else:\n",
    "        superclass = False\n",
    "    \n",
    "    print(dataset_name, superclass)\n",
    "    experiment_name = '%s_top%d_pseudocount%d' % (dataset_name, topk, pseudocount)\n",
    "    if superclass:\n",
    "        dataset = SuperclassDataset.load_from_text(dataset_name.split('_')[0], CIFAR100_SUPERCLASS_LOOKUP)\n",
    "        # no need to group (grouped by superclass automatically)\n",
    "    else:\n",
    "        dataset = Dataset.load_from_text(dataset_name)\n",
    "        dataset.group(group_method = group_method)\n",
    "    # ground truth\n",
    "    weight_k[dataset_name] = dataset.weight_k\n",
    "    confusion_probs = dataset.confusion_probs()\n",
    "    confusion_probs = confusion_probs + np.ones(confusion_probs.shape) * 1e-6\n",
    "    confusion_probs = confusion_probs / confusion_probs.sum(axis=1)\n",
    "    ground_truth[dataset_name]['confusion_matrix'] = confusion_probs\n",
    "    ground_truth[dataset_name]['confusion_matrix'] = \\\n",
    "        np.load(open(output_dir / experiment_name / ('mpe_log_%s_run%d.npy' % ('ts_uniform', 0)), 'rb'))[-1]\n",
    "     # initalize l2 error\n",
    "    for method_name in method_list:\n",
    "        l2_error[dataset_name][method_name] = np.zeros((RUNS, dataset.__len__() // LOG_FREQ))\n",
    "        logp[dataset_name][method_name] = np.zeros((RUNS, dataset.__len__() // LOG_FREQ))\n",
    "        # load results\n",
    "        for r in range(RUNS):\n",
    "            mpe_log = np.load(open(output_dir / experiment_name / ('mpe_log_%s_run%d.npy' % (method_name, r)), 'rb'))            \n",
    "            l2_eval = mpe_log - ground_truth[dataset_name]['confusion_matrix']\n",
    "            l2_eval = l2_eval ** 2\n",
    "            l2_eval = np.sum(l2_eval,axis=2)\n",
    "            l2_error[dataset_name][method_name][r] = np.array([(l2_eval[i] * weight_k[dataset_name]).sum()\n",
    "                                                               for i in range(dataset.__len__() // LOG_FREQ)])\n",
    "    # baseline\n",
    "    print('sss')\n",
    "    mpe_diag = np.identity(dataset.num_groups)\n",
    "    l2_eval = mpe_diag - ground_truth[dataset_name]['confusion_matrix']\n",
    "    l2_eval = l2_eval ** 2\n",
    "    l2_eval = np.sum(l2_eval,axis=1)\n",
    "    l2_error[dataset_name]['diagonal'] = np.array((l2_eval * weight_k[dataset_name]).sum())\n",
    "\n",
    "    mpe_ones = np.ones((dataset.num_groups,dataset.num_groups))\n",
    "    mpe_ones /= dataset.num_groups\n",
    "    l2_eval = mpe_ones - ground_truth[dataset_name]['confusion_matrix']\n",
    "    l2_eval = l2_eval ** 2\n",
    "    l2_eval = np.sum(l2_eval,axis=1)\n",
    "    l2_error[dataset_name]['ones'] = np.array((l2_eval * weight_k[dataset_name]).sum())\n",
    "\n",
    "    mpe_scores = confusion_probs\n",
    "    l2_eval = mpe_scores - ground_truth[dataset_name]['confusion_matrix']\n",
    "    l2_eval = l2_eval ** 2\n",
    "    l2_eval = np.sum(l2_eval,axis=1)\n",
    "    l2_error[dataset_name]['scores'] = np.array((l2_eval * weight_k[dataset_name]).sum())\n",
    "    "
   ]
  },
  {
   "cell_type": "markdown",
   "metadata": {},
   "source": [
    "# $L_2$"
   ]
  },
  {
   "cell_type": "code",
   "execution_count": 16,
   "metadata": {},
   "outputs": [
    {
     "data": {
      "text/plain": [
       "Text(0, 0.5, '$L_2$ Error')"
      ]
     },
     "execution_count": 16,
     "metadata": {},
     "output_type": "execute_result"
    },
    {
     "data": {
      "image/png": "[encoded data removed]",
      "text/plain": [
       "<Figure size 1005.84x216 with 4 Axes>"
      ]
     },
     "metadata": {
      "needs_background": "light"
     },
     "output_type": "display_data"
    }
   ],
   "source": [
    "# plot\n",
    "method_format = {#'random_arm': ('Random Arm', 'g', '.', '--'), \n",
    "                 'random_data': ('Random', 'b', '^', '--'), \n",
    "                 #'random_arm_informed': ('Random Arm Informed', 'g', '.', '-'), \n",
    "                 'random_data_informed': ('Random Informed', 'b', '^', '-'), \n",
    "                 #'ts_uniform': ('TS Symmetric', 'k', '*', '-'), \n",
    "                 'ts_informed': ('TS Informed', 'r', '+', '-'),}\n",
    "\n",
    "\n",
    "fig, axes = plt.subplots(nrows=1, ncols=len(DATASET_LIST), figsize=(LINEWIDTH,3),\n",
    "                        gridspec_kw = {'wspace':0.2, 'hspace':0.25})\n",
    "for i, dataset_name in enumerate(DATASET_LIST):\n",
    "    start = 0\n",
    "    num_steps = l2_error[dataset_name][method_name].shape[1] - 1\n",
    "    stepsize = 1\n",
    "    for method_name in method_format:\n",
    "        legend_name, color, marker, linestyle = method_format[method_name]    \n",
    "        xrange = np.arange(num_steps) * LOG_FREQ + LOG_FREQ\n",
    "        idx = np.arange(num_steps)[start:(start+num_steps)][::stepsize]   \n",
    "        axes[i].plot(xrange[idx], \n",
    "                 np.mean((l2_error[dataset_name][method_name]), axis=0)[idx], \n",
    "                 label=legend_name, linewidth=3, color=color, linestyle=linestyle)\n",
    "        axes[i].fill_between(xrange[idx], \n",
    "                         np.quantile(l2_error[dataset_name][method_name], 0.125, axis=0)[idx], \n",
    "                         np.quantile(l2_error[dataset_name][method_name], 0.875, axis=0)[idx], \n",
    "                         color=color, alpha=.2)\n",
    "        #plt.ylim([0, 0.3])\n",
    "    axes[i].set_xlabel('#Labeled')\n",
    "    axes[i].set_xscale('log')\n",
    "    axes[i].set_title(DATASET_NAMES[dataset_name])\n",
    "    axes[i].set_xlim(0,1000)\n",
    "    #axes[i].set_ylim(0,np.max(np.mean((l2_error[dataset_name]['random_data_informed']), axis=0)))\n",
    "axes[0].legend(fontsize=10, loc='upper right')\n",
    "axes[0].set_ylabel('$L_2$ Error')"
   ]
  },
  {
   "cell_type": "code",
   "execution_count": 17,
   "metadata": {},
   "outputs": [
    {
     "name": "stdout",
     "output_type": "stream",
     "text": [
      "\n",
      " cifar100\n",
      "N, #params=(20,102) =======\n",
      "random_data: 9.1531\n",
      "random_data_informed: 0.2993\n",
      "ts_informed: 0.2229\n",
      "N, #params=(50,102) =======\n",
      "random_data: 6.7294\n",
      "random_data_informed: 0.2373\n",
      "ts_informed: 0.1296\n",
      "N, #params=(100,102) =======\n",
      "random_data: 4.0783\n",
      "random_data_informed: 0.1614\n",
      "ts_informed: 0.0667\n",
      "\n",
      " svhn\n",
      "N, #params=(20,8) =======\n",
      "random_data: 92.0290\n",
      "random_data_informed: 0.0995\n",
      "ts_informed: 0.0448\n",
      "N, #params=(50,8) =======\n",
      "random_data: 11.3258\n",
      "random_data_informed: 0.0220\n",
      "ts_informed: 0.0096\n",
      "N, #params=(100,8) =======\n",
      "random_data: 0.9460\n",
      "random_data_informed: 0.0046\n",
      "ts_informed: 0.0024\n",
      "\n",
      " 20newsgroup\n",
      "N, #params=(20,22) =======\n",
      "random_data: 9.9823\n",
      "random_data_informed: 0.0349\n",
      "ts_informed: 0.0129\n",
      "N, #params=(50,22) =======\n",
      "random_data: 2.1839\n",
      "random_data_informed: 0.0134\n",
      "ts_informed: 0.0033\n",
      "N, #params=(100,22) =======\n",
      "random_data: 0.2029\n",
      "random_data_informed: 0.0037\n",
      "ts_informed: 0.0008\n",
      "\n",
      " dbpedia\n",
      "N, #params=(20,12) =======\n",
      "random_data: 1307.5717\n",
      "random_data_informed: 0.1441\n",
      "ts_informed: 0.0246\n",
      "N, #params=(50,12) =======\n",
      "random_data: 154.2582\n",
      "random_data_informed: 0.0392\n",
      "ts_informed: 0.0059\n",
      "N, #params=(100,12) =======\n",
      "random_data: 5.3301\n",
      "random_data_informed: 0.0086\n",
      "ts_informed: 0.0015\n"
     ]
    }
   ],
   "source": [
    "method_format = {'random_data': ('Random', 'b', '^', '--'), \n",
    "                 'random_data_informed': ('Random Informed', 'b', '^', '-'), \n",
    "                 'ts_informed': ('TS Informed', 'r', '+', '-'),}\n",
    "for i, dataset_name in enumerate(DATASET_LIST):\n",
    "    print('\\n',dataset_name)\n",
    "    dataset = Dataset.load_from_text(dataset_name)\n",
    "    dataset.group(group_method = group_method)\n",
    "    num_params = dataset.num_groups ^ 2\n",
    "    N_list = [20,50,100]\n",
    "    for N in N_list:\n",
    "        N = max(int(N//10)*10, 10)\n",
    "        print(\"N, #params=(%d,%d) =======\" % (N,num_params))\n",
    "        for method_name in method_format:\n",
    "            print('%s: %.4f' % (method_name, l2_error[dataset_name][method_name][:, (N-LOG_FREQ)//LOG_FREQ].mean() / \\\n",
    "                 l2_error[dataset_name]['scores']))"
   ]
  },
  {
   "cell_type": "code",
   "execution_count": 18,
   "metadata": {},
   "outputs": [
    {
     "name": "stdout",
     "output_type": "stream",
     "text": [
      "\\begin{tabular}{@{}ccccccccccccccccc@{}}\n",
      "\\toprule \n",
      "& \\phantom{a} &  \\multicolumn{3}{c}{CIFAR-100}\n",
      "& \\phantom{a} &  \\multicolumn{3}{c}{SVHN}\n",
      "& \\phantom{a} &  \\multicolumn{3}{c}{20 Newsgroups}\n",
      "& \\phantom{a} &  \\multicolumn{3}{c}{DBpedia}\n",
      "\\\\ \n",
      "& \\phantom{a} &  N=10 & N=100 & N=500\n",
      "& \\phantom{a} &  N=10 & N=100 & N=500\n",
      "& \\phantom{a} &  N=10 & N=100 & N=500\n",
      "& \\phantom{a} &  N=10 & N=100 & N=500\n",
      "\\\\ \n",
      "\\cmidrule{3-5} \\cmidrule{7-9} \\cmidrule{11-13} \\cmidrule{15-17}\n",
      "\\multicolumn{2}{c}{         Random}& 915.3  & 672.9  & 407.8  && 9202.9  & 1132.6  & 94.6  && 998.2  & 218.4  & 20.3  && 130757.2  & 15425.8  & 533.0  \\\\ \n",
      "\\multicolumn{2}{c}{Random Informed}& 29.9  & 23.7  & 16.1  && 10.0  &  2.2  &  0.5  &&  3.5  &  1.3  &  0.4  && 14.4  &  3.9  &  0.9  \\\\ \n",
      "\\multicolumn{2}{c}{    TS Informed}& 22.3  & 13.0  &  6.7  &&  4.5  &  1.0  &  0.2  &&  1.3  &  0.3  &  0.1  &&  2.5  &  0.6  &  0.1  \\\\ \n",
      "\\bottomrule\n",
      "\\end{tabular}\n"
     ]
    }
   ],
   "source": [
    "dataset_print= {\n",
    "    'cifar100': 'CIFAR-100',\n",
    "    'svhn': 'SVHN',\n",
    "    '20newsgroup': '20 Newsgroups',\n",
    "    'dbpedia': 'DBpedia'\n",
    "}\n",
    "dataset_list = ['cifar100','svhn', '20newsgroup','dbpedia']\n",
    "method_format = {'random_data': ('Random', 'b', '^', '--'), \n",
    "                 'random_data_informed': ('Random Informed', 'b', '^', '-'), \n",
    "                 'ts_informed': ('TS Informed', 'r', '+', '-'),}\n",
    "Nlist = [10,100,500];\n",
    "\n",
    "print('\\\\begin{tabular}{@{}ccccccccccccccccc@{}}')\n",
    "print('\\\\toprule ')\n",
    "for dataset in dataset_list:\n",
    "    print('& \\phantom{a} &  \\multicolumn{3}{c}{%s}' % dataset_print[dataset])\n",
    "print('\\\\\\ ')\n",
    "for dataset in dataset_list:\n",
    "    print('& \\phantom{a} &  N=%d & N=%d & N=%d' % tuple(Nlist))\n",
    "print('\\\\\\ ')\n",
    "print('\\cmidrule{3-5} \\cmidrule{7-9} \\cmidrule{11-13} \\cmidrule{15-17}')\n",
    "\n",
    "for method in method_format:\n",
    "    method_name = method_format[method][0]\n",
    "    print('\\multicolumn{2}{c}{%15s}' % method_name, end = '')\n",
    "    \n",
    "    for dataset_name in dataset_list:\n",
    "        for N in N_list:\n",
    "            val = l2_error[dataset_name][method][:, (N-LOG_FREQ)//LOG_FREQ].mean() / \\\n",
    "                        l2_error[dataset_name]['scores']\n",
    "            print('& %4.1f  ' % (100 * val), end = '')\n",
    "            \n",
    "        if dataset_name != dataset_list[-1]:\n",
    "            print('&', end = '')\n",
    "    print('\\\\\\\\ \\n', end = '');\n",
    "print('\\\\bottomrule')\n",
    "print('\\\\end{tabular}')"
   ]
  },
  {
   "cell_type": "code",
   "execution_count": 19,
   "metadata": {},
   "outputs": [
    {
     "name": "stdout",
     "output_type": "stream",
     "text": [
      "\\begin{tabular}{@{}ccccccccc@{}}\n",
      "\\toprule \n",
      "& \\phantom{a} &  \\multicolumn{3}{c}{CIFAR-100}\n",
      "& \\phantom{a} &  \\multicolumn{3}{c}{SVHN}\n",
      "\\\\ \n",
      "\\cmidrule{3-5} \\cmidrule{7-9}\n",
      "& \\phantom{a} &  N=10 & N=100 & N=500\n",
      "& \\phantom{a} &  N=10 & N=100 & N=500\n",
      "\\\\ \\midrule\n",
      "\\multicolumn{2}{c}{Random Uninformative}& 9.153  & 6.729  & 4.078  && 92.029  & 11.326  & 0.946  \\\\ \n",
      "\\multicolumn{2}{c}{  Random Informative}& 0.299  & 0.237  & 0.161  && 0.100  & 0.022  & 0.005  \\\\ \n",
      "\\multicolumn{2}{c}{      TS Informative}& 0.223  & 0.130  & 0.067  && 0.045  & 0.010  & 0.002  \\\\ \n",
      "\\bottomrule\n",
      "\\end{tabular}\n"
     ]
    }
   ],
   "source": [
    "dataset_print= {\n",
    "    'cifar100': 'CIFAR-100',\n",
    "    'svhn': 'SVHN',\n",
    "    '20newsgroup': '20 Newsgroups',\n",
    "    'dbpedia': 'DBpedia'\n",
    "}\n",
    "dataset_list = ['cifar100','svhn']\n",
    "#dataset_list = ['20newsgroup','dbpedia']\n",
    "method_format = {'random_data': ('Random Uninformative', 'b', '^', '--'), \n",
    "                 'random_data_informed': ('Random Informative', 'b', '^', '-'), \n",
    "                 'ts_informed': ('TS Informative', 'r', '+', '-'),}\n",
    "N_list = [20, 50, 100];\n",
    "\n",
    "print('\\\\begin{tabular}{@{}ccccccccc@{}}')\n",
    "print('\\\\toprule ')\n",
    "for dataset in dataset_list:\n",
    "    print('& \\phantom{a} &  \\multicolumn{3}{c}{%s}' % dataset_print[dataset])\n",
    "print('\\\\\\ ')\n",
    "print('\\cmidrule{3-5} \\cmidrule{7-9}')\n",
    "for dataset in dataset_list:\n",
    "    print('& \\phantom{a} &  N=%d & N=%d & N=%d' % tuple(Nlist))\n",
    "print('\\\\\\ \\\\midrule')\n",
    "\n",
    "for method in method_format:\n",
    "    method_name = method_format[method][0]\n",
    "    print('\\multicolumn{2}{c}{%20s}' % method_name, end = '')\n",
    "    \n",
    "    for dataset_name in dataset_list:\n",
    "        y = l2_error[dataset_name][method]/l2_error[dataset_name]['scores']\n",
    "        y = np.mean(y, axis=0)        \n",
    "        for N in N_list:\n",
    "            val = y[(N-LOG_FREQ)//LOG_FREQ]\n",
    "            print('& %.3f  ' % val, end = '')\n",
    "            \n",
    "        if dataset_name != dataset_list[-1]:\n",
    "            print('&', end = '')\n",
    "    print('\\\\\\\\ \\n', end = '');\n",
    "print('\\\\bottomrule')\n",
    "print('\\\\end{tabular}')"
   ]
  },
  {
   "cell_type": "code",
   "execution_count": 20,
   "metadata": {},
   "outputs": [],
   "source": [
    "num_groups_dict = {}\n",
    "for dataset in DATASET_LIST:\n",
    "    if group_method == 'score_equal_size':\n",
    "        num_groups_dict[dataset] = 10\n",
    "    if group_method == 'predicted_class':\n",
    "        num_groups_dict[dataset] = NUM_CLASSES_DICT[dataset]"
   ]
  },
  {
   "cell_type": "code",
   "execution_count": 24,
   "metadata": {},
   "outputs": [
    {
     "name": "stdout",
     "output_type": "stream",
     "text": [
      "\\begin{tabular}{@{}ccccccc@{}}\n",
      "\\toprule \n",
      "{N/K} & {N}& {    UPrior}& {    IPrior}& { IPrior+TS}\\\\ \n",
      "\\midrule\n",
      "{           CIFAR-100} & 2 & 200 & 1.463 &0.077 &\\textbf{0.025} \\\\ \n",
      "{                    } & 5 & 500 & 0.071 &0.012 &\\textbf{0.004} \\\\ \n",
      "{                    } & 6 & 600 & 0.022 &0.008 &\\textbf{0.003} \\\\ \n",
      "{                    } & 7 & 700 & 0.006 &0.005 &\\textbf{0.002} \\\\ \n",
      "{                    } & 8 & 800 & 0.001 &0.003 &\\textbf{0.001} \\\\ \n",
      "{                    } & 9 & 900 & 0.001 &0.002 &\\textbf{0.001} \\\\ \n",
      "{                    } & 10 & 1000 & 0.001 &0.002 &\\textbf{0.001} \\\\ \n",
      "\\midrule\n",
      "{                SVHN} & 2 & 20 & 92.029 &0.100 &\\textbf{0.045} \\\\ \n",
      "{                    } & 5 & 50 & 11.326 &0.022 &\\textbf{0.010} \\\\ \n",
      "{                    } & 6 & 60 & 5.789 &0.016 &\\textbf{0.007} \\\\ \n",
      "{                    } & 7 & 70 & 3.944 &0.011 &\\textbf{0.005} \\\\ \n",
      "{                    } & 8 & 80 & 0.946 &0.008 &\\textbf{0.004} \\\\ \n",
      "{                    } & 9 & 90 & 0.946 &0.006 &\\textbf{0.003} \\\\ \n",
      "{                    } & 10 & 100 & 0.946 &0.005 &\\textbf{0.002} \\\\ \n",
      "\\midrule\n",
      "{       20 Newsgroups} & 2 & 40 & 3.472 &0.018 &\\textbf{0.005} \\\\ \n",
      "{                    } & 5 & 100 & 0.203 &0.004 &\\textbf{0.001} \\\\ \n",
      "{                    } & 6 & 120 & 0.051 &0.002 &\\textbf{0.001} \\\\ \n",
      "{                    } & 7 & 140 & 0.036 &0.001 &\\textbf{0.000} \\\\ \n",
      "{                    } & 8 & 160 & 0.036 &0.001 &\\textbf{0.000} \\\\ \n",
      "{                    } & 9 & 180 & 0.011 &0.001 &\\textbf{0.000} \\\\ \n",
      "{                    } & 10 & 200 & 0.011 &0.001 &\\textbf{0.000} \\\\ \n",
      "\\midrule\n",
      "{             DBpedia} & 2 & 28 & 1307.572 &0.144 &\\textbf{0.025} \\\\ \n",
      "{                    } & 5 & 70 & 33.617 &0.019 &\\textbf{0.003} \\\\ \n",
      "{                    } & 6 & 84 & 13.526 &0.015 &\\textbf{0.002} \\\\ \n",
      "{                    } & 7 & 98 & 9.431 &0.011 &\\textbf{0.002} \\\\ \n",
      "{                    } & 8 & 112 & 2.457 &0.007 &\\textbf{0.001} \\\\ \n",
      "{                    } & 9 & 126 & 0.819 &0.005 &\\textbf{0.001} \\\\ \n",
      "{                    } & 10 & 140 & 0.000 &0.004 &\\textbf{0.001} \\\\ \n",
      "\\bottomrule\n",
      "\\end{tabular}\n"
     ]
    }
   ],
   "source": [
    "def print_narrow_table(dataset_list):\n",
    "    \n",
    "    N_list = [2, 5, 6, 7, 8,9, 10]\n",
    "    method_format = {'random_data': ('UPrior', 'b', '^', '--'), \n",
    "                     #'ts_uniform': ('UPrior+TS', 'b', '^', '--'), \n",
    "                     'random_data_informed': ('IPrior', 'b', '^', '-'), \n",
    "                     'ts_informed': ('IPrior+TS', 'r', '+', '-'),}\n",
    "    print('\\\\begin{tabular}{@{}ccccccc@{}}')\n",
    "    print('\\\\toprule ')\n",
    "    print('{N/K} & {N}', end = '')\n",
    "    for method in method_format:\n",
    "        print('& {%10s}' % method_format[method][0], end = '')\n",
    "    print('\\\\\\ ')\n",
    "    \n",
    "    for i, dataset_name in enumerate(dataset_list):\n",
    "        print('\\\\midrule')\n",
    "        for idx, N in enumerate(N_list):\n",
    "            if idx == 0:\n",
    "                name_string = DATASET_NAMES[dataset_name]\n",
    "            else:\n",
    "                name_string = ''\n",
    "            vals = []\n",
    "            for method in method_format:\n",
    "                y = l2_error[dataset_name][method]/l2_error[dataset_name]['scores']\n",
    "                y = np.mean(y, axis=0) \n",
    "                K = num_groups_dict[dataset_name]\n",
    "                num_samples = int(N*K)\n",
    "                vals.append(y[(num_samples-LOG_FREQ)//LOG_FREQ])\n",
    "            print('{%20s} & %d & %d & %.3f &%.3f &\\\\textbf{%.3f} \\\\\\\\ \\n' % \\\n",
    "                  (name_string, N, num_samples, vals[0], vals[1], vals[2]), end = '')\n",
    "    print('\\\\bottomrule')\n",
    "    print('\\\\end{tabular}')\n",
    "\n",
    "print_narrow_table(DATASET_LIST)"
   ]
  },
  {
   "cell_type": "code",
   "execution_count": 10,
   "metadata": {},
   "outputs": [
    {
     "name": "stdout",
     "output_type": "stream",
     "text": [
      "[0.10479534 0.04479261 0.02359379 ... 0.00010999 0.00011    0.00011   ]\n"
     ]
    }
   ],
   "source": [
    "print(y)"
   ]
  },
  {
   "cell_type": "code",
   "execution_count": 11,
   "metadata": {},
   "outputs": [
    {
     "name": "stdout",
     "output_type": "stream",
     "text": [
      "==== random_data cifar100 1 9.153133080329024\n",
      "==== random_data cifar100 4 6.729399008843257\n",
      "==== random_data cifar100 9 4.0783055440559535\n",
      "10.137209223445833\n",
      "==== random_data svhn 1 92.02897619712674\n",
      "==== random_data svhn 4 11.325830199739551\n",
      "==== random_data svhn 9 0.9459875059598789\n",
      "220.67092246757213\n",
      "==== random_data_informed cifar100 1 0.2993156832059724\n",
      "==== random_data_informed cifar100 4 0.23732549883533216\n",
      "==== random_data_informed cifar100 9 0.16135547234889866\n",
      "0.3253800161205909\n",
      "==== random_data_informed svhn 1 0.09953412630314352\n",
      "==== random_data_informed svhn 4 0.0219776911512355\n",
      "==== random_data_informed svhn 9 0.004646565401826675\n",
      "0.18895326737922744\n",
      "==== ts_informed cifar100 1 0.22288199879569096\n",
      "==== ts_informed cifar100 4 0.12958317564820615\n",
      "==== ts_informed cifar100 9 0.06666370031949605\n",
      "0.2769324173328212\n",
      "==== ts_informed svhn 1 0.0447926125948156\n",
      "==== ts_informed svhn 4 0.009630844562433287\n",
      "==== ts_informed svhn 9 0.002384158354437954\n",
      "0.10479533568573139\n"
     ]
    }
   ],
   "source": [
    "for method in method_format:\n",
    "    method_name = method_format[method][0]\n",
    "    for dataset_name in dataset_list:\n",
    "        y = l2_error[dataset_name][method]/l2_error[dataset_name]['scores']\n",
    "        y = np.mean(y, axis=0)        \n",
    "        for N in N_list:\n",
    "            val = y[(N-LOG_FREQ)//LOG_FREQ]\n",
    "            print('====', method, dataset_name, (N-LOG_FREQ)//LOG_FREQ, val)\n",
    "        print(y.max())"
   ]
  },
  {
   "cell_type": "code",
   "execution_count": 12,
   "metadata": {},
   "outputs": [
    {
     "data": {
      "text/plain": [
       "Text(0, 0.5, '$L_2$ Error')"
      ]
     },
     "execution_count": 12,
     "metadata": {},
     "output_type": "execute_result"
    },
    {
     "data": {
      "image/png": "[encoded data removed]",
      "text/plain": [
       "<Figure size 1005.84x158.4 with 4 Axes>"
      ]
     },
     "metadata": {
      "needs_background": "light"
     },
     "output_type": "display_data"
    }
   ],
   "source": [
    "# plot\n",
    "method_format = {#'random_arm': ('Random Arm', 'g', '.', '--'), \n",
    "                 #'random_data': ('Random', 'b', '^', '--'), \n",
    "                 #'random_arm_informed': ('Random Arm Informed', 'g', '.', '-'), \n",
    "                 'random_data_informed': ('Random Informative', 'b', '^', '-'), \n",
    "                 #'ts_uniform': ('TS Symmetric', 'k', '*', '-'), \n",
    "                 'ts_informed': ('TS Informative', 'r', '+', '-'),}\n",
    "\n",
    "\n",
    "fig, axes = plt.subplots(nrows=1, ncols=len(DATASET_LIST), figsize=(LINEWIDTH,2.2),\n",
    "                        gridspec_kw = {'wspace':0.2, 'hspace':0.25})\n",
    "for i, dataset_name in enumerate(DATASET_LIST):\n",
    "    start = 0\n",
    "    num_steps = l2_error[dataset_name]['ts_informed'].shape[1] - 1\n",
    "    stepsize = 1\n",
    "    for method_name in method_format:\n",
    "        legend_name, color, marker, linestyle = method_format[method_name]    \n",
    "        xrange = np.arange(num_steps) * LOG_FREQ + LOG_FREQ\n",
    "        idx = np.arange(num_steps)[start:(start+num_steps)][::stepsize]  \n",
    "        y = l2_error[dataset_name][method_name]/ l2_error[dataset_name]['scores']\n",
    "        eval_mean = np.mean(y, axis=0)\n",
    "        eval_upper = np.quantile(y, 0.875, axis=0)\n",
    "        eval_lower = np.quantile(y, 0.125, axis=0)\n",
    "        axes[i].plot(xrange[idx], \n",
    "                 eval_mean[idx], \n",
    "                 label=legend_name, linewidth=3, color=color, linestyle=linestyle)\n",
    "        axes[i].fill_between(xrange[idx], \n",
    "                         eval_lower[idx], \n",
    "                         eval_upper[idx], \n",
    "                         color=color, alpha=.2)\n",
    "        #plt.ylim([0, 0.3])\n",
    "    axes[i].set_xlabel('#Labeled')\n",
    "    axes[i].set_xscale('log')\n",
    "    #axes[i].set_yscale('log')\n",
    "    axes[i].set_title(DATASET_NAMES[dataset_name])\n",
    "axes[0].legend(fontsize=10, loc='upper right')\n",
    "axes[0].set_ylabel('$L_2$ Error')"
   ]
  },
  {
   "cell_type": "code",
   "execution_count": 13,
   "metadata": {},
   "outputs": [
    {
     "data": {
      "text/plain": [
       "(array(3.7128912e-08), array(0.92820011))"
      ]
     },
     "execution_count": 13,
     "metadata": {},
     "output_type": "execute_result"
    }
   ],
   "source": [
    "l2_error[dataset_name]['diagonal'], l2_error[dataset_name]['ones']"
   ]
  },
  {
   "cell_type": "code",
   "execution_count": 39,
   "metadata": {},
   "outputs": [
    {
     "data": {
      "text/plain": [
       "(1000,)"
      ]
     },
     "execution_count": 39,
     "metadata": {},
     "output_type": "execute_result"
    }
   ],
   "source": [
    "difference.shape"
   ]
  },
  {
   "cell_type": "code",
   "execution_count": null,
   "metadata": {},
   "outputs": [],
   "source": []
  },
  {
   "cell_type": "code",
   "execution_count": 41,
   "metadata": {},
   "outputs": [],
   "source": [
    "from scipy.stats import wilcoxon\n",
    "for i, dataset_name in enumerate(['dbpedia']):\n",
    "    for n in [2,5,10]:\n",
    "        for (method_0, method_1) in [#('random_data', 'random_data_informed'),\\\n",
    "                                     # ('random_data_informed', 'ts_informed'),\\\n",
    "                                    ('random_data', 'ts_informed')]:\n",
    "            num_samples = n * num_groups_dict[dataset_name]\n",
    "            difference = (np.array(l2_error[dataset_name][method_0][:,(num_samples-LOG_FREQ)//LOG_FREQ]) - \\\n",
    "                                np.array(l2_error[dataset_name][method_1][:,(num_samples-LOG_FREQ)//LOG_FREQ])) \\\n",
    "                                        / l2_error[dataset_name]['scores']\n",
    "            w, p = wilcoxon(difference)\n",
    "            #print(difference)\n",
    "            if p > 0.05:\n",
    "                print(dataset_name, n, method_0, method_1)"
   ]
  }
 ],
 "metadata": {
  "kernelspec": {
   "display_name": "Python 3",
   "language": "python",
   "name": "python3"
  },
  "language_info": {
   "codemirror_mode": {
    "name": "ipython",
    "version": 3
   },
   "file_extension": ".py",
   "mimetype": "text/x-python",
   "name": "python",
   "nbconvert_exporter": "python",
   "pygments_lexer": "ipython3",
   "version": "3.7.6"
  }
 },
 "nbformat": 4,
 "nbformat_minor": 4
}
