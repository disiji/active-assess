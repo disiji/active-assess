{
 "cells": [
  {
   "cell_type": "code",
   "execution_count": 1,
   "metadata": {},
   "outputs": [],
   "source": [
    "import argparse\n",
    "import pathlib\n",
    "import random\n",
    "from collections import deque\n",
    "from typing import List, Dict, Tuple, Union\n",
    "from data import Dataset\n",
    "from data_utils import *\n",
    "from models import BetaBernoulli\n",
    "import matplotlib.pyplot as plt\n",
    "import numpy as np\n",
    "from tqdm import tqdm\n",
    "from sampling import *\n",
    "%matplotlib inline  \n",
    "\n",
    "import matplotlib;matplotlib.rcParams['font.size'] = 10\n",
    "import matplotlib;matplotlib.rcParams['font.family'] = 'serif'\n",
    "LINEWIDTH = 13.97\n",
    "LOG_FREQ = 10\n",
    "output_dir = pathlib.Path(\"../output/difference\")"
   ]
  },
  {
   "cell_type": "code",
   "execution_count": 2,
   "metadata": {},
   "outputs": [],
   "source": [
    "DATASET_LIST = ['dbpedia', 'svhn']\n",
    "metric = 'difference' # 'ece', 'confusion_matrix'\n",
    "group_method = 'predicted_class'\n",
    "pseudocount = 2\n",
    "RUNS = 100\n",
    "rope_width=0.05"
   ]
  },
  {
   "cell_type": "code",
   "execution_count": 3,
   "metadata": {},
   "outputs": [
    {
     "name": "stderr",
     "output_type": "stream",
     "text": [
      "100%|██████████| 2/2 [00:00<00:00, 27.31it/s]\n"
     ]
    }
   ],
   "source": [
    "samples = {}\n",
    "mpe_log = {}\n",
    "rope_eval = {}\n",
    "method_list = ['random_arm', 'random_data', 'random_arm_informed', \\\n",
    "               'random_data_informed', 'ts_uniform', 'ts_informed']\n",
    "\n",
    "for dataset_name in tqdm(DATASET_LIST): # takes 4 minutes to load results of imagenet\n",
    "    \n",
    "    samples[dataset_name] = {}\n",
    "    mpe_log[dataset_name] = {}\n",
    "    rope_eval[dataset_name] = {}\n",
    "    \n",
    "    experiment_name = '%s_groupby_%s_pseudocount%.2f' % (dataset_name, group_method, pseudocount)\n",
    "    for method in method_list:\n",
    "        samples[dataset_name][method] = np.load(open(output_dir / experiment_name / \\\n",
    "                                                     ('samples_%s.npy' % method), 'rb'))\n",
    "        mpe_log[dataset_name][method] = np.load(open(output_dir / experiment_name / \\\n",
    "                                                     ('mpe_log_%s.npy' % method), 'rb'))\n",
    "        rope_eval[dataset_name][method] = np.load(open(output_dir / experiment_name / \\\n",
    "                                                       ('rope_eval_%s.npy' % method), 'rb'))"
   ]
  },
  {
   "cell_type": "code",
   "execution_count": 6,
   "metadata": {
    "scrolled": true
   },
   "outputs": [
    {
     "name": "stdout",
     "output_type": "stream",
     "text": [
      "10066\n",
      "5741\n"
     ]
    },
    {
     "data": {
      "text/plain": [
       "Text(0, 0.5, 'Rope')"
      ]
     },
     "execution_count": 6,
     "metadata": {},
     "output_type": "execute_result"
    },
    {
     "data": {
      "image/png": "[encoded data removed]",
      "text/plain": [
       "<Figure size 502.92x180 with 2 Axes>"
      ]
     },
     "metadata": {
      "needs_background": "light"
     },
     "output_type": "display_data"
    }
   ],
   "source": [
    "# plot\n",
    "method_format = {#'random_arm': ('Random Arm Symmetric', 'g', '.', '--'), \n",
    "                 'random_data': ('Random Symmetric', 'b', '^', '--'), \n",
    "                 #'random_arm_informed': ('Random Arm Informed', 'g', '.', '-'), \n",
    "                 'random_data_informed': ('Random Informed', 'b', '^', '-'), \n",
    "                 #'ts_uniform': ('TS Symmetric', 'k', '*', '-'), \n",
    "                 'ts_informed': ('TS Informed', 'r', '+', '-'),\n",
    "                }\n",
    "\n",
    "fig, axes = plt.subplots(nrows=1, ncols=len(DATASET_LIST), figsize=(LINEWIDTH/2,2.5),\n",
    "                        gridspec_kw = {'wspace':0.2, 'hspace':0.25})\n",
    "\n",
    "counts = np.zeros((len(DATASET_LIST), len(method_format)))\n",
    "\n",
    "for i, dataset_name in enumerate(DATASET_LIST):\n",
    "\n",
    "    dataset = Dataset.load_from_text(dataset_name)\n",
    "    dataset.group(group_method = group_method)\n",
    "    deques = dataset.enqueue()\n",
    "    group0 = np.argmax(dataset.accuracy_k)\n",
    "    group1 = np.argmin(dataset.accuracy_k)\n",
    "    budget = len(deques[group0]) + len(deques[group1])\n",
    "    print(budget)\n",
    "    delta = dataset.accuracy_k.max() - dataset.accuracy_k.min()\n",
    "    if delta < -rope_width:\n",
    "        rope_region = 0\n",
    "    elif delta > rope_width:\n",
    "        rope_region = 2\n",
    "    else:\n",
    "        rope_region = 1\n",
    "    \n",
    "    val = []\n",
    "    \n",
    "    for method_name in method_format:\n",
    "        start = 8\n",
    "        num_steps = rope_eval[dataset_name][method_name].shape[1] - start\n",
    "        stepsize = 1\n",
    "        legend_name, color, marker, linestyle = method_format[method_name]    \n",
    "        xrange = np.arange(num_steps) * LOG_FREQ  + LOG_FREQ\n",
    "        idx = np.arange(num_steps)[start:(start+num_steps)][::stepsize]   \n",
    "        mean = np.mean(rope_eval[dataset_name][method_name][:,:,rope_region], axis=0)\n",
    "        axes[i].plot(xrange[idx], \n",
    "                 mean[idx], \n",
    "                 label=legend_name, linewidth=3, color=color, linestyle=linestyle)\n",
    "        if method_name != 'random_data':\n",
    "            axes[i].fill_between(xrange[idx], \n",
    "                         np.quantile(rope_eval[dataset_name][method_name][:,:,rope_region], 0.125, axis=0)[idx], \n",
    "                         np.quantile(rope_eval[dataset_name][method_name][:,:,rope_region], 0.875, axis=0)[idx], \n",
    "                         color=color, alpha=.2)\n",
    "        val.append(np.argmax(mean[idx] > 0.99) * LOG_FREQ  + LOG_FREQ)\n",
    "        #plt.ylim([0, 0.3])\n",
    "    counts[i] = np.array(val)\n",
    "    axes[i].set_xlabel('#Labeled')\n",
    "    axes[i].set_xscale('log')\n",
    "    \n",
    "    axes[i].set_title(DATASET_NAMES[dataset_name])\n",
    "axes[0].legend(fontsize=10, loc='lower right')\n",
    "axes[0].set_ylabel('Rope')"
   ]
  },
  {
   "cell_type": "code",
   "execution_count": 7,
   "metadata": {},
   "outputs": [
    {
     "data": {
      "text/html": [
       "<div>\n",
       "<style scoped>\n",
       "    .dataframe tbody tr th:only-of-type {\n",
       "        vertical-align: middle;\n",
       "    }\n",
       "\n",
       "    .dataframe tbody tr th {\n",
       "        vertical-align: top;\n",
       "    }\n",
       "\n",
       "    .dataframe thead th {\n",
       "        text-align: right;\n",
       "    }\n",
       "</style>\n",
       "<table border=\"1\" class=\"dataframe\">\n",
       "  <thead>\n",
       "    <tr style=\"text-align: right;\">\n",
       "      <th></th>\n",
       "      <th>DBpedia</th>\n",
       "      <th>SVHN</th>\n",
       "    </tr>\n",
       "  </thead>\n",
       "  <tbody>\n",
       "    <tr>\n",
       "      <th>Random Symmetric</th>\n",
       "      <td>2720.0</td>\n",
       "      <td>2950.0</td>\n",
       "    </tr>\n",
       "    <tr>\n",
       "      <th>Random Informed</th>\n",
       "      <td>2580.0</td>\n",
       "      <td>2890.0</td>\n",
       "    </tr>\n",
       "    <tr>\n",
       "      <th>TS Informed</th>\n",
       "      <td>2570.0</td>\n",
       "      <td>1950.0</td>\n",
       "    </tr>\n",
       "  </tbody>\n",
       "</table>\n",
       "</div>"
      ],
      "text/plain": [
       "                  DBpedia    SVHN\n",
       "Random Symmetric   2720.0  2950.0\n",
       "Random Informed    2580.0  2890.0\n",
       "TS Informed        2570.0  1950.0"
      ]
     },
     "execution_count": 7,
     "metadata": {},
     "output_type": "execute_result"
    }
   ],
   "source": [
    "df = pd.DataFrame(counts.T, \n",
    "                  index=[method_format[i][0] for i in method_format], \n",
    "                  columns=[DATASET_NAMES[dataset_name] for dataset_name in DATASET_LIST])\n",
    "df"
   ]
  }
 ],
 "metadata": {
  "kernelspec": {
   "display_name": "Python 3",
   "language": "python",
   "name": "python3"
  },
  "language_info": {
   "codemirror_mode": {
    "name": "ipython",
    "version": 3
   },
   "file_extension": ".py",
   "mimetype": "text/x-python",
   "name": "python",
   "nbconvert_exporter": "python",
   "pygments_lexer": "ipython3",
   "version": "3.7.6"
  }
 },
 "nbformat": 4,
 "nbformat_minor": 4
}
