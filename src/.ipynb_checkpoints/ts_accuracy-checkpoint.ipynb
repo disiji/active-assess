{
 "cells": [
  {
   "cell_type": "code",
   "execution_count": 1,
   "metadata": {},
   "outputs": [],
   "source": [
    "import argparse\n",
    "import pathlib\n",
    "import random\n",
    "from collections import deque\n",
    "from typing import List, Dict, Tuple, Union\n",
    "from data import Dataset\n",
    "from data_utils import *\n",
    "from sampling import *\n",
    "from models import BetaBernoulli\n",
    "import matplotlib.pyplot as plt\n",
    "import numpy as np\n",
    "from tqdm import tqdm\n",
    "%matplotlib inline  \n",
    "\n",
    "import matplotlib;matplotlib.rcParams['font.size'] = 10\n",
    "import matplotlib;matplotlib.rcParams['font.family'] = 'serif'\n",
    "\n",
    "LOG_FREQ = 10\n",
    "output = pathlib.Path(\"../output/active_learning_low_variance\")"
   ]
  },
  {
   "cell_type": "code",
   "execution_count": 2,
   "metadata": {},
   "outputs": [],
   "source": [
    "dataset_name = 'cifar100'\n",
    "metric = 'accuracy' # 'ece', 'confusion_matrix'\n",
    "group_method = 'predicted_class'\n",
    "pseudocount = 2\n",
    "RUNS = 100\n",
    "experiment_name = '%s_%s_groupby_%s_runs%d_pseudocount%.2f' % \\\n",
    "            (dataset_name, metric, group_method, RUNS, pseudocount)"
   ]
  },
  {
   "cell_type": "code",
   "execution_count": null,
   "metadata": {
    "scrolled": true
   },
   "outputs": [],
   "source": [
    "samples = {}\n",
    "mpe_log = {}\n",
    "method_list = ['random_arm', 'random_data', 'ts_uniform', 'ts_informed']\n",
    "for method in method_list:\n",
    "    samples[method] = np.load(open(output / experiment_name / ('samples_%s.npy' % method), 'rb'))\n",
    "    mpe_log[method] = np.load(open(output / experiment_name / ('mpe_log_%s.npy' % method), 'rb'))"
   ]
  },
  {
   "cell_type": "code",
   "execution_count": null,
   "metadata": {
    "scrolled": true
   },
   "outputs": [],
   "source": [
    "method_list = ['random_arm', 'random_data', 'ts_uniform', 'ts_informed']\n",
    "method_format = {'random_arm': ('Random Arm', 'b', '.', '-.'), \n",
    "                 'random_data': ('Random Datapoint', 'g', '^', '-.'), \n",
    "                 'ts_uniform': ('TS Uniform', 'r', '*', '-'), \n",
    "                 'ts_informed': ('TS informed', 'r', '+', '-.'),\n",
    "                }\n",
    "\n",
    "dataset = Dataset.load_from_text(dataset_name)\n",
    "dataset.group(group_method = group_method)\n",
    "start = 3\n",
    "num_steps = 1000\n",
    "stepsize = 1\n",
    "\n",
    "plt.figure(figsize=(6,4))\n",
    "for method_name in method_list:\n",
    "    legend_name, color, marker, linestyle = method_format[method_name]\n",
    "    estimation_error = np.zeros((RUNS, dataset.__len__() // LOG_FREQ))\n",
    "    for run_id in range(RUNS):\n",
    "        accuracy_k = dataset.accuracy_k\n",
    "        accuracy_k[np.isnan(accuracy_k)] = 0\n",
    "        estimation_error[run_id] = np.sqrt(np.inner(np.abs(mpe_log[method_name][run_id] - accuracy_k)**2, \\\n",
    "                                                    dataset.weight_k))\n",
    "    \n",
    "    xrange = np.arange(num_steps) * LOG_FREQ\n",
    "    mean_error = np.mean(estimation_error, axis=0)\n",
    "    lb_error = np.quantile(estimation_error, 0.125, axis=0)\n",
    "    ub_error = np.quantile(estimation_error, 0.875, axis=0)\n",
    "\n",
    "    idx = np.arange(num_steps)[start:(start+num_steps)][::stepsize]   \n",
    "    plt.plot(xrange[idx], \n",
    "             mean_error[idx], \n",
    "             label=legend_name, linewidth=3, color=color, linestyle=linestyle)\n",
    "    plt.fill_between(xrange[idx], \n",
    "                     lb_error[idx], \n",
    "                     ub_error[idx], \n",
    "                     color=color, alpha=.2)\n",
    "    #plt.ylim([0, 0.3])\n",
    "    plt.xlabel('#Labeled')\n",
    "    plt.ylabel('$L_2$ Error')\n",
    "    plt.xscale('log')\n",
    "    plt.legend(fontsize=12, loc='upper right')\n",
    "    plt.title(experiment_name)"
   ]
  },
  {
   "cell_type": "code",
   "execution_count": null,
   "metadata": {},
   "outputs": [],
   "source": []
  },
  {
   "cell_type": "code",
   "execution_count": null,
   "metadata": {},
   "outputs": [],
   "source": [
    "run_id = 1\n",
    "dataset = Dataset.load_from_text(dataset_name)\n",
    "dataset.group(group_method = group_method)\n",
    "fig, axes = plt.subplots(1, len(method_list), figsize=(12,3), sharex=True, sharey=True)\n",
    "for i, method_name in enumerate(method_list):\n",
    "    legend_name, color, marker, linestyle = method_format[method_name]\n",
    "    for N in [200, 50]:\n",
    "        indices = samples[method_name][run_id][:N]\n",
    "        categories = dataset.categories[indices]\n",
    "        axes[i].hist(categories, label=N, alpha=0.8, bins = 100)\n",
    "    axes[i].legend()\n",
    "    axes[i].set_xlabel('Predicted class')\n",
    "    axes[i].set_ylabel('#labeled')\n",
    "    axes[i].set_title(legend_name)"
   ]
  },
  {
   "cell_type": "code",
   "execution_count": null,
   "metadata": {},
   "outputs": [],
   "source": []
  }
 ],
 "metadata": {
  "kernelspec": {
   "display_name": "Python 3",
   "language": "python",
   "name": "python3"
  },
  "language_info": {
   "codemirror_mode": {
    "name": "ipython",
    "version": 3
   },
   "file_extension": ".py",
   "mimetype": "text/x-python",
   "name": "python",
   "nbconvert_exporter": "python",
   "pygments_lexer": "ipython3",
   "version": "3.7.6"
  }
 },
 "nbformat": 4,
 "nbformat_minor": 4
}
