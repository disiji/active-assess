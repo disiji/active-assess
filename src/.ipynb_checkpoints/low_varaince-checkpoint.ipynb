{
 "cells": [
  {
   "cell_type": "code",
   "execution_count": 1,
   "metadata": {},
   "outputs": [],
   "source": [
    "import argparse\n",
    "import pathlib\n",
    "import random\n",
    "from collections import deque\n",
    "from typing import List, Dict, Tuple, Union\n",
    "from data import Dataset\n",
    "from data_utils import *\n",
    "from models import BetaBernoulli\n",
    "import matplotlib.pyplot as plt\n",
    "import numpy as np\n",
    "from tqdm import tqdm\n",
    "%matplotlib inline  "
   ]
  },
  {
   "cell_type": "code",
   "execution_count": 2,
   "metadata": {},
   "outputs": [],
   "source": [
    "dataset_name = 'cifar100'\n",
    "metric = 'overall_accuracy' # 'ece', 'confusion_matrix'\n",
    "group_method = 'score'\n",
    "pseudocount = 2\n",
    "output = pathlib.Path(\"../output/active_learning_low_variance\")\n",
    "random_state = 0\n",
    "RUNS = 10\n",
    "LOG_FREQ = 10"
   ]
  },
  {
   "cell_type": "code",
   "execution_count": 3,
   "metadata": {},
   "outputs": [],
   "source": [
    "from scipy.stats import beta\n",
    "\n",
    "def random_sampling(deques: List[deque], \n",
    "                    **kwargs) -> Union[int, List[int]]:\n",
    "    while True:\n",
    "        category = random.randrange(len(deques))\n",
    "        if len(deques[category]) != 0:\n",
    "            return category\n",
    "\n",
    "def thompson_sampling(deques: List[deque],\n",
    "                      reward: List[float], #(num_groups, )\n",
    "                     ) -> Union[int, List[int]]:\n",
    "    ranked = np.argsort(reward)\n",
    "    for category in ranked:\n",
    "        if len(deques[category]) != 0:\n",
    "            return category\n",
    "\n",
    "SAMPLE_CATEGORY = {\n",
    "    'random': random_sampling,\n",
    "    'ts': thompson_sampling,\n",
    "}"
   ]
  },
  {
   "cell_type": "code",
   "execution_count": 4,
   "metadata": {},
   "outputs": [],
   "source": [
    "def select_and_label(dataset: 'Dataset', sample_method: str, prior=None) -> np.ndarray:\n",
    "    \n",
    "    if metric in ['overall_accuracy', 'most_accurate', 'least_accurate']:\n",
    "        model = BetaBernoulli(dataset.num_groups, prior=prior, weight=dataset.weight_k)\n",
    "        deques = dataset.enqueue()\n",
    "    else:\n",
    "        return \n",
    "\n",
    "    sampled_indices = np.zeros((dataset.__len__(),), dtype=np.int) # indices of selected data points\n",
    "    mpe_log = np.zeros((dataset.__len__() // LOG_FREQ, dataset.num_groups))\n",
    "    \n",
    "    sample_fct = SAMPLE_CATEGORY[sample_method]\n",
    "\n",
    "    idx = 0\n",
    "    while idx < dataset.__len__():\n",
    "        if sample_method == 'ts':\n",
    "            reward = model.reward(reward_type=metric)\n",
    "        else:\n",
    "            reward=None\n",
    "        category = sample_fct(deques=deques, reward=reward)\n",
    "        selected = deques[category].pop() # a dictionary\n",
    "        model.update(category, selected)\n",
    "        sampled_indices[idx] = selected['index']\n",
    "        if (idx+1) % LOG_FREQ == 0:\n",
    "            mpe_log[idx // LOG_FREQ] = model.mpe\n",
    "        idx += 1\n",
    "\n",
    "    return sampled_indices,  mpe_log"
   ]
  },
  {
   "cell_type": "code",
   "execution_count": 5,
   "metadata": {},
   "outputs": [],
   "source": [
    "def run() -> None:\n",
    "\n",
    "    experiment_name = '%s_%s_runs%d_pseudocount%.2f' % (dataset_name, metric, RUNS, pseudocount)\n",
    "    if not (output / experiment_name).is_dir():\n",
    "        (output / experiment_name).mkdir()\n",
    "\n",
    "    method_list = ['non_active', 'ts_uniform', 'ts_informed']\n",
    "    \n",
    "    samples = {}\n",
    "    mpe_log = {}\n",
    "    for method in method_list:\n",
    "        samples[method] = {}\n",
    "        mpe_log[method] = {}\n",
    "        for r in range(RUNS):\n",
    "            samples[method][r] = {}\n",
    "            mpe_log[method][r] = {}\n",
    "\n",
    "    for r in tqdm(range(RUNS)):\n",
    "        dataset = Dataset.load_from_text(dataset_name)\n",
    "        dataset.group(group_method = group_method)\n",
    "        dataset.shuffle(random_state)\n",
    "\n",
    "        UNIFORM_PRIOR = np.ones((dataset.num_groups, 2)) / 2 * pseudocount\n",
    "        INFORMED_PRIOR = np.array([dataset.confidence_k, 1 - dataset.confidence_k]).T * pseudocount\n",
    "        INFORMED_PRIOR[np.isnan(INFORMED_PRIOR)] = 1.0 / 2 * pseudocount\n",
    "    \n",
    "        samples['non_active'][r], mpe_log['non_active'][r] = select_and_label(dataset, sample_method='random', \n",
    "                                                               prior=UNIFORM_PRIOR * 1e-6)\n",
    "        samples['ts_uniform'][r], mpe_log['ts_uniform'][r] = select_and_label(dataset, sample_method='ts', \n",
    "                                                               prior=UNIFORM_PRIOR)\n",
    "        samples['ts_informed'][r], mpe_log['ts_informed'][r] = select_and_label(dataset, sample_method='ts', \n",
    "                                                                prior=INFORMED_PRIOR)\n",
    "    # write samples to file\n",
    "    for method in method_list:\n",
    "        np.save(output / experiment_name / ('samples_%s.npy' % method), samples[method])\n",
    "        np.save(output / experiment_name / ('mpe_log_%s.npy' % method), mpe_log[method])\n",
    "    return samples, mpe_log"
   ]
  },
  {
   "cell_type": "code",
   "execution_count": 6,
   "metadata": {
    "scrolled": false
   },
   "outputs": [
    {
     "name": "stderr",
     "output_type": "stream",
     "text": [
      "100%|██████████| 10/10 [01:05<00:00,  6.53s/it]\n"
     ]
    }
   ],
   "source": [
    "samples, mpe_log = run()"
   ]
  },
  {
   "cell_type": "code",
   "execution_count": 14,
   "metadata": {},
   "outputs": [
    {
     "data": {
      "image/png": "[encoded data removed]",
      "text/plain": [
       "<Figure size 432x288 with 1 Axes>"
      ]
     },
     "metadata": {
      "needs_background": "light"
     },
     "output_type": "display_data"
    }
   ],
   "source": [
    "method_list = ['non_active', 'ts_uniform', 'ts_informed']\n",
    "\n",
    "dataset = Dataset.load_from_text(dataset_name)\n",
    "dataset.group(group_method = group_method)\n",
    "\n",
    "for method_name in method_list:\n",
    "    estimation_error = np.zeros((RUNS, dataset.__len__() // LOG_FREQ))\n",
    "    for run_id in range(RUNS):\n",
    "        accuracy_k = dataset.accuracy_k\n",
    "        accuracy_k[np.isnan(accuracy_k)] = 0\n",
    "        estimation_error[run_id] = np.inner((mpe_log[method_name][run_id] - accuracy_k)**2, dataset.weight_k)\n",
    "    plt.plot(estimation_error.mean(axis=0), label=method_name)\n",
    "    plt.legend()"
   ]
  },
  {
   "cell_type": "code",
   "execution_count": 13,
   "metadata": {},
   "outputs": [
    {
     "data": {
      "text/plain": [
       "array([       nan, 0.16666667, 0.18589744, 0.25072046, 0.36068702,\n",
       "       0.39300699, 0.4525661 , 0.54332875, 0.67157895, 0.92922297])"
      ]
     },
     "execution_count": 13,
     "metadata": {},
     "output_type": "execute_result"
    }
   ],
   "source": [
    "dataset.accuracy_k"
   ]
  }
 ],
 "metadata": {
  "kernelspec": {
   "display_name": "Python 3",
   "language": "python",
   "name": "python3"
  },
  "language_info": {
   "codemirror_mode": {
    "name": "ipython",
    "version": 3
   },
   "file_extension": ".py",
   "mimetype": "text/x-python",
   "name": "python",
   "nbconvert_exporter": "python",
   "pygments_lexer": "ipython3",
   "version": "3.7.6"
  }
 },
 "nbformat": 4,
 "nbformat_minor": 4
}
