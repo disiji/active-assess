{
 "cells": [
  {
   "cell_type": "code",
   "execution_count": 367,
   "metadata": {},
   "outputs": [],
   "source": [
    "import argparse\n",
    "import pathlib\n",
    "import random\n",
    "from collections import deque\n",
    "from typing import List, Dict, Tuple, Union\n",
    "from data import Dataset, SuperclassDataset\n",
    "from data_utils import *\n",
    "from models import BetaBernoulli\n",
    "import matplotlib.pyplot as plt\n",
    "import numpy as np\n",
    "from tqdm import tqdm\n",
    "from sampling import *\n",
    "%matplotlib inline  \n",
    "\n",
    "import matplotlib;matplotlib.rcParams['font.size'] = 10\n",
    "import matplotlib;matplotlib.rcParams['font.family'] = 'serif'\n",
    "LINEWIDTH = 13.97"
   ]
  },
  {
   "cell_type": "code",
   "execution_count": 368,
   "metadata": {},
   "outputs": [],
   "source": [
    "DATASET_LIST = ['svhn']\n",
    "metric = 'difference' # 'ece', 'confusion_matrix'\n",
    "group_method = 'predicted_class'\n",
    "rope_width=0.05"
   ]
  },
  {
   "cell_type": "code",
   "execution_count": 400,
   "metadata": {},
   "outputs": [],
   "source": [
    "def rope(ax, alpha0, alpha1, beta0, beta1, rope_width=0.01):\n",
    "    num_samples = 10000\n",
    "    theta_0 = np.random.beta(alpha0, beta0, size=(num_samples,))\n",
    "    theta_1 = np.random.beta(alpha1, beta1, size=(num_samples,))\n",
    "    delta = theta_0 - theta_1\n",
    "    vals = ((delta < -rope_width).mean(), (np.abs(delta) <= rope_width).mean(), (delta > rope_width).mean())\n",
    "    ax.hist(delta, bins=100, color = 'b', label='Bayesian', alpha=0.5)\n",
    "    ax.axvline(x=-rope_width, label='rope', color='gold', linewidth = 4)\n",
    "    ax.axvline(x=rope_width, color='gold', linewidth = 5)\n",
    "    \n",
    "    frequentist = (alpha0) / (alpha0+beta0) - (alpha1) / (alpha1+beta1)\n",
    "    budget = alpha0 + alpha1 + beta0 + beta1\n",
    "    ax.axvline(x=frequentist, color='red', linewidth = 4, label='Frequentist', linestyle='--')\n",
    "    #ax.set_xlim(-0.05, 0.05)\n",
    "    ax.spines['right'].set_visible(False)\n",
    "    ax.spines['top'].set_visible(False)\n",
    "    ax.spines['left'].set_visible(False)\n",
    "    ax.yaxis.set_ticks([])\n",
    "    ax.annotate('$P(\\Delta\\ll0)=${:.2f}\\n$P(\\Delta\\\\approx 0)=${:.2f}\\n$P(\\Delta\\gg0)=${:.2f}\\n\\n$N_1+N_2=${:.0f}'.\\\n",
    "                format(vals[0], vals[1], vals[2], budget), xy=(0.1, 1.01), xycoords='axes fraction', \\\n",
    "                fontsize=11, ha='left', va='top')\n",
    "    vals = ax.get_xticks()\n",
    "    ax.set_xticklabels(['{:,.1%}'.format(x) for x in vals])\n",
    "    return ax"
   ]
  },
  {
   "cell_type": "code",
   "execution_count": 389,
   "metadata": {},
   "outputs": [],
   "source": [
    "dataset = SuperclassDataset.load_from_text('cifar100', CIFAR100_SUPERCLASS_LOOKUP)"
   ]
  },
  {
   "cell_type": "code",
   "execution_count": 391,
   "metadata": {},
   "outputs": [
    {
     "data": {
      "text/plain": [
       "array([0.61336032, 0.74476987, 0.80943026, 0.76639344, 0.80273438,\n",
       "       0.77844311, 0.750499  , 0.79104478, 0.76064909, 0.83625731,\n",
       "       0.79727096, 0.74186992, 0.79569892, 0.72525253, 0.58004158,\n",
       "       0.59692898, 0.61663653, 0.68493151, 0.84804928, 0.80152672])"
      ]
     },
     "execution_count": 391,
     "metadata": {},
     "output_type": "execute_result"
    }
   ],
   "source": [
    "dataset.accuracy_k"
   ]
  },
  {
   "cell_type": "code",
   "execution_count": 401,
   "metadata": {},
   "outputs": [
    {
     "name": "stderr",
     "output_type": "stream",
     "text": [
      "No handles with labels found to put in legend.\n"
     ]
    },
    {
     "name": "stdout",
     "output_type": "stream",
     "text": [
      "group0, accuracy: people 0.58004158004158\n",
      "group0, accuracy: trees 0.684931506849315\n",
      "group0, accuracy: woman 0.5504587155963303\n",
      "group1, accuracy: man 0.6666666666666666\n"
     ]
    },
    {
     "data": {
      "image/png": "[encoded data removed]",
      "text/plain": [
       "<Figure size 814.73x165.6 with 2 Axes>"
      ]
     },
     "metadata": {
      "needs_background": "light"
     },
     "output_type": "display_data"
    }
   ],
   "source": [
    "human_classes = [2,11,35,46, 98]\n",
    "non_human_classes = [i for i in range(100) if i not in human_classes]\n",
    "experiment_configs = [\n",
    "    #('svhn', [6], [9], '6', '9'),\n",
    "    #('superclass_cifar100', [14], [i for i in range(20) if i != 14], 'human', 'others'),\n",
    "    ('superclass_cifar100', [14], [17], 'human', 'trees'),\n",
    "    # ('cifar100', [35], [11], 'girl', 'boy'),\n",
    "    ('cifar100', [98], [46], 'woman', 'man')\n",
    "]\n",
    "fig, axes = plt.subplots(ncols=len(experiment_configs), nrows=1, figsize=(LINEWIDTH*0.81,2.3))\n",
    "\n",
    "for i, config in enumerate(experiment_configs):\n",
    "    \n",
    "    dataset_name, group0_list, group1_list, group0_name, group1_name = config   \n",
    "    if len(dataset_name) > len('superclass') and dataset_name[:len('superclass')] == 'superclass':\n",
    "        superclass = True\n",
    "        dataset_name = 'cifar100'\n",
    "        dataset = SuperclassDataset.load_from_text('cifar100', CIFAR100_SUPERCLASS_LOOKUP)\n",
    "    else:\n",
    "        superclass = False\n",
    "        dataset = Dataset.load_from_text(dataset_name)\n",
    "        dataset.group(group_method = group_method)\n",
    "    \n",
    "    deques = dataset.enqueue()\n",
    "    dataset_len = dataset.__len__()\n",
    "    dataset_accuracy_k = dataset.accuracy_k\n",
    "    dataset_counts_k = dataset.weight_k * dataset_len\n",
    "    del dataset, deques\n",
    "    \n",
    "    \n",
    "    alpha0, alpha1, beta0, beta1 = 1.0, 1.0, 1.0, 1.0\n",
    "    for group0 in group0_list:\n",
    "        if superclass:\n",
    "            print('group0, accuracy:', CIFAR100_SUPERCLASSES[group0], dataset_accuracy_k[group0])\n",
    "        else:\n",
    "            print('group0, accuracy:', CIFAR100_CLASSES[group0], dataset_accuracy_k[group0])\n",
    "        alpha0 += dataset_counts_k[group0] * (dataset_accuracy_k[group0])\n",
    "        beta0  += dataset_counts_k[group0] * ((1-dataset_accuracy_k[group0]))\n",
    "    for group1 in group1_list:\n",
    "        if superclass:\n",
    "            print('group0, accuracy:', CIFAR100_SUPERCLASSES[group1], dataset_accuracy_k[group1])\n",
    "        else:     \n",
    "            print('group1, accuracy:', CIFAR100_CLASSES[group1], dataset_accuracy_k[group1])\n",
    "        alpha1 += dataset_counts_k[group1] * (dataset_accuracy_k[group1])\n",
    "        beta1  += dataset_counts_k[group1] * ((1-dataset_accuracy_k[group1]))\n",
    "    axes[i] = rope(axes[i], float(alpha0), float(alpha1), float(beta0), float(beta1), rope_width)\n",
    "    axes[1].legend(loc='center right', fontsize=11, bbox_to_anchor=(1.1, 0.5))\n",
    "    axes[i].set_xlabel(r\"$\\Delta$ accuracy, %s, %s v.s. %s\" % (DATASET_NAMES[dataset_name], group0_name, group1_name), fontsize=12)\n",
    "plt.tight_layout()"
   ]
  },
  {
   "cell_type": "code",
   "execution_count": 394,
   "metadata": {},
   "outputs": [
    {
     "name": "stdout",
     "output_type": "stream",
     "text": [
      "17\n"
     ]
    }
   ],
   "source": [
    "CIFAR100_CLASSES = [\n",
    "    \"apple\", \"aquarium_fish\", \"baby\", \"bear\", \"beaver\", \"bed\", \"bee\", \"beetle\", \"bicycle\",\n",
    "    \"bottle\", \"bowl\", \"boy\", \"bridge\", \"bus\", \"butterfly\", \"camel\", \"can\", \"castle\",\n",
    "    \"caterpillar\", \"cattle\", \"chair\", \"chimpanzee\", \"clock\", \"cloud\", \"cockroach\", \"couch\",\n",
    "    \"crab\", \"crocodile\", \"cup\", \"dinosaur\", \"dolphin\", \"elephant\", \"flatfish\", \"forest\", \"fox\",\n",
    "    \"girl\", \"hamster\", \"house\", \"kangaroo\", \"keyboard\", \"lamp\", \"lawn_mower\", \"leopard\", \"lion\",\n",
    "    \"lizard\", \"lobster\", \"man\", \"maple_tree\", \"motorcycle\", \"mountain\", \"mouse\", \"mushroom\",\n",
    "    \"oak_tree\", \"orange\", \"orchid\", \"otter\", \"palm_tree\", \"pear\", \"pickup_truck\", \"pine_tree\",\n",
    "    \"plain\", \"plate\", \"poppy\", \"porcupine\", \"possum\", \"rabbit\", \"raccoon\", \"ray\", \"road\",\n",
    "    \"rocket\", \"rose\", \"sea\", \"seal\", \"shark\", \"shrew\", \"skunk\", \"skyscraper\", \"snail\", \"snake\",\n",
    "    \"spider\", \"squirrel\", \"streetcar\", \"sunflower\", \"sweet_pepper\", \"table\", \"tank\", \"telephone\",\n",
    "    \"television\", \"tiger\", \"tractor\", \"train\", \"trout\", \"tulip\", \"turtle\", \"wardrobe\", \"whale\",\n",
    "    \"willow_tree\", \"wolf\", \"woman\", \"worm\"\n",
    "]\n",
    "CIFAR100_SUPERCLASSES = [\n",
    "    \"aquatic_mammals\", \"fish\", \"flowers\", \"food_containers\", \"fruit_and_vegetables\",\n",
    "    \"household_electrical_devices\", \"household_furniture\", \"insects\", \"large_carnivores\",\n",
    "    \"large_man-made_outdoor_things\", \"large_natural_outdoor_scenes\",\n",
    "    \"large_omnivores_and_herbivores\", \"medium_mammals\", \"non-insect_invertebrates\", \"people\",\n",
    "    \"reptiles\", \"small_mammals\", \"trees\", \"vehicles_1\", \"vehicles_2\"\n",
    "]\n",
    "CIFAR100_REVERSE_SUPERCLASS_LOOKUP = {\n",
    "    \"aquatic_mammals\": [\"beaver\", \"dolphin\", \"otter\", \"seal\", \"whale\"],\n",
    "    \"fish\": [\"aquarium_fish\", \"flatfish\", \"ray\", \"shark\", \"trout\"],\n",
    "    \"flowers\": [\"orchid\", \"poppy\", \"rose\", \"sunflower\", \"tulip\"],\n",
    "    \"food_containers\": [\"bottle\", \"bowl\", \"can\", \"cup\", \"plate\"],\n",
    "    \"fruit_and_vegetables\": [\"apple\", \"mushroom\", \"orange\", \"pear\", \"sweet_pepper\"],\n",
    "    \"household_electrical_devices\": [\"clock\", \"keyboard\", \"lamp\", \"telephone\", \"television\"],\n",
    "    \"household_furniture\": [\"bed\", \"chair\", \"couch\", \"table\", \"wardrobe\"],\n",
    "    \"insects\": [\"bee\", \"beetle\", \"butterfly\", \"caterpillar\", \"cockroach\"],\n",
    "    \"large_carnivores\": [\"bear\", \"leopard\", \"lion\", \"tiger\", \"wolf\"],\n",
    "    \"large_man-made_outdoor_things\": [\"bridge\", \"castle\", \"house\", \"road\", \"skyscraper\"],\n",
    "    \"large_natural_outdoor_scenes\": [\"cloud\", \"forest\", \"mountain\", \"plain\", \"sea\"],\n",
    "    \"large_omnivores_and_herbivores\": [\"camel\", \"cattle\", \"chimpanzee\", \"elephant\", \"kangaroo\"],\n",
    "    \"medium_mammals\": [\"fox\", \"porcupine\", \"possum\", \"raccoon\", \"skunk\"],\n",
    "    \"non-insect_invertebrates\": [\"crab\", \"lobster\", \"snail\", \"spider\", \"worm\"],\n",
    "    \"people\": [\"baby\", \"boy\", \"girl\", \"man\", \"woman\"],\n",
    "    \"reptiles\": [\"crocodile\", \"dinosaur\", \"lizard\", \"snake\", \"turtle\"],\n",
    "    \"small_mammals\": [\"hamster\", \"mouse\", \"rabbit\", \"shrew\", \"squirrel\"],\n",
    "    \"trees\": [\"maple_tree\", \"oak_tree\", \"palm_tree\", \"pine_tree\", \"willow_tree\"],\n",
    "    \"vehicles_1\": [\"bicycle\", \"bus\", \"motorcycle\", \"pickup_truck\", \"train\"],\n",
    "    \"vehicles_2\": [\"lawn_mower\", \"rocket\", \"streetcar\", \"tank\", \"tractor\"]\n",
    "}\n",
    "print(CIFAR100_SUPERCLASSES.index('trees'))"
   ]
  },
  {
   "cell_type": "code",
   "execution_count": 402,
   "metadata": {},
   "outputs": [],
   "source": [
    "fig.savefig('../figures/rope.pdf', dpi=300, bbox_inches='tight', pad_inches=0)"
   ]
  },
  {
   "cell_type": "code",
   "execution_count": 5,
   "metadata": {},
   "outputs": [
    {
     "name": "stdout",
     "output_type": "stream",
     "text": [
      "(2, 9)\n"
     ]
    }
   ],
   "source": [
    "dataset_accuracy_k\n",
    "min_config = (0,1)\n",
    "min_val = abs(dataset_accuracy_k[0] - dataset_accuracy_k[1])\n",
    "for i in range(10):\n",
    "    for j in range(i+1, 10):\n",
    "        tmp = abs(dataset_accuracy_k[i] - dataset_accuracy_k[j])\n",
    "        if tmp > min_val:\n",
    "            min_val = tmp\n",
    "            min_config = (i, j)\n",
    "print(min_config)            "
   ]
  }
 ],
 "metadata": {
  "kernelspec": {
   "display_name": "Python 3",
   "language": "python",
   "name": "python3"
  },
  "language_info": {
   "codemirror_mode": {
    "name": "ipython",
    "version": 3
   },
   "file_extension": ".py",
   "mimetype": "text/x-python",
   "name": "python",
   "nbconvert_exporter": "python",
   "pygments_lexer": "ipython3",
   "version": "3.7.6"
  }
 },
 "nbformat": 4,
 "nbformat_minor": 4
}
