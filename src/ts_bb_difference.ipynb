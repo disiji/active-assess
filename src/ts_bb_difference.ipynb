{
 "cells": [
  {
   "cell_type": "code",
   "execution_count": 1,
   "metadata": {},
   "outputs": [],
   "source": [
    "import argparse\n",
    "import pathlib\n",
    "import random\n",
    "from collections import deque\n",
    "from typing import List, Dict, Tuple, Union\n",
    "from data import Dataset\n",
    "from data_utils import *\n",
    "from models import BetaBernoulli\n",
    "import matplotlib.pyplot as plt\n",
    "import numpy as np\n",
    "from tqdm import tqdm\n",
    "from sampling import *\n",
    "%matplotlib inline  \n",
    "\n",
    "import matplotlib;matplotlib.rcParams['font.size'] = 10\n",
    "import matplotlib;matplotlib.rcParams['font.family'] = 'serif'\n",
    "\n",
    "LOG_FREQ = 10\n",
    "output_dir = pathlib.Path(\"../output/active_learning_difference\")"
   ]
  },
  {
   "cell_type": "code",
   "execution_count": 2,
   "metadata": {},
   "outputs": [
    {
     "name": "stdout",
     "output_type": "stream",
     "text": [
      "0.9550561797752809 0.42857142857142855\n"
     ]
    }
   ],
   "source": [
    "dataset_name = 'cifar100'\n",
    "metric = 'difference' # 'ece', 'confusion_matrix'\n",
    "group_method = 'predicted_class'\n",
    "pseudocount = 2\n",
    "RUNS = 100\n",
    "experiment_name = '%s_%s_groupby_%s_runs%d_pseudocount%.2f' % \\\n",
    "            (dataset_name, metric, group_method, RUNS, pseudocount)\n",
    "\n",
    "dataset = Dataset.load_from_text(dataset_name)\n",
    "dataset.group(group_method = group_method)\n",
    "group0 = np.argmax(dataset.accuracy_k)\n",
    "group1 = np.argmin(dataset.accuracy_k)\n",
    "\n",
    "print(np.max(dataset.accuracy_k), np.min(dataset.accuracy_k))"
   ]
  },
  {
   "cell_type": "code",
   "execution_count": 3,
   "metadata": {},
   "outputs": [],
   "source": [
    "def rope(alpha0, alpha1, beta0, beta1):\n",
    "    num_samples = 10000\n",
    "    theta_0 = np.random.beta(alpha0, beta0, size=(num_samples))\n",
    "    theta_1 = np.random.beta(alpha1, beta1, size=(num_samples))\n",
    "    delta = theta_0 - theta_1\n",
    "    return [(delta < -0.05).mean(), (np.abs(delta) <= 0.05).mean(), (delta > 0.05).mean()]\n",
    "\n",
    "def select_and_label(dataset: 'Dataset', sample_method: str, budget: int, prior=None, weighted=False) -> np.ndarray:\n",
    "    \n",
    "    if metric in ['accuracy', 'most_accurate', 'least_accurate', 'difference']:\n",
    "        model = BetaBernoulli(dataset.num_groups, prior=prior, weight=dataset.weight_k)\n",
    "        deques = dataset.enqueue()\n",
    "        if metric == 'difference':\n",
    "            for i in range(len(deques)):\n",
    "                if i not in [group0, group1]:\n",
    "                    deques[i].clear()\n",
    "    else:\n",
    "        return \n",
    "\n",
    "    sampled_indices = np.zeros((budget,), dtype=np.int) # indices of selected data points\n",
    "    mpe_log = np.zeros((budget // LOG_FREQ, dataset.num_groups))\n",
    "    rope_eval = np.zeros((budget // LOG_FREQ, 3))\n",
    "    \n",
    "    sample_fct = SAMPLE_CATEGORY[sample_method]\n",
    "\n",
    "    idx = 0\n",
    "    while idx < budget:\n",
    "        if sample_method == 'ts':\n",
    "            reward = model.reward(reward_type=metric, group0 = group0, group1 = group1)\n",
    "            category = sample_fct(deques=deques, reward=reward)\n",
    "        else:\n",
    "            category = sample_fct(deques=deques, weighted=weighted)\n",
    "        selected = deques[category].pop() # a dictionary\n",
    "        model.update(category, selected)\n",
    "        sampled_indices[idx] = selected['index']\n",
    "        if (idx+1) % LOG_FREQ == 0:\n",
    "            mpe_log[idx // LOG_FREQ] = model.mpe\n",
    "            alpha0, beta0 = model._params[group0]\n",
    "            alpha1, beta1 = model._params[group1]\n",
    "            rope_eval[idx // LOG_FREQ] = rope(alpha0, alpha1, beta0, beta1)           \n",
    "        idx += 1\n",
    "\n",
    "    return {'sampled_indices': sampled_indices,  \n",
    "            'mpe_log': mpe_log,\n",
    "            'rope_eval': rope_eval}"
   ]
  },
  {
   "cell_type": "code",
   "execution_count": 4,
   "metadata": {},
   "outputs": [],
   "source": [
    "def run():\n",
    "    \n",
    "    experiment_name = '%s_%s_groupby_%s_runs%d_pseudocount%.2f' % \\\n",
    "            (dataset_name, metric, group_method, RUNS, pseudocount)\n",
    "    if not (output_dir / experiment_name).is_dir():\n",
    "        (output_dir / experiment_name).mkdir()\n",
    "    method_list = ['random_arm', 'random_data', 'ts_uniform', 'ts_informed']\n",
    "    \n",
    "    samples = {}\n",
    "    mpe_log = {}\n",
    "    rope_eval = {}\n",
    "    dataset = Dataset.load_from_text(dataset_name)\n",
    "    dataset.group(group_method = group_method)\n",
    "    deques = dataset.enqueue()\n",
    "    budget = len(deques[group0]) + len(deques[group1]) \n",
    "    \n",
    "    UNIFORM_PRIOR = np.ones((dataset.num_groups, 2)) / 2 * pseudocount\n",
    "    INFORMED_PRIOR = np.array([dataset.confidence_k, 1 - dataset.confidence_k]).T * pseudocount\n",
    "    INFORMED_PRIOR[np.isnan(INFORMED_PRIOR)] = 1.0 / 2 * pseudocount\n",
    "    config_dict = {\n",
    "        'random_arm': [UNIFORM_PRIOR * 1e-6, 'random', False],\n",
    "        'random_data': [UNIFORM_PRIOR * 1e-6, 'random', True],\n",
    "        'ts_uniform': [UNIFORM_PRIOR, 'ts', None], \n",
    "        'ts_informed': [INFORMED_PRIOR, 'ts', None]}\n",
    "\n",
    "    for method in method_list:\n",
    "        samples[method] = np.zeros((RUNS, budget), dtype=np.int) \n",
    "        mpe_log[method] = np.zeros((RUNS, budget // LOG_FREQ, dataset.num_groups))\n",
    "        rope_eval[method] = np.zeros((RUNS, budget // LOG_FREQ, 3))\n",
    "\n",
    "    for r in tqdm(range(RUNS)):\n",
    "        \n",
    "        dataset = Dataset.load_from_text(dataset_name)\n",
    "        dataset.group(group_method = group_method)\n",
    "        dataset.shuffle(r)\n",
    "        \n",
    "        for method_name in method_list:\n",
    "            prior, sample_method, weighted = config_dict[method_name]\n",
    "            output = select_and_label(dataset, sample_method=sample_method, budget=budget, \n",
    "                                      prior=prior, weighted=weighted)  \n",
    "            samples[method_name][r] = output['sampled_indices']\n",
    "            mpe_log[method_name][r] = output['mpe_log']\n",
    "            rope_eval[method_name][r] = output['rope_eval']\n",
    "            \n",
    "    # write samples to file\n",
    "    for method in method_list:\n",
    "        np.save(open(output_dir / experiment_name / ('samples_%s.npy' % method), 'wb'), samples[method])\n",
    "        np.save(open(output_dir / experiment_name / ('mpe_log_%s.npy' % method), 'wb'), mpe_log[method])\n",
    "        np.save(open(output_dir / experiment_name / ('rope_eval_%s.npy' % method), 'wb'), rope_eval[method])\n",
    "    return samples, mpe_log, rope_eval"
   ]
  },
  {
   "cell_type": "code",
   "execution_count": 5,
   "metadata": {},
   "outputs": [
    {
     "name": "stderr",
     "output_type": "stream",
     "text": [
      "100%|██████████| 100/100 [06:53<00:00,  4.14s/it]\n"
     ]
    }
   ],
   "source": [
    "samples, mpe_log, rope_eval = run()"
   ]
  },
  {
   "cell_type": "code",
   "execution_count": 6,
   "metadata": {},
   "outputs": [],
   "source": [
    "# samples = {}\n",
    "# mpe_log = {}\n",
    "# method_list = ['random_arm', 'random_data', 'ts_uniform', 'ts_informed']\n",
    "# for method in method_list:\n",
    "#     samples[method] = np.load(open(output / experiment_name / ('samples_%s.npy' % method), 'rb'))\n",
    "#     mpe_log[method] = np.load(open(output / experiment_name / ('mpe_log_%s.npy' % method), 'rb'))"
   ]
  },
  {
   "cell_type": "code",
   "execution_count": 12,
   "metadata": {},
   "outputs": [
    {
     "name": "stdout",
     "output_type": "stream",
     "text": [
      "0.9550561797752809 0.42857142857142855\n"
     ]
    },
    {
     "data": {
      "image/png": "[encoded data removed]",
      "text/plain": [
       "<Figure size 432x288 with 1 Axes>"
      ]
     },
     "metadata": {
      "needs_background": "light"
     },
     "output_type": "display_data"
    }
   ],
   "source": [
    "dataset = Dataset.load_from_text(dataset_name)\n",
    "dataset.group(group_method = group_method)\n",
    "deques = dataset.enqueue()\n",
    "start = 0\n",
    "budget = len(deques[group0]) + len(deques[group1]) \n",
    "num_steps = budget // LOG_FREQ // 2\n",
    "stepsize = 1\n",
    "rope_region = 2\n",
    "\n",
    "method_format = {#'random_arm': ('Random Arm', 'b', '.', '-.'), \n",
    "                 'random_data': ('Random Datapoint', 'g', '^', '-.'), \n",
    "                 'ts_uniform': ('TS Uniform', 'r', '*', '-'), \n",
    "                 #'ts_informed': ('TS Informed', 'r', '+', '-.'),\n",
    "                }\n",
    "\n",
    "plt.figure(figsize=(6,4))\n",
    "print(dataset.accuracy_k[group0], dataset.accuracy_k[group1])\n",
    "\n",
    "for method_name in method_format:  \n",
    "\n",
    "    legend_name, color, marker, linestyle = method_format[method_name]\n",
    "    \n",
    "    xrange = np.arange(num_steps) * LOG_FREQ + LOG_FREQ\n",
    "    mean_error = np.mean(rope_eval[method_name][:,:, rope_region], axis=0)\n",
    "    lb_error = np.quantile(rope_eval[method_name][:,:, rope_region], 0.125, axis=0)\n",
    "    ub_error = np.quantile(rope_eval[method_name][:,:, rope_region], 0.875, axis=0)\n",
    "\n",
    "    idx = np.arange(num_steps)[start:(start+num_steps)][::stepsize]   \n",
    "    plt.plot(xrange[idx], \n",
    "             mean_error[idx], \n",
    "             label=legend_name, linewidth=3, color=color, linestyle=linestyle)\n",
    "    plt.fill_between(xrange[idx], \n",
    "                     lb_error[idx], \n",
    "                     ub_error[idx], \n",
    "                     color=color, alpha=.2)\n",
    "    #plt.ylim([0, 0.3])\n",
    "    plt.xlabel('#Labeled')\n",
    "#     plt.ylabel('$L_2$ Error')\n",
    "    #plt.xscale('log')\n",
    "    plt.legend(fontsize=12, loc='center right')\n",
    "    plt.title(experiment_name)"
   ]
  },
  {
   "cell_type": "code",
   "execution_count": 8,
   "metadata": {},
   "outputs": [
    {
     "data": {
      "text/plain": [
       "(89, 119)"
      ]
     },
     "execution_count": 8,
     "metadata": {},
     "output_type": "execute_result"
    }
   ],
   "source": [
    "len(deques[group0]),len(deques[group1])"
   ]
  }
 ],
 "metadata": {
  "kernelspec": {
   "display_name": "Python 3",
   "language": "python",
   "name": "python3"
  },
  "language_info": {
   "codemirror_mode": {
    "name": "ipython",
    "version": 3
   },
   "file_extension": ".py",
   "mimetype": "text/x-python",
   "name": "python",
   "nbconvert_exporter": "python",
   "pygments_lexer": "ipython3",
   "version": "3.7.6"
  }
 },
 "nbformat": 4,
 "nbformat_minor": 4
}
