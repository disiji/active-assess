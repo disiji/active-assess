{
 "cells": [
  {
   "cell_type": "code",
   "execution_count": 15,
   "metadata": {},
   "outputs": [],
   "source": [
    "import argparse\n",
    "import pathlib\n",
    "import random\n",
    "from collections import deque\n",
    "from typing import List, Dict, Tuple, Union\n",
    "from data import Dataset\n",
    "from data_utils import *\n",
    "from models import BetaBernoulli\n",
    "import matplotlib.pyplot as plt\n",
    "import numpy as np\n",
    "from tqdm import tqdm\n",
    "from sampling import *\n",
    "%matplotlib inline  \n",
    "\n",
    "import matplotlib;matplotlib.rcParams['font.size'] = 10\n",
    "import matplotlib;matplotlib.rcParams['font.family'] = 'serif'\n",
    "LINEWIDTH = 13.97"
   ]
  },
  {
   "cell_type": "code",
   "execution_count": 270,
   "metadata": {},
   "outputs": [],
   "source": [
    "DATASET_LIST = ['svhn']\n",
    "metric = 'difference' # 'ece', 'confusion_matrix'\n",
    "group_method = 'predicted_class'\n",
    "rope_width=0.03"
   ]
  },
  {
   "cell_type": "code",
   "execution_count": 271,
   "metadata": {},
   "outputs": [],
   "source": [
    "def rope(ax, alpha0, alpha1, beta0, beta1, rope_width=0.01):\n",
    "    num_samples = 10000\n",
    "    theta_0 = np.random.beta(alpha0, beta0, size=(num_samples))\n",
    "    theta_1 = np.random.beta(alpha1, beta1, size=(num_samples))\n",
    "    delta = theta_0 - theta_1\n",
    "    vals = ((delta < -rope_width).mean(), (np.abs(delta) <= rope_width).mean(), (delta > rope_width).mean())\n",
    "    ax.hist(delta, bins=100, color = 'b', label='Bayesian', alpha=0.5)\n",
    "    ax.axvline(x=-rope_width, label='rope', color='gold', linewidth = 4)\n",
    "    ax.axvline(x=rope_width, color='gold', linewidth = 4)\n",
    "    \n",
    "    frequentist = (alpha0) / (alpha0+beta0) - (alpha1) / (alpha1+beta1)\n",
    "    budget = alpha0 + alpha1 + beta0 + beta1\n",
    "    ax.axvline(x=frequentist, color='red', linewidth = 3, label='Frequentist', linestyle='--')\n",
    "    #ax.set_xlim(-0.05, 0.05)\n",
    "    ax.spines['right'].set_visible(False)\n",
    "    ax.spines['top'].set_visible(False)\n",
    "    ax.spines['left'].set_visible(False)\n",
    "    ax.yaxis.set_ticks([])\n",
    "    ax.annotate('$P(\\Delta\\ll0)=${:.2f}\\n$P(\\Delta\\\\approx 0)=${:.2f}\\n$P(\\Delta\\gg0)=${:.2f}\\n\\n$N_1+N_2=${:.0f}'.\\\n",
    "                format(vals[0], vals[1], vals[2], budget[0]), xy=(0.12, 1.01), xycoords='axes fraction', \\\n",
    "                fontsize=11, ha='left', va='top')\n",
    "    #print(frequentist)\n",
    "    #ax.annotate('$Freq=${:.3f}'.format(frequentist[0]), \\\n",
    "     #           xy=(0.7,1.0), xycoords='axes fraction', fontsize=11, ha='left', va='top')\n",
    "    print(vals)\n",
    "    return ax"
   ]
  },
  {
   "cell_type": "code",
   "execution_count": 278,
   "metadata": {},
   "outputs": [
    {
     "name": "stderr",
     "output_type": "stream",
     "text": [
      "No handles with labels found to put in legend.\n"
     ]
    },
    {
     "name": "stdout",
     "output_type": "stream",
     "text": [
      "3593\n",
      "(0.0, 0.9955, 0.0045)\n",
      "187\n",
      "(0.8849, 0.0941, 0.021)\n"
     ]
    },
    {
     "data": {
      "image/png": "[encoded data removed]",
      "text/plain": [
       "<Figure size 814.73x165.6 with 2 Axes>"
      ]
     },
     "metadata": {
      "needs_background": "light"
     },
     "output_type": "display_data"
    }
   ],
   "source": [
    "experiment_configs = [\n",
    "    ('svhn', 6, 9, '6', '9'),\n",
    "    #('svhn', 6, 1)\n",
    "    #('cifar100', 27, 29, 'crocodile', 'dinosaur')\n",
    "    ('cifar100', 98, 46, 'woman', 'man')\n",
    "]\n",
    "fig, axes = plt.subplots(ncols=len(experiment_configs), nrows=1, figsize=(LINEWIDTH*0.81,2.3))\n",
    "\n",
    "for i, config in enumerate(experiment_configs):\n",
    "    dataset_name, group0, group1, group0_name, group1_name = config    \n",
    "    dataset = Dataset.load_from_text(dataset_name)\n",
    "    dataset.group(group_method = group_method)\n",
    "    \n",
    "    deques = dataset.enqueue()\n",
    "    budget = len(deques[group0]) + len(deques[group1]) \n",
    "    print(budget)\n",
    "    dataset_len = dataset.__len__()\n",
    "    dataset_accuracy_k = dataset.accuracy_k\n",
    "    dataset_weight_k = dataset.weight_k\n",
    "    \n",
    "    del dataset, deques\n",
    "    alpha0 = dataset_len * dataset_weight_k[group0] * (dataset_accuracy_k[group0]+ 1e-6)\n",
    "    alpha1 = dataset_len * dataset_weight_k[group1] * (dataset_accuracy_k[group1]+ 1e-6), \n",
    "    beta0 = dataset_len * dataset_weight_k[group0] * (1-dataset_accuracy_k[group0] + 1e-6),\n",
    "    beta1 = dataset_len * dataset_weight_k[group1] * (1-dataset_accuracy_k[group1] + 1e-6)\n",
    "    axes[i] = rope(axes[i], alpha0, alpha1, beta0, beta1, rope_width)\n",
    "    axes[1].legend(loc='center right', fontsize=11, bbox_to_anchor=(1.1, 0.5))\n",
    "    axes[i].set_xlabel(r\"$\\Delta$ accuracy, %s, %s v.s. %s\" % (DATASET_NAMES[dataset_name], group0_name, group1_name), fontsize=12)\n",
    "plt.tight_layout()"
   ]
  },
  {
   "cell_type": "code",
   "execution_count": 277,
   "metadata": {},
   "outputs": [
    {
     "data": {
      "text/plain": [
       "46"
      ]
     },
     "execution_count": 277,
     "metadata": {},
     "output_type": "execute_result"
    }
   ],
   "source": [
    "CIFAR100_CLASSES = [\n",
    "    \"apple\", \"aquarium_fish\", \"baby\", \"bear\", \"beaver\", \"bed\", \"bee\", \"beetle\", \"bicycle\",\n",
    "    \"bottle\", \"bowl\", \"boy\", \"bridge\", \"bus\", \"butterfly\", \"camel\", \"can\", \"castle\",\n",
    "    \"caterpillar\", \"cattle\", \"chair\", \"chimpanzee\", \"clock\", \"cloud\", \"cockroach\", \"couch\",\n",
    "    \"crab\", \"crocodile\", \"cup\", \"dinosaur\", \"dolphin\", \"elephant\", \"flatfish\", \"forest\", \"fox\",\n",
    "    \"girl\", \"hamster\", \"house\", \"kangaroo\", \"keyboard\", \"lamp\", \"lawn_mower\", \"leopard\", \"lion\",\n",
    "    \"lizard\", \"lobster\", \"man\", \"maple_tree\", \"motorcycle\", \"mountain\", \"mouse\", \"mushroom\",\n",
    "    \"oak_tree\", \"orange\", \"orchid\", \"otter\", \"palm_tree\", \"pear\", \"pickup_truck\", \"pine_tree\",\n",
    "    \"plain\", \"plate\", \"poppy\", \"porcupine\", \"possum\", \"rabbit\", \"raccoon\", \"ray\", \"road\",\n",
    "    \"rocket\", \"rose\", \"sea\", \"seal\", \"shark\", \"shrew\", \"skunk\", \"skyscraper\", \"snail\", \"snake\",\n",
    "    \"spider\", \"squirrel\", \"streetcar\", \"sunflower\", \"sweet_pepper\", \"table\", \"tank\", \"telephone\",\n",
    "    \"television\", \"tiger\", \"tractor\", \"train\", \"trout\", \"tulip\", \"turtle\", \"wardrobe\", \"whale\",\n",
    "    \"willow_tree\", \"wolf\", \"woman\", \"worm\"\n",
    "]\n",
    "CIFAR100_CLASSES.index('man')"
   ]
  },
  {
   "cell_type": "code",
   "execution_count": 275,
   "metadata": {},
   "outputs": [],
   "source": [
    "fig.savefig('../figures/rope.pdf', dpi=300, bbox_inches='tight', pad_inches=0)"
   ]
  },
  {
   "cell_type": "code",
   "execution_count": 5,
   "metadata": {},
   "outputs": [
    {
     "name": "stdout",
     "output_type": "stream",
     "text": [
      "(2, 9)\n"
     ]
    }
   ],
   "source": [
    "dataset_accuracy_k\n",
    "min_config = (0,1)\n",
    "min_val = abs(dataset_accuracy_k[0] - dataset_accuracy_k[1])\n",
    "for i in range(10):\n",
    "    for j in range(i+1, 10):\n",
    "        tmp = abs(dataset_accuracy_k[i] - dataset_accuracy_k[j])\n",
    "        if tmp > min_val:\n",
    "            min_val = tmp\n",
    "            min_config = (i, j)\n",
    "print(min_config)            "
   ]
  }
 ],
 "metadata": {
  "kernelspec": {
   "display_name": "Python 3",
   "language": "python",
   "name": "python3"
  },
  "language_info": {
   "codemirror_mode": {
    "name": "ipython",
    "version": 3
   },
   "file_extension": ".py",
   "mimetype": "text/x-python",
   "name": "python",
   "nbconvert_exporter": "python",
   "pygments_lexer": "ipython3",
   "version": "3.7.6"
  }
 },
 "nbformat": 4,
 "nbformat_minor": 4
}
