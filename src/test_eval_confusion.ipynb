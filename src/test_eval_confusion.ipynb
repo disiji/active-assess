{
 "cells": [
  {
   "cell_type": "code",
   "execution_count": 23,
   "metadata": {},
   "outputs": [],
   "source": [
    "import argparse\n",
    "import pathlib\n",
    "import random\n",
    "from collections import deque\n",
    "from typing import List, Dict, Tuple, Union\n",
    "from data import Dataset\n",
    "from data_utils import *\n",
    "from sampling import *\n",
    "from models import BetaBernoulli\n",
    "import matplotlib.pyplot as plt\n",
    "import numpy as np\n",
    "from tqdm import tqdm\n",
    "from utils import mean_reciprocal_rank\n",
    "import pickle\n",
    "\n",
    "LOG_FREQ = 10\n",
    "method_list = ['random_data', 'random_data_informed', 'ts_informed']\n",
    "DATASET_LIST = ['cifar100', 'svhn', '20newsgroup', 'dbpedia'] \n",
    "output_dir = pathlib.Path(\"../output/confusion_matrix\")\n",
    "\n",
    "metric = 'confusion_matrix' # 'ece', 'confusion_matrix'\n",
    "group_method = 'predicted_class'\n",
    "pseudocount = 1\n",
    "RUNS = 1000\n",
    "superclass = False #todo: superclass=true\n",
    "cost_matrix = None\n",
    "topk = 1\n",
    "    "
   ]
  },
  {
   "cell_type": "code",
   "execution_count": 26,
   "metadata": {},
   "outputs": [],
   "source": [
    "dataset_name = 'dbpedia'"
   ]
  },
  {
   "cell_type": "code",
   "execution_count": 43,
   "metadata": {},
   "outputs": [
    {
     "name": "stdout",
     "output_type": "stream",
     "text": [
      "dbpedia False\n"
     ]
    },
    {
     "data": {
      "text/plain": [
       "<matplotlib.image.AxesImage at 0x7fd05e814e80>"
      ]
     },
     "execution_count": 43,
     "metadata": {},
     "output_type": "execute_result"
    },
    {
     "data": {
      "image/png": "[encoded data removed]",
      "text/plain": [
       "<Figure size 432x288 with 1 Axes>"
      ]
     },
     "metadata": {
      "needs_background": "light"
     },
     "output_type": "display_data"
    }
   ],
   "source": [
    "# load results and compute ground truth\n",
    "ground_truth = {}\n",
    "weight_k = {}\n",
    "l2_error = {}\n",
    "logp = {} # log likelihood of each estimated confusion matrix under dirichlet distribution\n",
    "\n",
    "# load data\n",
    "if len(dataset_name) > len('superclass') and dataset_name[-len('superclass'):] == 'superclass':\n",
    "    superclass = True\n",
    "else:\n",
    "    superclass = False\n",
    "\n",
    "print(dataset_name, superclass)\n",
    "experiment_name = '%s_top%d_pseudocount%d' % (dataset_name, topk, pseudocount)\n",
    "if superclass:\n",
    "    dataset = SuperclassDataset.load_from_text(dataset_name.split('_')[0], CIFAR100_SUPERCLASS_LOOKUP)\n",
    "    # no need to group (grouped by superclass automatically)\n",
    "else:\n",
    "    dataset = Dataset.load_from_text(dataset_name)\n",
    "    dataset.group(group_method = group_method)\n",
    "\n",
    "# ground truth\n",
    "weight_k = dataset.weight_k\n",
    "confusion_probs = dataset.confusion_probs()\n",
    "confusion_probs = confusion_probs + np.ones(confusion_probs.shape) * 1e-6\n",
    "confusion_probs = confusion_probs / confusion_probs.sum(axis=1)\n",
    "ground_truth['confusion_matrix'] = confusion_probs\n",
    "ground_truth['confusion_matrix'] = \\\n",
    "        np.load(open(output_dir / experiment_name / ('mpe_log_%s_run%d.npy' % ('random_data_informed', 2)), 'rb'))[1000-1]\n",
    "\n",
    "plt.imshow(np.log(ground_truth['confusion_matrix']+ 1e-10).T, vmin=-10, vmax=0, cmap='Reds')"
   ]
  },
  {
   "cell_type": "code",
   "execution_count": 38,
   "metadata": {},
   "outputs": [
    {
     "data": {
      "text/plain": [
       "(7000, 14, 14)"
      ]
     },
     "execution_count": 38,
     "metadata": {},
     "output_type": "execute_result"
    }
   ],
   "source": [
    "np.load(open(output_dir / experiment_name / ('mpe_log_%s_run%d.npy' % ('ts_uniform', 0)), 'rb')).shape"
   ]
  },
  {
   "cell_type": "code",
   "execution_count": 44,
   "metadata": {},
   "outputs": [
    {
     "data": {
      "text/plain": [
       "0.9923714285714286"
      ]
     },
     "execution_count": 44,
     "metadata": {},
     "output_type": "execute_result"
    }
   ],
   "source": [
    "dataset.accuracy"
   ]
  },
  {
   "cell_type": "code",
   "execution_count": null,
   "metadata": {},
   "outputs": [],
   "source": [
    " # initalize l2 error\n",
    "for method_name in method_list:\n",
    "    l2_error[method_name] = np.zeros((RUNS, dataset.__len__() // LOG_FREQ))\n",
    "    logp[method_name] = np.zeros((RUNS, dataset.__len__() // LOG_FREQ))\n",
    "    # load results\n",
    "for r in tqdm(range(RUNS)):\n",
    "    for method_name in method_list:\n",
    "        mpe_log = np.load(open(output_dir / experiment_name / ('mpe_log_%s_run%d.npy' % (method_name, r)), 'rb'))            \n",
    "        l2_eval = mpe_log - ground_truth['confusion_matrix']\n",
    "        l2_eval = l2_eval ** 2\n",
    "        l2_eval = np.sum(l2_eval,axis=2)\n",
    "        l2_error[method_name][r] = np.array([(l2_eval[i] * weight_k).sum()\n",
    "                                                           for i in range(dataset.__len__() // LOG_FREQ)])\n",
    "# baseline\n",
    "mpe_diag = np.identity(dataset.num_groups)\n",
    "l2_eval = mpe_diag - ground_truth['confusion_matrix']\n",
    "l2_eval = l2_eval ** 2\n",
    "l2_eval = np.sum(l2_eval,axis=1)\n",
    "l2_error['diagonal'] = np.array((l2_eval * weight_k).sum())\n",
    "\n",
    "mpe_ones = np.ones((dataset.num_groups,dataset.num_groups))\n",
    "mpe_ones /= dataset.num_groups\n",
    "l2_eval = mpe_ones - ground_truth['confusion_matrix']\n",
    "l2_eval = l2_eval ** 2\n",
    "l2_eval = np.sum(l2_eval,axis=1)\n",
    "l2_error['ones'] = np.array((l2_eval * weight_k).sum())\n",
    "\n",
    "mpe_scores = confusion_probs\n",
    "l2_eval = mpe_scores - ground_truth['confusion_matrix']\n",
    "l2_eval = l2_eval ** 2\n",
    "l2_eval = np.sum(l2_eval,axis=1)\n",
    "l2_error['scores'] = np.array((l2_eval * weight_k).sum())\n",
    "\n",
    "\n",
    "pickle.dump(ground_truth, open(output_dir / experiment_name / \"ground_truth.pkl\", \"wb\"))  \n",
    "pickle.dump(l2_error, open(output_dir / experiment_name / \"l2_error.pkl\", \"wb\")) \n",
    "pickle.dump(logp, open(output_dir / experiment_name / \"logp.pkl\", \"wb\")) \n",
    "pickle.dump(weight_k, open(output_dir / experiment_name / \"weight_k.pkl\", \"wb\")) "
   ]
  }
 ],
 "metadata": {
  "kernelspec": {
   "display_name": "Python 3",
   "language": "python",
   "name": "python3"
  },
  "language_info": {
   "codemirror_mode": {
    "name": "ipython",
    "version": 3
   },
   "file_extension": ".py",
   "mimetype": "text/x-python",
   "name": "python",
   "nbconvert_exporter": "python",
   "pygments_lexer": "ipython3",
   "version": "3.6.10"
  }
 },
 "nbformat": 4,
 "nbformat_minor": 4
}
