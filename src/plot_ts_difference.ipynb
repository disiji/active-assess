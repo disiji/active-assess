{
 "cells": [
  {
   "cell_type": "code",
   "execution_count": 1,
   "metadata": {},
   "outputs": [],
   "source": [
    "import argparse\n",
    "import pathlib\n",
    "import random\n",
    "from collections import deque\n",
    "from typing import List, Dict, Tuple, Union\n",
    "from data import Dataset\n",
    "from data_utils import *\n",
    "from models import BetaBernoulli\n",
    "import matplotlib.pyplot as plt\n",
    "import numpy as np\n",
    "from tqdm import tqdm\n",
    "from sampling import *\n",
    "%matplotlib inline  \n",
    "\n",
    "import matplotlib;matplotlib.rcParams['font.size'] = 10\n",
    "import matplotlib;matplotlib.rcParams['font.family'] = 'serif'\n",
    "LINEWIDTH = 13.97\n",
    "LOG_FREQ = 10\n",
    "output_dir = pathlib.Path(\"../output/difference_random_2_groups\")"
   ]
  },
  {
   "cell_type": "code",
   "execution_count": 2,
   "metadata": {},
   "outputs": [],
   "source": [
    "DATASET_LIST = ['cifar100', 'dbpedia', '20newsgroup', 'svhn'] #'imagenet'\n",
    "method_list = ['random_arm_symmetric', 'random_data_symmetric', 'random_arm_informed', \\\n",
    "               'random_data_informed', 'ts_uniform', 'ts_informed']\n",
    "method_format = {#'random_arm_symmetric': ('Random Arm Symmetric', 'g', '.', '--'), \n",
    "                 'random_data_symmetric': ('Random Uninformative', 'b', '^', '--'), \n",
    "                 #'random_arm_informed': ('Random Arm Informed', 'g', '.', '-'), \n",
    "                 'random_data_informed': ('Random Informative', 'b', '^', '-'), \n",
    "                 #'ts_uniform': ('TS Symmetric', 'k', '*', '-'), \n",
    "                 'ts_informed': ('TS Informative', 'r', '+', '-'),\n",
    "                }\n",
    "\n",
    "metric = 'difference' # 'ece', 'confusion_matrix'\n",
    "group_method = 'predicted_class'\n",
    "pseudocount = 1\n",
    "RUNS = 100\n",
    "rope_width = 0.03"
   ]
  },
  {
   "cell_type": "code",
   "execution_count": 3,
   "metadata": {},
   "outputs": [
    {
     "name": "stderr",
     "output_type": "stream",
     "text": [
      "100%|██████████| 4/4 [00:00<00:00, 127.79it/s]\n"
     ]
    }
   ],
   "source": [
    "configs = {}\n",
    "samples = {}\n",
    "mpe_log = {}\n",
    "rope_eval = {}\n",
    "\n",
    "for dataset_name in tqdm(DATASET_LIST): # takes 4 minutes to load results of imagenet\n",
    "    experiment_name = '%s_groupby_%s_pseudocount%.2f' % (dataset_name, group_method, pseudocount)\n",
    "    samples[dataset_name], mpe_log[dataset_name], rope_eval[dataset_name] = {}, {}, {}\n",
    "    \n",
    "    configs[dataset_name] = np.load(open(output_dir / experiment_name / 'configs.npy', 'rb'))\n",
    "    for method in method_list:\n",
    "#         samples[dataset_name][method] = np.load(open(output_dir / experiment_name / \\\n",
    "#                                                      ('samples_%s.npy' % method), 'rb'))\n",
    "#         mpe_log[dataset_name][method] = np.load(open(output_dir / experiment_name / \\\n",
    "#                                                      ('mpe_log_%s.npy' % method), 'rb'))\n",
    "        rope_eval[dataset_name][method] = np.load(open(output_dir / experiment_name / \\\n",
    "                                                       ('rope_eval_%s.npy' % method), 'rb'))"
   ]
  },
  {
   "cell_type": "code",
   "execution_count": 4,
   "metadata": {
    "scrolled": true
   },
   "outputs": [
    {
     "name": "stderr",
     "output_type": "stream",
     "text": [
      "100%|██████████| 100/100 [00:00<00:00, 512.66it/s]\n",
      "100%|██████████| 100/100 [00:00<00:00, 514.07it/s]\n",
      "100%|██████████| 100/100 [00:00<00:00, 513.59it/s]\n",
      "100%|██████████| 100/100 [00:00<00:00, 516.52it/s]\n"
     ]
    }
   ],
   "source": [
    "def rope(alpha0, alpha1, beta0, beta1):\n",
    "    num_samples = 10000\n",
    "    theta_0 = np.random.beta(alpha0, beta0, size=(num_samples))\n",
    "    theta_1 = np.random.beta(alpha1, beta1, size=(num_samples))\n",
    "    delta = theta_0 - theta_1\n",
    "    return [(delta < -rope_width).mean(), (np.abs(delta) <= rope_width).mean(), (delta > rope_width).mean()]\n",
    "\n",
    "counts = dict()\n",
    "budgets = dict()\n",
    "rope_ground_truth_dict = dict()\n",
    "\n",
    "for i, dataset_name in enumerate(DATASET_LIST):\n",
    "    counts[dataset_name] = {}\n",
    "    budgets[dataset_name] = np.zeros((RUNS,))\n",
    "    rope_ground_truth_dict[dataset_name] = np.zeros((RUNS,))\n",
    "    for method_name in method_format:  \n",
    "        counts[dataset_name][method_name] = []\n",
    "\n",
    "    dataset = Dataset.load_from_text(dataset_name)\n",
    "    dataset.group(group_method = group_method)\n",
    "    dataset_len = dataset.__len__()\n",
    "    dataset_accuracy_k = dataset.accuracy_k\n",
    "    dataset_weight_k = dataset.weight_k\n",
    "    del dataset\n",
    "   \n",
    "    if dataset_name == 'imagenet':\n",
    "        RUNS = 10\n",
    "    for r in tqdm(range(RUNS)):\n",
    "        group0, group1, budget, delta = configs[dataset_name][r]\n",
    "        group0, group1, budget = int(group0), int(group1), int(budget)\n",
    "        budgets[dataset_name][r] = budget\n",
    "        rope_ground_truth = rope(dataset_len * dataset_weight_k[group0] * (dataset_accuracy_k[group0]+ 1e-6), \n",
    "             dataset_len * dataset_weight_k[group1] * (dataset_accuracy_k[group1]+ 1e-6), \n",
    "             dataset_len * dataset_weight_k[group0] * (1-dataset_accuracy_k[group0] + 1e-6),\n",
    "             dataset_len * dataset_weight_k[group1] * (1-dataset_accuracy_k[group1] + 1e-6))\n",
    "\n",
    "        if delta < -rope_width:\n",
    "            rope_region = 0\n",
    "        elif delta > rope_width:\n",
    "            rope_region = 2\n",
    "        else:\n",
    "            rope_region = 1\n",
    "            \n",
    "        rope_ground_truth_dict[dataset_name][r] = rope_ground_truth[rope_region]\n",
    "        \n",
    "        for method_name in method_format:  \n",
    "            rope_ = rope_eval[dataset_name][method_name][r,:budget//LOG_FREQ, rope_region]\n",
    "            error_rate = np.abs(rope_ - rope_ground_truth[rope_region]) / rope_ground_truth[rope_region]\n",
    "            error = (error_rate < 0.01)\n",
    "            counts[dataset_name][method_name].append(np.argmax(error)*LOG_FREQ+LOG_FREQ)\n",
    "            #counts[dataset_name][method_name].append(np.abs(rope_[15] - rope_ground_truth[rope_region]))"
   ]
  },
  {
   "cell_type": "code",
   "execution_count": 5,
   "metadata": {},
   "outputs": [],
   "source": [
    "val = np.zeros((len(DATASET_LIST), len(method_format)))\n",
    "for i, dataset_name in enumerate(DATASET_LIST):\n",
    "    tmp = []\n",
    "    for method_name in method_format:\n",
    "        tmp.append(np.mean(counts[dataset_name][method_name]))\n",
    "    val[i] = np.array(tmp)\n",
    "df = pd.DataFrame(val.T, \n",
    "                  index=[method_format[i][0] for i in method_format], \n",
    "                  columns=[DATASET_NAMES[dataset_name] for dataset_name in DATASET_LIST])"
   ]
  },
  {
   "cell_type": "code",
   "execution_count": 6,
   "metadata": {},
   "outputs": [
    {
     "data": {
      "text/html": [
       "<div>\n",
       "<style scoped>\n",
       "    .dataframe tbody tr th:only-of-type {\n",
       "        vertical-align: middle;\n",
       "    }\n",
       "\n",
       "    .dataframe tbody tr th {\n",
       "        vertical-align: top;\n",
       "    }\n",
       "\n",
       "    .dataframe thead th {\n",
       "        text-align: right;\n",
       "    }\n",
       "</style>\n",
       "<table border=\"1\" class=\"dataframe\">\n",
       "  <thead>\n",
       "    <tr style=\"text-align: right;\">\n",
       "      <th></th>\n",
       "      <th>CIFAR-100</th>\n",
       "      <th>DBpedia</th>\n",
       "      <th>20 Newsgroups</th>\n",
       "      <th>SVHN</th>\n",
       "    </tr>\n",
       "  </thead>\n",
       "  <tbody>\n",
       "    <tr>\n",
       "      <th>Random Uninformative</th>\n",
       "      <td>92.7</td>\n",
       "      <td>236.6</td>\n",
       "      <td>308.8</td>\n",
       "      <td>575.4</td>\n",
       "    </tr>\n",
       "    <tr>\n",
       "      <th>Random Informative</th>\n",
       "      <td>80.5</td>\n",
       "      <td>70.7</td>\n",
       "      <td>290.3</td>\n",
       "      <td>446.3</td>\n",
       "    </tr>\n",
       "    <tr>\n",
       "      <th>TS Informative</th>\n",
       "      <td>82.0</td>\n",
       "      <td>62.7</td>\n",
       "      <td>269.6</td>\n",
       "      <td>372.4</td>\n",
       "    </tr>\n",
       "  </tbody>\n",
       "</table>\n",
       "</div>"
      ],
      "text/plain": [
       "                      CIFAR-100  DBpedia  20 Newsgroups   SVHN\n",
       "Random Uninformative       92.7    236.6          308.8  575.4\n",
       "Random Informative         80.5     70.7          290.3  446.3\n",
       "TS Informative             82.0     62.7          269.6  372.4"
      ]
     },
     "execution_count": 6,
     "metadata": {},
     "output_type": "execute_result"
    }
   ],
   "source": [
    "df"
   ]
  },
  {
   "cell_type": "code",
   "execution_count": 7,
   "metadata": {},
   "outputs": [
    {
     "name": "stdout",
     "output_type": "stream",
     "text": [
      "\\begin{tabular}{lrrrr}\n",
      "\\toprule\n",
      "{} &  CIFAR-100 &  DBpedia &  20 Newsgroups &   SVHN \\\\\n",
      "\\midrule\n",
      "Random Uninformative &       92.7 &    236.6 &          308.8 &  575.4 \\\\\n",
      "Random Informative   &       80.5 &     70.7 &          290.3 &  446.3 \\\\\n",
      "TS Informative       &       82.0 &     62.7 &          269.6 &  372.4 \\\\\n",
      "\\bottomrule\n",
      "\\end{tabular}\n",
      "\n"
     ]
    }
   ],
   "source": [
    "print(df.to_latex())"
   ]
  },
  {
   "cell_type": "code",
   "execution_count": 8,
   "metadata": {},
   "outputs": [
    {
     "name": "stdout",
     "output_type": "stream",
     "text": [
      "[200.94, 9997.0, 738.41, 4941.1] [0.8269920000000001, 0.977835, 0.8943410000000002, 0.993753]\n"
     ]
    }
   ],
   "source": [
    "budget_list = []\n",
    "rope_list = []\n",
    "for i, dataset_name in enumerate(DATASET_LIST):\n",
    "    budget_list.append(budgets[dataset_name].mean())\n",
    "    rope_list.append(rope_ground_truth_dict[dataset_name].mean())\n",
    "print(budget_list,rope_list)"
   ]
  },
  {
   "cell_type": "code",
   "execution_count": null,
   "metadata": {},
   "outputs": [],
   "source": []
  }
 ],
 "metadata": {
  "kernelspec": {
   "display_name": "Python 3",
   "language": "python",
   "name": "python3"
  },
  "language_info": {
   "codemirror_mode": {
    "name": "ipython",
    "version": 3
   },
   "file_extension": ".py",
   "mimetype": "text/x-python",
   "name": "python",
   "nbconvert_exporter": "python",
   "pygments_lexer": "ipython3",
   "version": "3.7.6"
  }
 },
 "nbformat": 4,
 "nbformat_minor": 4
}
