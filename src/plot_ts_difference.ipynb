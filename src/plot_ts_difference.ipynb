{
 "cells": [
  {
   "cell_type": "code",
   "execution_count": 1,
   "metadata": {},
   "outputs": [],
   "source": [
    "import argparse\n",
    "import pathlib\n",
    "import random\n",
    "from collections import deque\n",
    "from typing import List, Dict, Tuple, Union\n",
    "from data import Dataset, SuperclassDataset\n",
    "from data_utils import *\n",
    "from models import BetaBernoulli\n",
    "import matplotlib.pyplot as plt\n",
    "import numpy as np\n",
    "from tqdm import tqdm\n",
    "from sampling import *\n",
    "%matplotlib inline  \n",
    "\n",
    "import matplotlib;matplotlib.rcParams['font.size'] = 10\n",
    "import matplotlib;matplotlib.rcParams['font.family'] = 'serif'\n",
    "LINEWIDTH = 13.97\n",
    "LOG_FREQ = 10\n",
    "output_dir = pathlib.Path(\"../output/difference_random_2_groups\")"
   ]
  },
  {
   "cell_type": "code",
   "execution_count": 48,
   "metadata": {},
   "outputs": [],
   "source": [
    "DATASET_LIST = ['superclass_cifar100', 'dbpedia', '20newsgroup', 'svhn'] #\n",
    "method_list = ['random_arm_symmetric', 'random_data_symmetric', 'random_arm_informed', \\\n",
    "               'random_data_informed', 'ts_uniform', 'ts_informed']\n",
    "method_format = {#'random_arm_symmetric': ('Random Arm Symmetric', 'g', '.', '--'), \n",
    "                 'random_data_symmetric': ('UPrior', 'b', '^', '--'), \n",
    "                 #'random_arm_informed': ('Random Arm Informed', 'g', '.', '-'), \n",
    "                 'random_data_informed': ('IPrior', 'b', '^', '-'), \n",
    "                 #'ts_uniform': ('TS Symmetric', 'k', '*', '-'), \n",
    "                 'ts_informed': ('IPrior+TS', 'r', '+', '-'),\n",
    "                }\n",
    "\n",
    "metric = 'difference'\n",
    "group_method = 'predicted_class'\n",
    "pseudocount = 2\n",
    "runs = 100\n",
    "rope_width = 0.05"
   ]
  },
  {
   "cell_type": "code",
   "execution_count": 3,
   "metadata": {},
   "outputs": [
    {
     "name": "stderr",
     "output_type": "stream",
     "text": [
      "100%|██████████| 4/4 [00:02<00:00,  1.78it/s]\n"
     ]
    }
   ],
   "source": [
    "configs = {}\n",
    "samples = {}\n",
    "mpe_log = {}\n",
    "rope_eval = {}\n",
    "\n",
    "for dataset_name in tqdm(DATASET_LIST): # takes 4 minutes to load results of imagenet\n",
    "    experiment_name = '%s_groupby_%s_pseudocount%.2f' % (dataset_name, group_method, pseudocount)\n",
    "    samples[dataset_name], mpe_log[dataset_name], rope_eval[dataset_name] = {}, {}, {}\n",
    "    \n",
    "    configs[dataset_name] = np.load(open(output_dir / experiment_name / 'configs.npy', 'rb'))\n",
    "    for method in method_list:\n",
    "        rope_eval[dataset_name][method] = np.load(open(output_dir / experiment_name / \\\n",
    "                                                       ('rope_eval_%s.npy' % method), 'rb'))"
   ]
  },
  {
   "cell_type": "code",
   "execution_count": 50,
   "metadata": {
    "scrolled": true
   },
   "outputs": [
    {
     "name": "stderr",
     "output_type": "stream",
     "text": [
      "100%|██████████| 100/100 [00:00<00:00, 3694.25it/s]\n",
      "100%|██████████| 100/100 [00:00<00:00, 3769.72it/s]\n",
      "100%|██████████| 100/100 [00:00<00:00, 3956.37it/s]\n",
      "100%|██████████| 100/100 [00:00<00:00, 3847.21it/s]\n"
     ]
    }
   ],
   "source": [
    "def rope(alpha0, alpha1, beta0, beta1):\n",
    "    num_samples = 1000\n",
    "    theta_0 = np.random.beta(alpha0, beta0, size=(num_samples))\n",
    "    theta_1 = np.random.beta(alpha1, beta1, size=(num_samples))\n",
    "    delta = theta_0 - theta_1\n",
    "    return [(delta < -rope_width).mean(), (np.abs(delta) <= rope_width).mean(), (delta > rope_width).mean()]\n",
    "\n",
    "counts = dict()\n",
    "budgets = dict()\n",
    "rope_ground_truth_dict = dict()\n",
    "\n",
    "for i, dataset_name in enumerate(DATASET_LIST):\n",
    "        \n",
    "    counts[dataset_name] = {}\n",
    "    budgets[dataset_name] = np.zeros((runs,))\n",
    "    rope_ground_truth_dict[dataset_name] = np.zeros((runs,))\n",
    "    for method_name in method_format:  \n",
    "        counts[dataset_name][method_name] = []\n",
    "\n",
    "    if dataset_name == 'superclass_cifar100':\n",
    "        superclass = True\n",
    "        dataset = SuperclassDataset.load_from_text('cifar100', CIFAR100_SUPERCLASS_LOOKUP)\n",
    "    else:\n",
    "        superclass = False\n",
    "        dataset = Dataset.load_from_text(dataset_name)\n",
    "        \n",
    "    dataset.group(group_method = group_method)        \n",
    "    dataset_len = dataset.__len__()\n",
    "    dataset_accuracy_k = dataset.accuracy_k\n",
    "    dataset_weight_k = dataset.weight_k\n",
    "    del dataset\n",
    "        \n",
    "    for r in tqdm(range(runs)):\n",
    "        group0, group1, budget, delta = configs[dataset_name][r]\n",
    "        group0, group1, budget = int(group0), int(group1), int(budget)\n",
    "        budgets[dataset_name][r] = budget\n",
    "        rope_ground_truth = rope(dataset_len * dataset_weight_k[group0] * (dataset_accuracy_k[group0]+ 1e-6), \n",
    "             dataset_len * dataset_weight_k[group1] * (dataset_accuracy_k[group1]+ 1e-6), \n",
    "             dataset_len * dataset_weight_k[group0] * (1-dataset_accuracy_k[group0] + 1e-6),\n",
    "             dataset_len * dataset_weight_k[group1] * (1-dataset_accuracy_k[group1] + 1e-6))\n",
    "\n",
    "        if delta < -rope_width:\n",
    "            rope_region = 0\n",
    "        elif delta > rope_width:\n",
    "            rope_region = 2\n",
    "        else:\n",
    "            rope_region = 1\n",
    "            \n",
    "        rope_ground_truth_dict[dataset_name][r] = rope_ground_truth[rope_region]\n",
    "        \n",
    "        for method_name in method_format:  \n",
    "            rope_ = rope_eval[dataset_name][method_name][r,:budget//LOG_FREQ, rope_region]\n",
    "            error_rate = np.abs(rope_ - rope_ground_truth[rope_region]) / rope_ground_truth[rope_region]\n",
    "            error = (error_rate < 0.05)\n",
    "            counts[dataset_name][method_name].append(np.argmax(error)*LOG_FREQ+LOG_FREQ)\n",
    "            #counts[dataset_name][method_name].append(np.abs(rope_[15] - rope_ground_truth[rope_region]))"
   ]
  },
  {
   "cell_type": "code",
   "execution_count": 51,
   "metadata": {},
   "outputs": [],
   "source": [
    "val = np.zeros((len(DATASET_LIST), len(method_format)))\n",
    "for i, dataset_name in enumerate(DATASET_LIST):\n",
    "    tmp = []\n",
    "    for method_name in method_format:\n",
    "        tmp.append(np.mean(counts[dataset_name][method_name]))\n",
    "    val[i] = np.array(tmp)\n",
    "df = pd.DataFrame(val.T, \n",
    "                  index=[method_format[i][0] for i in method_format], \n",
    "                  columns=[DATASET_NAMES[dataset_name] for dataset_name in DATASET_LIST])"
   ]
  },
  {
   "cell_type": "code",
   "execution_count": 52,
   "metadata": {},
   "outputs": [
    {
     "data": {
      "text/html": [
       "<div>\n",
       "<style scoped>\n",
       "    .dataframe tbody tr th:only-of-type {\n",
       "        vertical-align: middle;\n",
       "    }\n",
       "\n",
       "    .dataframe tbody tr th {\n",
       "        vertical-align: top;\n",
       "    }\n",
       "\n",
       "    .dataframe thead th {\n",
       "        text-align: right;\n",
       "    }\n",
       "</style>\n",
       "<table border=\"1\" class=\"dataframe\">\n",
       "  <thead>\n",
       "    <tr style=\"text-align: right;\">\n",
       "      <th></th>\n",
       "      <th>CIFAR-100\\nSuperclass</th>\n",
       "      <th>DBpedia</th>\n",
       "      <th>20 Newsgroups</th>\n",
       "      <th>SVHN</th>\n",
       "    </tr>\n",
       "  </thead>\n",
       "  <tbody>\n",
       "    <tr>\n",
       "      <th>UPrior</th>\n",
       "      <td>215.3</td>\n",
       "      <td>250.2</td>\n",
       "      <td>221.7</td>\n",
       "      <td>379.4</td>\n",
       "    </tr>\n",
       "    <tr>\n",
       "      <th>IPrior</th>\n",
       "      <td>145.2</td>\n",
       "      <td>96.9</td>\n",
       "      <td>181.2</td>\n",
       "      <td>155.0</td>\n",
       "    </tr>\n",
       "    <tr>\n",
       "      <th>IPrior+TS</th>\n",
       "      <td>137.1</td>\n",
       "      <td>85.8</td>\n",
       "      <td>196.6</td>\n",
       "      <td>136.6</td>\n",
       "    </tr>\n",
       "  </tbody>\n",
       "</table>\n",
       "</div>"
      ],
      "text/plain": [
       "           CIFAR-100\\nSuperclass  DBpedia  20 Newsgroups   SVHN\n",
       "UPrior                     215.3    250.2          221.7  379.4\n",
       "IPrior                     145.2     96.9          181.2  155.0\n",
       "IPrior+TS                  137.1     85.8          196.6  136.6"
      ]
     },
     "execution_count": 52,
     "metadata": {},
     "output_type": "execute_result"
    }
   ],
   "source": [
    "df"
   ]
  },
  {
   "cell_type": "code",
   "execution_count": 53,
   "metadata": {},
   "outputs": [
    {
     "name": "stdout",
     "output_type": "stream",
     "text": [
      "\\begin{tabular}{lrrrr}\n",
      "\\toprule\n",
      "{} &  CIFAR-100\\textbackslash nSuperclass &  DBpedia &  20 Newsgroups &   SVHN \\\\\n",
      "\\midrule\n",
      "UPrior    &                  215.3 &    250.2 &          221.7 &  379.4 \\\\\n",
      "IPrior    &                  145.2 &     96.9 &          181.2 &  155.0 \\\\\n",
      "IPrior+TS &                  137.1 &     85.8 &          196.6 &  136.6 \\\\\n",
      "\\bottomrule\n",
      "\\end{tabular}\n",
      "\n"
     ]
    }
   ],
   "source": [
    "print(df.to_latex())"
   ]
  },
  {
   "cell_type": "code",
   "execution_count": 103,
   "metadata": {},
   "outputs": [
    {
     "data": {
      "image/png": "[encoded data removed]",
      "text/plain": [
       "<Figure size 432x180 with 1 Axes>"
      ]
     },
     "metadata": {
      "needs_background": "light"
     },
     "output_type": "display_data"
    }
   ],
   "source": [
    "# PLOT\n",
    "DATASET_NAMES = {\n",
    "    'cifar100': 'CIFAR-100',\n",
    "    'imagenet': 'ImageNet',\n",
    "    'svhn': 'SVHN',\n",
    "    '20newsgroup': '20 Newsgroups',\n",
    "    'dbpedia': 'DBpedia',\n",
    "    'superclass_cifar100': 'CIFAR-100\\nSuperclass'\n",
    "}\n",
    "\n",
    "# set width of bar\n",
    "barWidth = 0.8\n",
    " \n",
    "# set height of bar\n",
    "bars1 = df.values[0]\n",
    "bars2 = df.values[1]\n",
    "bars3 = df.values[2]\n",
    " \n",
    "# Set position of bar on X axis\n",
    "r1 = np.arange(len(bars1))*2.8\n",
    "r2 = [x + barWidth for x in r1]\n",
    "r3 = [x + barWidth for x in r2]\n",
    " \n",
    "# Make the plot\n",
    "plt.figure(figsize=(LINEWIDTH//2,2.5))\n",
    "\n",
    "plt.barh(r1, bars1, color='blue', linewidth=barWidth, edgecolor='white', label='UPrior', alpha=0.4)\n",
    "plt.barh(r2, bars2, color='blue', linewidth=barWidth, edgecolor='white', label='IPrior', alpha=1)\n",
    "plt.barh(r3, bars3, color='red', linewidth=barWidth, edgecolor='white', label='IPrior+TS')\n",
    " \n",
    "# Add xticks on the middle of the group bars\n",
    "# plt.ylabel('group', fontweight='bold')\n",
    "plt.yticks(r2 , [DATASET_NAMES[dataset_name] for dataset_name in DATASET_LIST], fontsize=12)\n",
    " \n",
    "# Create legend & Show graphic\n",
    "plt.legend(fontsize=10, loc = 'lower right')\n",
    "plt.tight_layout()\n",
    "plt.savefig('../figures/comparison_counts.pdf', dpi=300, bbox_inches='tight', pad_inches=0)"
   ]
  },
  {
   "cell_type": "code",
   "execution_count": null,
   "metadata": {},
   "outputs": [],
   "source": [
    "budget_list = []\n",
    "rope_list = []\n",
    "for i, dataset_name in enumerate(DATASET_LIST):\n",
    "    budget_list.append(budgets[dataset_name].mean())\n",
    "    rope_list.append(rope_ground_truth_dict[dataset_name].mean())\n",
    "print(budget_list,rope_list)"
   ]
  },
  {
   "cell_type": "code",
   "execution_count": null,
   "metadata": {},
   "outputs": [],
   "source": [
    "dataset = SuperclassDataset.load_from_text('cifar100', CIFAR100_SUPERCLASS_LOOKUP)\n",
    "dataset.group(group_method = group_method)  \n",
    "deques = dataset.enqueue()"
   ]
  },
  {
   "cell_type": "code",
   "execution_count": null,
   "metadata": {},
   "outputs": [],
   "source": [
    "for i in deques:\n",
    "    print(len(i))\n",
    "CIFAR100_SUPERCLASS_LOOKUP = {class_: superclass for superclass, class_list in\n",
    "                              CIFAR100_REVERSE_SUPERCLASS_LOOKUP.items() for class_ in\n",
    "                              class_list}\n",
    "CIFAR100_SUPERCLASS_LOOKUP"
   ]
  },
  {
   "cell_type": "code",
   "execution_count": null,
   "metadata": {},
   "outputs": [],
   "source": [
    "dataset.num_groups"
   ]
  }
 ],
 "metadata": {
  "kernelspec": {
   "display_name": "Python 3",
   "language": "python",
   "name": "python3"
  },
  "language_info": {
   "codemirror_mode": {
    "name": "ipython",
    "version": 3
   },
   "file_extension": ".py",
   "mimetype": "text/x-python",
   "name": "python",
   "nbconvert_exporter": "python",
   "pygments_lexer": "ipython3",
   "version": "3.7.6"
  }
 },
 "nbformat": 4,
 "nbformat_minor": 4
}
