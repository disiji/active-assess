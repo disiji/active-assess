{
 "cells": [
  {
   "cell_type": "code",
   "execution_count": 5,
   "metadata": {},
   "outputs": [],
   "source": [
    "import argparse\n",
    "import pathlib\n",
    "import random\n",
    "from collections import deque\n",
    "from typing import List, Dict, Tuple, Union\n",
    "from data import Dataset, SuperclassDataset\n",
    "from data_utils import *\n",
    "from sampling import *\n",
    "from models import BetaBernoulli\n",
    "import matplotlib.pyplot as plt\n",
    "import numpy as np\n",
    "from tqdm import tqdm\n",
    "from utils import mean_reciprocal_rank\n",
    "import pickle\n",
    "%matplotlib inline  \n",
    "\n",
    "import matplotlib;matplotlib.rcParams['font.size'] = 10\n",
    "import matplotlib;matplotlib.rcParams['font.family'] = 'serif'\n",
    "LINEWIDTH = 13.97\n",
    "\n",
    "LOG_FREQ = 10\n",
    "method_list = ['random_data', \n",
    "               'random_data_informed', \n",
    "               'ts_informed']\n",
    "DATASET_LIST = ['cifar100', 'svhn', '20newsgroup', 'dbpedia'] #'imagenet', \n",
    "output_dir = pathlib.Path(\"../output/confusion_matrix\")"
   ]
  },
  {
   "cell_type": "code",
   "execution_count": 6,
   "metadata": {},
   "outputs": [],
   "source": [
    "metric = 'confusion_matrix' # 'ece', 'confusion_matrix'\n",
    "group_method = 'predicted_class'\n",
    "pseudocount = 1\n",
    "superclass = False #todo: superclass=true\n",
    "cost_matrix = None\n",
    "topk = 1\n",
    "\n",
    "# load results and compute ground truth\n",
    "ground_truth = {}\n",
    "weight_k = {}\n",
    "l2_error = {}\n",
    "logp = {} # log likelihood of each estimated confusion matrix under dirichlet distribution"
   ]
  },
  {
   "cell_type": "code",
   "execution_count": 11,
   "metadata": {
    "scrolled": true
   },
   "outputs": [],
   "source": [
    "for dataset_name in DATASET_LIST:\n",
    "    experiment_name = '%s_top%d_pseudocount%d' % (dataset_name, 1, 1)\n",
    "    ground_truth[dataset_name] = pickle.load(open(output_dir / experiment_name / \"ground_truth.pkl\", \"rb\"))  \n",
    "    l2_error[dataset_name] = pickle.load(open(output_dir / experiment_name / \"l2_error.pkl\", \"rb\"))  \n",
    "    logp[dataset_name] = pickle.load(open(output_dir / experiment_name / \"logp.pkl\", \"rb\"))"
   ]
  },
  {
   "cell_type": "markdown",
   "metadata": {},
   "source": [
    "# $L_2$"
   ]
  },
  {
   "cell_type": "code",
   "execution_count": 17,
   "metadata": {},
   "outputs": [
    {
     "data": {
      "text/plain": [
       "{'cifar100': {'random_data': array([[8.69496629e-01, 7.76317127e-01, 6.99477056e-01, ...,\n",
       "          9.78631614e-05, 9.78631616e-05, 9.78631618e-05],\n",
       "         [8.72564944e-01, 7.82952594e-01, 7.16014560e-01, ...,\n",
       "          9.78631613e-05, 9.78631616e-05, 9.78631618e-05],\n",
       "         [8.66230163e-01, 7.75034145e-01, 6.99876810e-01, ...,\n",
       "          9.78631614e-05, 9.78631616e-05, 9.78631618e-05],\n",
       "         ...,\n",
       "         [8.72861898e-01, 7.83447581e-01, 7.06310766e-01, ...,\n",
       "          9.78631613e-05, 9.78631616e-05, 9.78631618e-05],\n",
       "         [8.81477132e-01, 7.81270041e-01, 6.92449583e-01, ...,\n",
       "          9.78631613e-05, 9.78631616e-05, 9.78631618e-05],\n",
       "         [8.85535269e-01, 8.09982001e-01, 7.28588869e-01, ...,\n",
       "          9.78631614e-05, 9.78631616e-05, 9.78631618e-05]]),\n",
       "  'random_data_informed': array([[2.87049885e-02, 2.68342596e-02, 2.36369505e-02, ...,\n",
       "          6.97718351e-05, 6.97972218e-05, 6.98161472e-05],\n",
       "         [2.91856627e-02, 2.61121007e-02, 2.50647129e-02, ...,\n",
       "          6.97605630e-05, 6.97913967e-05, 6.98161472e-05],\n",
       "         [2.82025378e-02, 2.56712708e-02, 2.42393962e-02, ...,\n",
       "          6.97689034e-05, 6.97939456e-05, 6.98161472e-05],\n",
       "         ...,\n",
       "         [2.66298587e-02, 2.49194349e-02, 2.27596708e-02, ...,\n",
       "          6.97670218e-05, 6.97896935e-05, 6.98161472e-05],\n",
       "         [2.80962242e-02, 2.50649420e-02, 2.21148387e-02, ...,\n",
       "          6.97681070e-05, 6.97909800e-05, 6.98161472e-05],\n",
       "         [2.77854326e-02, 2.54716972e-02, 2.32977524e-02, ...,\n",
       "          6.97732035e-05, 6.97944827e-05, 6.98161472e-05]]),\n",
       "  'ts_informed': array([[2.38808373e-02, 1.94326347e-02, 1.59139008e-02, ...,\n",
       "          6.97985878e-05, 6.98077735e-05, 6.98161472e-05],\n",
       "         [2.41286237e-02, 1.93566494e-02, 1.57718969e-02, ...,\n",
       "          6.97985878e-05, 6.98077735e-05, 6.98161472e-05],\n",
       "         [2.38808373e-02, 1.93566494e-02, 1.57718969e-02, ...,\n",
       "          6.97984432e-05, 6.98077735e-05, 6.98161472e-05],\n",
       "         ...,\n",
       "         [2.39877518e-02, 1.95598929e-02, 1.58638576e-02, ...,\n",
       "          6.97984432e-05, 6.98080076e-05, 6.98161472e-05],\n",
       "         [2.42018671e-02, 1.91442987e-02, 1.59026108e-02, ...,\n",
       "          6.97984432e-05, 6.98077735e-05, 6.98161472e-05],\n",
       "         [2.38808373e-02, 1.91985713e-02, 1.58150824e-02, ...,\n",
       "          6.97984432e-05, 6.98080076e-05, 6.98161472e-05]]),\n",
       "  'diagonal': array(9.78633595e-05),\n",
       "  'ones': array(0.97049558),\n",
       "  'scores': array(0.08654822)}}"
      ]
     },
     "execution_count": 17,
     "metadata": {},
     "output_type": "execute_result"
    }
   ],
   "source": [
    "l2_error[dataset_name]"
   ]
  },
  {
   "cell_type": "code",
   "execution_count": 14,
   "metadata": {},
   "outputs": [
    {
     "ename": "KeyError",
     "evalue": "'random_data'",
     "output_type": "error",
     "traceback": [
      "\u001b[0;31m---------------------------------------------------------------------------\u001b[0m",
      "\u001b[0;31mKeyError\u001b[0m                                  Traceback (most recent call last)",
      "\u001b[0;32m<ipython-input-14-e347603a109f>\u001b[0m in \u001b[0;36m<module>\u001b[0;34m\u001b[0m\n\u001b[1;32m     12\u001b[0m \u001b[0;32mfor\u001b[0m \u001b[0mi\u001b[0m\u001b[0;34m,\u001b[0m \u001b[0mdataset_name\u001b[0m \u001b[0;32min\u001b[0m \u001b[0menumerate\u001b[0m\u001b[0;34m(\u001b[0m\u001b[0mDATASET_LIST\u001b[0m\u001b[0;34m)\u001b[0m\u001b[0;34m:\u001b[0m\u001b[0;34m\u001b[0m\u001b[0;34m\u001b[0m\u001b[0m\n\u001b[1;32m     13\u001b[0m     \u001b[0mstart\u001b[0m \u001b[0;34m=\u001b[0m \u001b[0;36m0\u001b[0m\u001b[0;34m\u001b[0m\u001b[0;34m\u001b[0m\u001b[0m\n\u001b[0;32m---> 14\u001b[0;31m     \u001b[0mnum_steps\u001b[0m \u001b[0;34m=\u001b[0m \u001b[0ml2_error\u001b[0m\u001b[0;34m[\u001b[0m\u001b[0mdataset_name\u001b[0m\u001b[0;34m]\u001b[0m\u001b[0;34m[\u001b[0m\u001b[0;34m'random_data'\u001b[0m\u001b[0;34m]\u001b[0m\u001b[0;34m.\u001b[0m\u001b[0mshape\u001b[0m\u001b[0;34m[\u001b[0m\u001b[0;36m1\u001b[0m\u001b[0;34m]\u001b[0m \u001b[0;34m-\u001b[0m \u001b[0;36m1\u001b[0m\u001b[0;34m\u001b[0m\u001b[0;34m\u001b[0m\u001b[0m\n\u001b[0m\u001b[1;32m     15\u001b[0m     \u001b[0mstepsize\u001b[0m \u001b[0;34m=\u001b[0m \u001b[0;36m1\u001b[0m\u001b[0;34m\u001b[0m\u001b[0;34m\u001b[0m\u001b[0m\n\u001b[1;32m     16\u001b[0m     \u001b[0;32mfor\u001b[0m \u001b[0mmethod_name\u001b[0m \u001b[0;32min\u001b[0m \u001b[0mmethod_format\u001b[0m\u001b[0;34m:\u001b[0m\u001b[0;34m\u001b[0m\u001b[0;34m\u001b[0m\u001b[0m\n",
      "\u001b[0;31mKeyError\u001b[0m: 'random_data'"
     ]
    },
    {
     "data": {
      "image/png": "[encoded data removed]",
      "text/plain": [
       "<Figure size 1005.84x216 with 4 Axes>"
      ]
     },
     "metadata": {
      "needs_background": "light"
     },
     "output_type": "display_data"
    }
   ],
   "source": [
    "# plot\n",
    "method_format = {#'random_arm': ('Random Arm', 'g', '.', '--'), \n",
    "                 'random_data': ('Random', 'b', '^', '--'), \n",
    "                 #'random_arm_informed': ('Random Arm Informed', 'g', '.', '-'), \n",
    "                 'random_data_informed': ('Random Informed', 'b', '^', '-'), \n",
    "                 #'ts_uniform': ('TS Symmetric', 'k', '*', '-'), \n",
    "                 'ts_informed': ('TS Informed', 'r', '+', '-'),}\n",
    "\n",
    "\n",
    "fig, axes = plt.subplots(nrows=1, ncols=len(DATASET_LIST), figsize=(LINEWIDTH,3),\n",
    "                        gridspec_kw = {'wspace':0.2, 'hspace':0.25})\n",
    "for i, dataset_name in enumerate(DATASET_LIST):\n",
    "    start = 0\n",
    "    num_steps = l2_error[dataset_name]['random_data'].shape[1] - 1\n",
    "    stepsize = 1\n",
    "    for method_name in method_format:\n",
    "        legend_name, color, marker, linestyle = method_format[method_name]    \n",
    "        xrange = np.arange(num_steps) * LOG_FREQ + LOG_FREQ\n",
    "        idx = np.arange(num_steps)[start:(start+num_steps)][::stepsize]   \n",
    "        axes[i].plot(xrange[idx], \n",
    "                 np.mean((l2_error[dataset_name][method_name]), axis=0)[idx], \n",
    "                 label=legend_name, linewidth=3, color=color, linestyle=linestyle)\n",
    "        axes[i].fill_between(xrange[idx], \n",
    "                         np.quantile(l2_error[dataset_name][method_name], 0.125, axis=0)[idx], \n",
    "                         np.quantile(l2_error[dataset_name][method_name], 0.875, axis=0)[idx], \n",
    "                         color=color, alpha=.2)\n",
    "        #plt.ylim([0, 0.3])\n",
    "    axes[i].set_xlabel('#Labeled')\n",
    "    axes[i].set_xscale('log')\n",
    "    axes[i].set_title(DATASET_NAMES[dataset_name])\n",
    "    axes[i].set_xlim(0,1000)\n",
    "    #axes[i].set_ylim(0,np.max(np.mean((l2_error[dataset_name]['random_data_informed']), axis=0)))\n",
    "axes[0].legend(fontsize=10, loc='upper right')\n",
    "axes[0].set_ylabel('$L_2$ Error')"
   ]
  },
  {
   "cell_type": "code",
   "execution_count": null,
   "metadata": {},
   "outputs": [],
   "source": [
    "method_format = {'random_data': ('Random', 'b', '^', '--'), \n",
    "                 'random_data_informed': ('Random Informed', 'b', '^', '-'), \n",
    "                 'ts_informed': ('TS Informed', 'r', '+', '-'),}\n",
    "for i, dataset_name in enumerate(DATASET_LIST):\n",
    "    print('\\n',dataset_name)\n",
    "    dataset = Dataset.load_from_text(dataset_name)\n",
    "    dataset.group(group_method = group_method)\n",
    "    num_params = dataset.num_groups ^ 2\n",
    "    N_list = [20,50,100]\n",
    "    for N in N_list:\n",
    "        N = max(int(N//10)*10, 10)\n",
    "        print(\"N, #params=(%d,%d) =======\" % (N,num_params))\n",
    "        for method_name in method_format:\n",
    "            print('%s: %.4f' % (method_name, l2_error[dataset_name][method_name][:, (N-LOG_FREQ)//LOG_FREQ].mean() / \\\n",
    "                 l2_error[dataset_name]['scores']))"
   ]
  },
  {
   "cell_type": "code",
   "execution_count": null,
   "metadata": {},
   "outputs": [],
   "source": [
    "dataset_print= {\n",
    "    'cifar100': 'CIFAR-100',\n",
    "    'svhn': 'SVHN',\n",
    "    '20newsgroup': '20 Newsgroups',\n",
    "    'dbpedia': 'DBpedia'\n",
    "}\n",
    "dataset_list = ['cifar100','svhn', '20newsgroup','dbpedia']\n",
    "method_format = {'random_data': ('Random', 'b', '^', '--'), \n",
    "                 'random_data_informed': ('Random Informed', 'b', '^', '-'), \n",
    "                 'ts_informed': ('TS Informed', 'r', '+', '-'),}\n",
    "Nlist = [10,100,500];\n",
    "\n",
    "print('\\\\begin{tabular}{@{}ccccccccccccccccc@{}}')\n",
    "print('\\\\toprule ')\n",
    "for dataset in dataset_list:\n",
    "    print('& \\phantom{a} &  \\multicolumn{3}{c}{%s}' % dataset_print[dataset])\n",
    "print('\\\\\\ ')\n",
    "for dataset in dataset_list:\n",
    "    print('& \\phantom{a} &  N=%d & N=%d & N=%d' % tuple(Nlist))\n",
    "print('\\\\\\ ')\n",
    "print('\\cmidrule{3-5} \\cmidrule{7-9} \\cmidrule{11-13} \\cmidrule{15-17}')\n",
    "\n",
    "for method in method_format:\n",
    "    method_name = method_format[method][0]\n",
    "    print('\\multicolumn{2}{c}{%15s}' % method_name, end = '')\n",
    "    \n",
    "    for dataset_name in dataset_list:\n",
    "        for N in N_list:\n",
    "            val = l2_error[dataset_name][method][:, (N-LOG_FREQ)//LOG_FREQ].mean() / \\\n",
    "                        l2_error[dataset_name]['scores']\n",
    "            print('& %4.1f  ' % (100 * val), end = '')\n",
    "            \n",
    "        if dataset_name != dataset_list[-1]:\n",
    "            print('&', end = '')\n",
    "    print('\\\\\\\\ \\n', end = '');\n",
    "print('\\\\bottomrule')\n",
    "print('\\\\end{tabular}')"
   ]
  },
  {
   "cell_type": "code",
   "execution_count": null,
   "metadata": {},
   "outputs": [],
   "source": [
    "dataset_print= {\n",
    "    'cifar100': 'CIFAR-100',\n",
    "    'svhn': 'SVHN',\n",
    "    '20newsgroup': '20 Newsgroups',\n",
    "    'dbpedia': 'DBpedia'\n",
    "}\n",
    "dataset_list = ['cifar100','svhn']\n",
    "#dataset_list = ['20newsgroup','dbpedia']\n",
    "method_format = {'random_data': ('Random Uninformative', 'b', '^', '--'), \n",
    "                 'random_data_informed': ('Random Informative', 'b', '^', '-'), \n",
    "                 'ts_informed': ('TS Informative', 'r', '+', '-'),}\n",
    "N_list = [20, 50, 100];\n",
    "\n",
    "print('\\\\begin{tabular}{@{}ccccccccc@{}}')\n",
    "print('\\\\toprule ')\n",
    "for dataset in dataset_list:\n",
    "    print('& \\phantom{a} &  \\multicolumn{3}{c}{%s}' % dataset_print[dataset])\n",
    "print('\\\\\\ ')\n",
    "print('\\cmidrule{3-5} \\cmidrule{7-9}')\n",
    "for dataset in dataset_list:\n",
    "    print('& \\phantom{a} &  N=%d & N=%d & N=%d' % tuple(Nlist))\n",
    "print('\\\\\\ \\\\midrule')\n",
    "\n",
    "for method in method_format:\n",
    "    method_name = method_format[method][0]\n",
    "    print('\\multicolumn{2}{c}{%20s}' % method_name, end = '')\n",
    "    \n",
    "    for dataset_name in dataset_list:\n",
    "        y = l2_error[dataset_name][method]/l2_error[dataset_name]['scores']\n",
    "        y = np.mean(y, axis=0)        \n",
    "        for N in N_list:\n",
    "            val = y[(N-LOG_FREQ)//LOG_FREQ]\n",
    "            print('& %.3f  ' % val, end = '')\n",
    "            \n",
    "        if dataset_name != dataset_list[-1]:\n",
    "            print('&', end = '')\n",
    "    print('\\\\\\\\ \\n', end = '');\n",
    "print('\\\\bottomrule')\n",
    "print('\\\\end{tabular}')"
   ]
  },
  {
   "cell_type": "code",
   "execution_count": null,
   "metadata": {},
   "outputs": [],
   "source": [
    "num_groups_dict = {}\n",
    "for dataset in DATASET_LIST:\n",
    "    if group_method == 'score_equal_size':\n",
    "        num_groups_dict[dataset] = 10\n",
    "    if group_method == 'predicted_class':\n",
    "        num_groups_dict[dataset] = NUM_CLASSES_DICT[dataset]"
   ]
  },
  {
   "cell_type": "code",
   "execution_count": null,
   "metadata": {},
   "outputs": [],
   "source": [
    "def print_narrow_table(dataset_list):\n",
    "    \n",
    "    N_list = [2, 5, 6, 7, 8,9, 10]\n",
    "    method_format = {'random_data': ('UPrior', 'b', '^', '--'), \n",
    "                     #'ts_uniform': ('UPrior+TS', 'b', '^', '--'), \n",
    "                     'random_data_informed': ('IPrior', 'b', '^', '-'), \n",
    "                     'ts_informed': ('IPrior+TS', 'r', '+', '-'),}\n",
    "    print('\\\\begin{tabular}{@{}ccccccc@{}}')\n",
    "    print('\\\\toprule ')\n",
    "    print('{N/K} & {N}', end = '')\n",
    "    for method in method_format:\n",
    "        print('& {%10s}' % method_format[method][0], end = '')\n",
    "    print('\\\\\\ ')\n",
    "    \n",
    "    for i, dataset_name in enumerate(dataset_list):\n",
    "        print('\\\\midrule')\n",
    "        for idx, N in enumerate(N_list):\n",
    "            if idx == 0:\n",
    "                name_string = DATASET_NAMES[dataset_name]\n",
    "            else:\n",
    "                name_string = ''\n",
    "            vals = []\n",
    "            for method in method_format:\n",
    "                y = l2_error[dataset_name][method]/l2_error[dataset_name]['scores']\n",
    "                y = np.mean(y, axis=0) \n",
    "                K = num_groups_dict[dataset_name]\n",
    "                num_samples = int(N*K)\n",
    "                vals.append(y[(num_samples-LOG_FREQ)//LOG_FREQ])\n",
    "            print('{%20s} & %d & %d & %.3f &%.3f &\\\\textbf{%.3f} \\\\\\\\ \\n' % \\\n",
    "                  (name_string, N, num_samples, vals[0], vals[1], vals[2]), end = '')\n",
    "    print('\\\\bottomrule')\n",
    "    print('\\\\end{tabular}')\n",
    "\n",
    "print_narrow_table(DATASET_LIST)"
   ]
  },
  {
   "cell_type": "code",
   "execution_count": null,
   "metadata": {},
   "outputs": [],
   "source": [
    "print(y)"
   ]
  },
  {
   "cell_type": "code",
   "execution_count": null,
   "metadata": {},
   "outputs": [],
   "source": [
    "for method in method_format:\n",
    "    method_name = method_format[method][0]\n",
    "    for dataset_name in dataset_list:\n",
    "        y = l2_error[dataset_name][method]/l2_error[dataset_name]['scores']\n",
    "        y = np.mean(y, axis=0)        \n",
    "        for N in N_list:\n",
    "            val = y[(N-LOG_FREQ)//LOG_FREQ]\n",
    "            print('====', method, dataset_name, (N-LOG_FREQ)//LOG_FREQ, val)\n",
    "        print(y.max())"
   ]
  },
  {
   "cell_type": "code",
   "execution_count": null,
   "metadata": {},
   "outputs": [],
   "source": [
    "# plot\n",
    "method_format = {#'random_arm': ('Random Arm', 'g', '.', '--'), \n",
    "                 #'random_data': ('Random', 'b', '^', '--'), \n",
    "                 #'random_arm_informed': ('Random Arm Informed', 'g', '.', '-'), \n",
    "                 'random_data_informed': ('Random Informative', 'b', '^', '-'), \n",
    "                 #'ts_uniform': ('TS Symmetric', 'k', '*', '-'), \n",
    "                 'ts_informed': ('TS Informative', 'r', '+', '-'),}\n",
    "\n",
    "\n",
    "fig, axes = plt.subplots(nrows=1, ncols=len(DATASET_LIST), figsize=(LINEWIDTH,2.2),\n",
    "                        gridspec_kw = {'wspace':0.2, 'hspace':0.25})\n",
    "for i, dataset_name in enumerate(DATASET_LIST):\n",
    "    start = 0\n",
    "    num_steps = l2_error[dataset_name]['ts_informed'].shape[1] - 1\n",
    "    stepsize = 1\n",
    "    for method_name in method_format:\n",
    "        legend_name, color, marker, linestyle = method_format[method_name]    \n",
    "        xrange = np.arange(num_steps) * LOG_FREQ + LOG_FREQ\n",
    "        idx = np.arange(num_steps)[start:(start+num_steps)][::stepsize]  \n",
    "        y = l2_error[dataset_name][method_name]/ l2_error[dataset_name]['scores']\n",
    "        eval_mean = np.mean(y, axis=0)\n",
    "        eval_upper = np.quantile(y, 0.875, axis=0)\n",
    "        eval_lower = np.quantile(y, 0.125, axis=0)\n",
    "        axes[i].plot(xrange[idx], \n",
    "                 eval_mean[idx], \n",
    "                 label=legend_name, linewidth=3, color=color, linestyle=linestyle)\n",
    "        axes[i].fill_between(xrange[idx], \n",
    "                         eval_lower[idx], \n",
    "                         eval_upper[idx], \n",
    "                         color=color, alpha=.2)\n",
    "        #plt.ylim([0, 0.3])\n",
    "    axes[i].set_xlabel('#Labeled')\n",
    "    axes[i].set_xscale('log')\n",
    "    #axes[i].set_yscale('log')\n",
    "    axes[i].set_title(DATASET_NAMES[dataset_name])\n",
    "axes[0].legend(fontsize=10, loc='upper right')\n",
    "axes[0].set_ylabel('$L_2$ Error')"
   ]
  },
  {
   "cell_type": "code",
   "execution_count": null,
   "metadata": {},
   "outputs": [],
   "source": [
    "l2_error[dataset_name]['diagonal'], l2_error[dataset_name]['ones']"
   ]
  },
  {
   "cell_type": "code",
   "execution_count": null,
   "metadata": {},
   "outputs": [],
   "source": [
    "difference.shape"
   ]
  },
  {
   "cell_type": "code",
   "execution_count": null,
   "metadata": {},
   "outputs": [],
   "source": [
    "(difference > 0).sum(), (difference < 0).sum(), difference.max(), difference.min()"
   ]
  },
  {
   "cell_type": "code",
   "execution_count": null,
   "metadata": {},
   "outputs": [],
   "source": [
    "from scipy.stats import wilcoxon\n",
    "for i, dataset_name in enumerate(['dbpedia']):\n",
    "    for n in [2,5,10]:\n",
    "        for (method_0, method_1) in [#('random_data', 'random_data_informed'),\\\n",
    "                                     # ('random_data_informed', 'ts_informed'),\\\n",
    "                                    ('random_data', 'ts_informed')]:\n",
    "            num_samples = n * num_groups_dict[dataset_name]\n",
    "            difference = (np.array(l2_error[dataset_name][method_0][:,(num_samples-LOG_FREQ)//LOG_FREQ]) - \\\n",
    "                                np.array(l2_error[dataset_name][method_1][:,(num_samples-LOG_FREQ)//LOG_FREQ])) \\\n",
    "                                        / l2_error[dataset_name]['scores']\n",
    "            w, p = wilcoxon(difference)\n",
    "            print(p)\n",
    "            #print(difference)\n",
    "            if p > 0.0000001:\n",
    "                print(dataset_name, n, method_0, method_1)"
   ]
  },
  {
   "cell_type": "code",
   "execution_count": null,
   "metadata": {},
   "outputs": [],
   "source": []
  },
  {
   "cell_type": "code",
   "execution_count": null,
   "metadata": {},
   "outputs": [],
   "source": []
  }
 ],
 "metadata": {
  "kernelspec": {
   "display_name": "Python 3",
   "language": "python",
   "name": "python3"
  },
  "language_info": {
   "codemirror_mode": {
    "name": "ipython",
    "version": 3
   },
   "file_extension": ".py",
   "mimetype": "text/x-python",
   "name": "python",
   "nbconvert_exporter": "python",
   "pygments_lexer": "ipython3",
   "version": "3.7.6"
  }
 },
 "nbformat": 4,
 "nbformat_minor": 4
}
